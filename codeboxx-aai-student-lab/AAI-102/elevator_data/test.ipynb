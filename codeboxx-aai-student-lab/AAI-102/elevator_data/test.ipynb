{
 "cells": [
  {
   "cell_type": "code",
   "execution_count": 4,
   "id": "ba708145-ce7c-47e7-8c7e-d0bb76ae7c02",
   "metadata": {},
   "outputs": [
    {
     "name": "stdout",
     "output_type": "stream",
     "text": [
      "LONDON\n"
     ]
    }
   ],
   "source": [
    "import pandas as pd \n",
    "import re\n",
    "\n",
    "def normalize_spaces(s: str) -> str:\n",
    "    return re.sub(r'\\s+', ' ', s).strip()\n",
    "    \n",
    "def get_last_word(s: str) -> str:\n",
    "    return s.strip().split()[-1] if s.strip() else ''\n",
    "    \n",
    "def get_nth_from_end(s: str, delimiter: str, n: int) -> str:\n",
    "    parts = s.split(delimiter)\n",
    "    return parts[-n] if 0 < n <= len(parts) else ''\n",
    "    \n",
    "def applytocol(df, colums):\n",
    "    for col in colums:\n",
    "        df['country'] =  get_last_word( col)\n",
    "        \n",
    "def applytostate(df, colums):\n",
    "    for col in colums:\n",
    "        col = col.strip()        \n",
    "        df['state'] =  get_nth_from_end( normalize_spaces(col) ,' ', 4)\n",
    "        \n",
    "def applytocity(df, colums):\n",
    "    for col in colums:\n",
    "        col = col.strip()        \n",
    "        df['city'] =  get_nth_from_end( normalize_spaces(col) ,' ', 5)\n",
    "\n",
    "test_address = \"      570 NELSON ST  LONDON N6B 0A2 ON CA\" \n",
    "print (get_nth_from_end(test_address,' ', 5) )\n"
   ]
  },
  {
   "cell_type": "code",
   "execution_count": null,
   "id": "6235c9cf-5e8e-482c-970e-809606558203",
   "metadata": {},
   "outputs": [],
   "source": []
  }
 ],
 "metadata": {
  "kernelspec": {
   "display_name": "Python 3 (ipykernel)",
   "language": "python",
   "name": "python3"
  },
  "language_info": {
   "codemirror_mode": {
    "name": "ipython",
    "version": 3
   },
   "file_extension": ".py",
   "mimetype": "text/x-python",
   "name": "python",
   "nbconvert_exporter": "python",
   "pygments_lexer": "ipython3",
   "version": "3.12.7"
  }
 },
 "nbformat": 4,
 "nbformat_minor": 5
}
