{
 "cells": [
  {
   "cell_type": "markdown",
   "id": "11bf966b-4494-4c3f-9916-2853a85de289",
   "metadata": {},
   "source": [
    "# 🏆 Pandas Practice Worksheet: Putting the Tutorials Into Action 🚀\n",
    "\n",
    "Welcome to your **hands-on** Pandas workout! This worksheet will guide you through **core Pandas skills**, all derived from the tutorials you’ve just studied. \n",
    "\n",
    "**Happy Data Wrangling!** 🎉\n",
    "\n",
    "**Enjoy your worksheet!** Feel free to adapt any steps based on your actual dataset’s needs (e.g., skip time series if no date column exists). Above all, **have fun** exploring and remember: **the best way to learn Pandas is by doing**!"
   ]
  },
  {
   "cell_type": "markdown",
   "id": "e4f824fe-4cbd-4bbb-b670-836437d8819c",
   "metadata": {},
   "source": [
    "## 💡 Step 0: Choose & Download a Dataset\n",
    "Head over to the **[Google Dataset Search Engine](https://datasetsearch.research.google.com/)** and pick a dataset that intrigues you! Aim for a **CSV or Excel** file with **at least a few columns**—and ideally one or two interesting features to explore.\n",
    "\n",
    "> **Suggested Datasets (Just Ideas!)**  \n",
    "> - **World Happiness Report**  \n",
    "> - **Global Earthquakes** (USGS)  \n",
    "> - **IMDb Movies / TV Shows**  \n",
    "> - **Weather Data** (NOAA)  \n",
    "> - **Spotify / Music Streaming** Statistics  \n",
    ">\n",
    "> Feel free to pick **any** dataset that piques your curiosity—just make sure it’s not **Titanic** or **Air Quality** so you can practice on something fresh!"
   ]
  },
  {
   "cell_type": "markdown",
   "id": "af1a2c8f-0c7e-4d3d-a84c-d13618184773",
   "metadata": {},
   "source": [
    "## 📥 Step 1: Import Pandas & Load Your Data\n",
    "1. Import **pandas** (as `pd`) and optionally **matplotlib** for plotting.\n",
    "2. Load your dataset using either `pd.read_csv(...)` or `pd.read_excel(...)`.\n",
    "3. Preview the **first few rows** with `.head()`, and **last few rows** with `.tail()`.\n",
    "\n",
    "<details>\n",
    "<summary>Example Code Snippet</summary>\n",
    "\n",
    "```python\n",
    "import pandas as pd\n",
    "import matplotlib.pyplot as plt  # optional, only if you plan to do plots\n",
    "\n",
    "# Replace the file name/path below with your actual data\n",
    "df = pd.read_csv(\"your_dataset.csv\")\n",
    "\n",
    "df.head()\n",
    "\n",
    "```\n"
   ]
  },
  {
   "cell_type": "code",
   "execution_count": 1,
   "id": "ce2f7ede-af22-4573-bfa1-d80b38c70231",
   "metadata": {},
   "outputs": [],
   "source": [
    "import pandas as pd\n",
    "import matplotlib as plt"
   ]
  },
  {
   "cell_type": "markdown",
   "id": "59d6402c-5aed-44db-9776-907596290ba7",
   "metadata": {},
   "source": [
    "## 🔍 Step 3: Selecting Data (Subsets of Rows & Columns)\n",
    "\n",
    "1.  **Select a single column** (e.g., `df[\"ColumnName\"]`).\n",
    "2.  **Select multiple columns** at once (e.g., `df[[\"ColA\", \"ColB\"]]`).\n",
    "3.  Use **boolean indexing** to filter rows (e.g., `df[df[\"ColA\"] > 100]`).\n",
    "4.  Try combining conditions with `&` (AND) or `|` (OR).\n",
    "\n",
    "-   Use **`.loc[]`** or **`.iloc[]`** to grab a specific subset, e.g., rows 10–20 and columns 2–4.\n",
    "-   Find all rows that match a certain condition (e.g., a specific category or numeric threshold)."
   ]
  },
  {
   "cell_type": "markdown",
   "id": "4938abfa-b0b3-4436-9b86-12b5bfe34c2a",
   "metadata": {},
   "source": [
    "## ➕ Step 5: Creating & Renaming Columns\n",
    "\n",
    "1.  **Create a new column** that is derived from existing columns (e.g., a ratio, difference, or sum).\n",
    "2.  If your dataset has no numeric columns to combine, try a **string** operation (e.g., combining first and last name).\n",
    "3.  **Rename columns** with `df.rename(columns={\"OldName\": \"NewName\"})`.\n",
    "\n",
    "```python\n",
    "# Creating a new column based on a formula\n",
    "df[\"NewColumn\"] = df[\"ExistingNumColumn\"] * 3.14\n",
    "\n",
    "# Renaming columns\n",
    "df = df.rename(columns={\"OldColumn\": \"BetterName\"})"
   ]
  },
  {
   "cell_type": "markdown",
   "id": "6721e096-e17b-4a80-ae9c-5a0ba5613419",
   "metadata": {},
   "source": [
    "## 📊 Step 6: Summary Statistics & Grouping\n",
    "\n",
    "1.  Calculate basic **aggregations** like `.mean()`, `.median()`, or `.count()` on your numeric columns.\n",
    "2.  Try **grouping** by a categorical column with `.groupby(\"SomeCategory\").mean()`.\n",
    "3.  Use `.value_counts()` on a categorical column to see the frequency of each category.\n",
    "\n",
    "-   Which category has the highest **mean** or **count**?\n",
    "-   Are there any surprising or interesting **groups** in your data?"
   ]
  },
  {
   "cell_type": "markdown",
   "id": "90591f1e-bc36-4484-9f9a-c2e25a1db95b",
   "metadata": {},
   "source": [
    "## ♻️ Step 7: Reshaping (Pivot, Melt) (If Applicable)\n",
    "\n",
    "If your dataset is “**wide**” or “**long**” and you want to **reshape** it:\n",
    "\n",
    "1.  Use `df.pivot()` or `df.pivot_table(...)` to transform your data from long to wide format.\n",
    "2.  Use `df.melt(...)` to go from wide to long format.\n",
    "3.  If it doesn’t make sense for your current dataset, just read about it for future reference!\n",
    "\n",
    "-   `pivot_table` can **aggregate** data if you have duplicates or if you want a group-wise summary.\n",
    "-   `melt` is great for turning multiple columns into a single “value” column with a new “variable” column.\n"
   ]
  },
  {
   "cell_type": "markdown",
   "id": "d7c61c6a-4178-42d9-9075-45697eb03cf1",
   "metadata": {},
   "source": [
    "## 🔗 Step 8: Combining Data (Concat & Merge) (Optional)\n",
    "\n",
    "If you find a **second** dataset on Google that relates to your first one:\n",
    "\n",
    "1.  Use `pd.concat([df1, df2])` to stack them vertically if they have the **same columns**.\n",
    "2.  Use `pd.merge(df1, df2, on=\"common_column\")` to join them on a **shared key**.\n",
    "\n",
    "-   Could you combine your main dataset with a small **lookup table** or metadata?\n",
    "-   Check out the differences between `\"inner\"`, `\"left\"`, `\"right\"`, or `\"outer\"` merges."
   ]
  },
  {
   "cell_type": "markdown",
   "id": "d026ade4-0535-4243-8a88-7b86fc3a0876",
   "metadata": {},
   "source": [
    "## ⏰ Step 9: Time Series Fun (If Applicable)\n",
    "\n",
    "If your dataset contains **dates**:\n",
    "\n",
    "1.  Convert the date column to **datetime** using `pd.to_datetime()`.\n",
    "2.  Set the date column as your index with `df.set_index(\"DateColumn\", inplace=True)`.\n",
    "3.  Try **resampling** or **grouping by** a time component:\n",
    "    \n",
    "    ```python\n",
    "    df.resample(\"M\").mean()  # monthly frequency\n",
    "    df.resample(\"W\").sum()   # weekly sum\n",
    "    \n",
    "    ```\n",
    "    \n",
    "4.  Slice by date range (e.g. `df[\"2021-01\":\"2021-03\"]`)."
   ]
  },
  {
   "cell_type": "markdown",
   "id": "05d540d6-ffb7-41ea-8e54-de67ef57f502",
   "metadata": {},
   "source": [
    "## 🔤 Step 10: Text Manipulations\n",
    "\n",
    "If you have **string columns**, try a few **`.str`** operations:\n",
    "\n",
    "1.  Convert all text to **lowercase**: `df[\"TextCol\"].str.lower()`.\n",
    "2.  Check if the column **contains** a specific word: `df[\"TextCol\"].str.contains(\"keyword\")`.\n",
    "3.  **Split** text on a delimiter: `df[\"TextCol\"].str.split(\",\")`.\n",
    "4.  **Replace** certain values or strings using `df.replace({\"old\": \"new\"})` or `df[\"TextCol\"].str.replace(...)`."
   ]
  },
  {
   "cell_type": "markdown",
   "id": "b3f22fe1-8917-43c3-91a6-ef366ccb2c46",
   "metadata": {},
   "source": [
    "## 💾 Step 11: Exporting Your Cleaned Data\n",
    "\n",
    "1.  Save your **DataFrame** to a CSV file:\n",
    "    \n",
    "    ```python\n",
    "    df.to_csv(\"my_cleaned_data.csv\", index=False)\n",
    "    \n",
    "    ```\n",
    "    \n",
    "2.  Or save to an Excel spreadsheet:\n",
    "    \n",
    "    ```python\n",
    "    df.to_excel(\"my_cleaned_data.xlsx\", sheet_name=\"Sheet1\", index=False)\n",
    "    "
   ]
  },
  {
   "cell_type": "markdown",
   "id": "d7e27de0-dd65-445c-b369-1bd9eb7cd4fd",
   "metadata": {},
   "source": [
    "## 🎉 Step 12: Wrap-Up & Reflection\n",
    "\n",
    "-   **What was the most challenging** aspect of working with your dataset?\n",
    "-   **Which method** or step do you feel you need more practice with?\n",
    "-   **Any surprising findings** from your data analysis?\n",
    "\n",
    "> **Congratulations** on completing this worksheet! By practicing each step, you’ve covered the **core Pandas functionalities**:\n",
    "\n",
    "1.  **Reading & Writing** data\n",
    "2.  **Selecting & Filtering** data\n",
    "3.  **Plotting**\n",
    "4.  **Creating & Renaming** columns\n",
    "5.  **Summary Stats & Grouping**\n",
    "6.  **Reshaping** data (pivot, melt)\n",
    "7.  **Combining** datasets (concat, merge)\n",
    "8.  **Handling Datetimes**\n",
    "9.  **Text manipulations**\n",
    "\n",
    "Now you have a solid foundation to explore **even more** of Pandas and apply your new skills to real-world data challenges!"
   ]
  },
  {
   "cell_type": "markdown",
   "id": "1287b4fe-f6ec-4585-a479-542073a5dfc7",
   "metadata": {},
   "source": [
    "## 🙌 Next Steps\n",
    "\n",
    "-   Consider creating visualizations or dashboards using libraries like **Seaborn**, **Plotly**, or **Matplotlib**.\n",
    "-   Practice making your analyses **repeatable** and **shareable** in a **Jupyter Notebook** or **GitHub repo**.\n",
    "-   Keep experimenting with new datasets—**the more variety, the better** your skills become.\n"
   ]
  },
  {
   "cell_type": "markdown",
   "id": "2ed00399-6b72-426c-82c2-553f54b4d95e",
   "metadata": {},
   "source": []
  },
  {
   "cell_type": "code",
   "execution_count": null,
   "id": "c88fff6e-f0af-4f8f-8dd5-05de83fe7c86",
   "metadata": {},
   "outputs": [],
   "source": []
  }
 ],
 "metadata": {
  "kernelspec": {
   "display_name": "Python 3 (ipykernel)",
   "language": "python",
   "name": "python3"
  },
  "language_info": {
   "codemirror_mode": {
    "name": "ipython",
    "version": 3
   },
   "file_extension": ".py",
   "mimetype": "text/x-python",
   "name": "python",
   "nbconvert_exporter": "python",
   "pygments_lexer": "ipython3",
   "version": "3.12.2"
  }
 },
 "nbformat": 4,
 "nbformat_minor": 5
}
