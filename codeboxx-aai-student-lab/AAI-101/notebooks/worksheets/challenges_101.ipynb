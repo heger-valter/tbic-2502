{
 "cells": [
  {
   "cell_type": "markdown",
   "id": "52b85277",
   "metadata": {
    "editable": true,
    "slideshow": {
     "slide_type": ""
    },
    "tags": []
   },
   "source": [
    "# **Exploring Pandas: Common Data Operations**\n",
    "\n",
    "Welcome to this Jupyter Notebook! 🚀 In this notebook, you'll practice some of the most commonly used operations in the **Pandas** library using **two datasets**:\n",
    "1. **../../data/students.csv** (CSV)\n",
    "2. **../../data/enrollments.json** (JSON)\n",
    "\n",
    "These files should be placed in the same folder as this notebook. By the end, you'll have a strong grasp of common data manipulation tasks, and you'll even merge these two datasets on a common key.\n",
    "\n",
    "Before starting, make sure you have **Pandas** installed. (It should come preinstalled in Anaconda!)\n",
    "\n",
    "If pandas is not installed, follow the instructions below.\n",
    "\n",
    "---\n",
    "\n",
    "## **Checking if Pandas is Installed in Your Conda Environment**\n",
    "\n",
    "Before proceeding, check if Pandas is installed in your Conda environment by running the following command in a **Jupyter Notebook** cell:"
   ]
  },
  {
   "cell_type": "code",
   "execution_count": 1,
   "id": "a070d316",
   "metadata": {},
   "outputs": [
    {
     "name": "stdout",
     "output_type": "stream",
     "text": [
      "2.2.3\n"
     ]
    }
   ],
   "source": [
    "import pandas as pd\n",
    "print(pd.__version__)"
   ]
  },
  {
   "cell_type": "markdown",
   "id": "692ffe7d",
   "metadata": {},
   "source": [
    "If this runs without errors and prints a version number, Pandas is installed. If you see an **ImportError**, install Pandas using one of the following methods:\n",
    "\n",
    "### **For Conda Users (Recommended)**\n",
    "Run this in your terminal or Anaconda Prompt:\n",
    "```\n",
    "conda install pandas\n",
    "```\n",
    "\n",
    "### **Using Conda-Forge (If Needed)**\n",
    "If you encounter issues, you can install Pandas from **Conda-Forge**, a community-maintained repository with up-to-date packages:\n",
    "```\n",
    "conda install -c conda-forge pandas\n",
    "```\n",
    "\n",
    "### **For Pip Users**\n",
    "If you're using a virtual environment outside Conda, install Pandas via Pip:\n",
    "```\n",
    "pip install pandas\n",
    "```\n",
    "\n",
    "# Now, let’s dive in! 🏊‍♂️\n",
    "\n",
    "---\n"
   ]
  },
  {
   "cell_type": "markdown",
   "id": "081fc09d",
   "metadata": {},
   "source": [
    "## **1. Load a CSV file into a Pandas DataFrame**\n",
    "\n",
    "First, let's **import Pandas** and load the datasets. Two datasets have been prepared for you:\n",
    "\n",
    "- `students.csv`\n",
    "- `enrollments.json`\n",
    "\n",
    "You will use these two datasets for the following challenges.\n",
    "\n",
    "**💡 Hint:** If the file is in the same directory as your notebook, you can just use the filename. Otherwise, provide the full file path.\n"
   ]
  },
  {
   "cell_type": "code",
   "execution_count": 2,
   "id": "9e28b9e3",
   "metadata": {
    "lines_to_next_cell": 2
   },
   "outputs": [
    {
     "name": "stdout",
     "output_type": "stream",
     "text": [
      "    student_id First_Name last_name  Birthddate gender        majorField  \\\n",
      "0       STU001       John       Doe   4/12/1998      M  Computer Science   \n",
      "1       STU002      Maria  Gonzalez    9/5/1997      F           Biology   \n",
      "2       STU003      Priya     Patel   1/23/1999      F       Engineering   \n",
      "3       STU004       Alex   Johnson  12/15/1996      M       Mathematics   \n",
      "4       STU005      Emily     Smith   7/30/2000      F           Physics   \n",
      "..         ...        ...       ...         ...    ...               ...   \n",
      "98      STU096   Victoria     Ortiz    8/2/1996      F       Mathematics   \n",
      "99      STU097     Julian    Foster    9/3/1998      M           Physics   \n",
      "100     STU098       Lucy   Ramirez   10/4/1997      F         Chemistry   \n",
      "101     STU099     Isaiah       Kim   11/5/1999      M         Economics   \n",
      "102     STU100     Amelia     Lopez   12/6/1996      F           History   \n",
      "\n",
      "    admission_year  current gpa               contact_email  mobile number  \\\n",
      "0             2020          3.5        john.doe@example.com         -655.0   \n",
      "1             2019          3.8  maria.gonzalez@example.com         -656.0   \n",
      "2             2021          3.7     priya.patel@example.com         -657.0   \n",
      "3             2018          3.2    alex.johnson@example.com            NaN   \n",
      "4             2022          3.9     emily.smith@example.com         -659.0   \n",
      "..             ...          ...                         ...            ...   \n",
      "98            2020          3.7  victoria.ortiz@example.com         -750.0   \n",
      "99            2022          3.8   julian.foster@example.com         -751.0   \n",
      "100           2019          3.9    lucy.ramirez@example.com         -752.0   \n",
      "101           2021          3.2      isaiah.kim@example.com         -753.0   \n",
      "102           2020          3.3    amelia.lopez@example.com         -754.0   \n",
      "\n",
      "     home_city HOME COUNTRY  \n",
      "0        Tampa          USA  \n",
      "1       London           UK  \n",
      "2       Mumbai        India  \n",
      "3       Sydney    Australia  \n",
      "4     New York          USA  \n",
      "..         ...          ...  \n",
      "98     Concord          USA  \n",
      "99      Toledo          USA  \n",
      "100  St. Louis          USA  \n",
      "101    Orlando          USA  \n",
      "102    Raleigh          USA  \n",
      "\n",
      "[103 rows x 12 columns]\n"
     ]
    }
   ],
   "source": [
    "import pandas as pd \n",
    "df =pd.read_csv('../../data/students.csv' )\n",
    "print(df)"
   ]
  },
  {
   "cell_type": "code",
   "execution_count": 3,
   "id": "2f79dccb-ed26-46d4-bd25-44d60ee1e8c9",
   "metadata": {
    "lines_to_next_cell": 2
   },
   "outputs": [
    {
     "name": "stdout",
     "output_type": "stream",
     "text": [
      "               enrollment_id stud_ref_id subject_code           course_title  \\\n",
      "0    ENR-STU001-MATH101-AB12      STU001      MATH101             Calculus I   \n",
      "1     ENR-STU002-ENG201-CD34      STU002       ENG201     English Literature   \n",
      "2      ENR-STU003-CS301-EF56      STU003        CS301        Programming 101   \n",
      "3    ENR-STU004-HIST105-GH78      STU004      HIST105          World History   \n",
      "4    ENR-STU005-CHEM110-IJ90      STU005      CHEM110      Organic Chemistry   \n",
      "..                       ...         ...          ...                    ...   \n",
      "96   ENR-STU097-MATH101-MN34      STU097      MATH101             Calculus I   \n",
      "97    ENR-STU098-ENG201-OP56      STU098       ENG201     English Literature   \n",
      "98     ENR-STU099-CS301-QR78      STU099        CS301        Programming 101   \n",
      "99   ENR-STU100-HIST105-ST90      STU100      HIST105          World History   \n",
      "100  ENR-STU004-HIST999-DUP1      STU004      HIST999  Ancient Civilizations   \n",
      "\n",
      "    instructor_name  enroll_count term_offered course_fee final_result  \\\n",
      "0         Dr. Smith            25  Spring 2026       1000            A   \n",
      "1       Prof. Brown            26    Fall 2025       1100            B   \n",
      "2        Dr. Taylor            27  Spring 2026       1200           C+   \n",
      "3           Dr. Lee            28    Fall 2025       1300           B+   \n",
      "4         Dr. Kumar            29  Spring 2026       1400           B-   \n",
      "..              ...           ...          ...        ...          ...   \n",
      "96        Dr. Smith            30  Spring 2026       1500            A   \n",
      "97      Prof. Brown            31    Fall 2025       1600            B   \n",
      "98       Dr. Taylor            25  Spring 2026       1000           C+   \n",
      "99          Dr. Lee            26    Fall 2025       1100           B+   \n",
      "100     Prof. Brown            99    Fall 2023        NaN                \n",
      "\n",
      "     attend_percentage date_enrolled  \n",
      "0                   71    2026/01/15  \n",
      "1                   72    2025-09-01  \n",
      "2                   73    2026/01/15  \n",
      "3                   74    2025/09/01  \n",
      "4                   75    2026-01-15  \n",
      "..                 ...           ...  \n",
      "96                  83    2026-01-15  \n",
      "97                  84    2025-09-01  \n",
      "98                  85    2026-01-15  \n",
      "99                  86    2025-09-01  \n",
      "100                 67    2023-09-01  \n",
      "\n",
      "[101 rows x 11 columns]\n",
      "       enroll_count  attend_percentage\n",
      "count    101.000000         101.000000\n",
      "mean      28.653465          79.633663\n",
      "std        7.350423           6.009530\n",
      "min       25.000000          67.000000\n",
      "25%       26.000000          75.000000\n",
      "50%       28.000000          80.000000\n",
      "75%       30.000000          85.000000\n",
      "max       99.000000          90.000000\n"
     ]
    }
   ],
   "source": [
    "import pandas as pd \n",
    "de=pd.read_json('../../data/enrollments.json')\n",
    "print(de)\n",
    "print(de.describe())"
   ]
  },
  {
   "cell_type": "markdown",
   "id": "bb23c619",
   "metadata": {},
   "source": [
    "## **2. View the First and Last Few Rows of Each DataFrame**\n",
    "\n",
    "Check out how your data looks. One method previews the first few records, while another method previews the last few. You can specify the number of rows you want to see by explicitly passing an integer argument.\n",
    "\n",
    "**📝 Tip:** This is a great time to confirm that columns loaded correctly and to spot any obvious data issues (strange values, mismatched columns, etc.)."
   ]
  },
  {
   "cell_type": "code",
   "execution_count": 76,
   "id": "ba59705d",
   "metadata": {
    "lines_to_next_cell": 2
   },
   "outputs": [
    {
     "name": "stdout",
     "output_type": "stream",
     "text": [
      "  student_id First_Name last_name Birthddate gender        majorField  \\\n",
      "0     STU001       John       Doe  4/12/1998      M  Computer Science   \n",
      "\n",
      "  admission_year  current gpa         contact_email  mobile number home_city  \\\n",
      "0           2020          3.5  john.doe@example.com         -655.0     Tampa   \n",
      "\n",
      "  HOME COUNTRY  \n",
      "0          USA  \n"
     ]
    }
   ],
   "source": [
    "print(df.head(1))"
   ]
  },
  {
   "cell_type": "code",
   "execution_count": 77,
   "id": "7c09cb9c",
   "metadata": {
    "lines_to_next_cell": 2
   },
   "outputs": [
    {
     "name": "stdout",
     "output_type": "stream",
     "text": [
      "student_id                          STU100\n",
      "First_Name                          Amelia\n",
      "last_name                            Lopez\n",
      "Birthddate                       12/6/1996\n",
      "gender                                   F\n",
      "majorField                         History\n",
      "admission_year                        2020\n",
      "current gpa                            3.3\n",
      "contact_email     amelia.lopez@example.com\n",
      "mobile number                       -754.0\n",
      "home_city                          Raleigh\n",
      "HOME COUNTRY                           USA\n",
      "Name: 102, dtype: object\n"
     ]
    }
   ],
   "source": [
    "print(df.iloc[-1])\n"
   ]
  },
  {
   "cell_type": "code",
   "execution_count": 78,
   "id": "0752625a",
   "metadata": {
    "lines_to_next_cell": 2
   },
   "outputs": [
    {
     "name": "stdout",
     "output_type": "stream",
     "text": [
      "               enrollment_id stud_ref_id subject_code           course_title  \\\n",
      "100  ENR-STU004-HIST999-DUP1      STU004      HIST999  Ancient Civilizations   \n",
      "\n",
      "    instructor_name  enroll_count term_offered course_fee final_result  \\\n",
      "100     Prof. Brown            99    Fall 2023        NaN                \n",
      "\n",
      "     attend_percentage date_enrolled  \n",
      "100                 67    2023-09-01  \n"
     ]
    }
   ],
   "source": [
    "print(de.tail(1))"
   ]
  },
  {
   "cell_type": "code",
   "execution_count": 79,
   "id": "023f34d2",
   "metadata": {},
   "outputs": [
    {
     "name": "stdout",
     "output_type": "stream",
     "text": [
      "enrollment_id        ENR-STU004-HIST999-DUP1\n",
      "stud_ref_id                           STU004\n",
      "subject_code                         HIST999\n",
      "course_title           Ancient Civilizations\n",
      "instructor_name                  Prof. Brown\n",
      "enroll_count                              99\n",
      "term_offered                       Fall 2023\n",
      "course_fee                               NaN\n",
      "final_result                                \n",
      "attend_percentage                         67\n",
      "date_enrolled                     2023-09-01\n",
      "Name: 100, dtype: object\n"
     ]
    }
   ],
   "source": [
    "print(de.iloc[-1])"
   ]
  },
  {
   "cell_type": "markdown",
   "id": "d831b3ca",
   "metadata": {},
   "source": [
    "## **3. Check the Shape of Each DataFrame**\n",
    "\n",
    "To understand the **size** of your dataset(s), use the attribute that returns `(number_of_rows, number_of_columns)`.\n",
    "\n",
    "**📝 Tip:** Note any big differences in row counts that might affect merging later.\n"
   ]
  },
  {
   "cell_type": "code",
   "execution_count": 87,
   "id": "013abc56",
   "metadata": {
    "lines_to_next_cell": 2
   },
   "outputs": [
    {
     "name": "stdout",
     "output_type": "stream",
     "text": [
      "(103, 12)\n",
      "103\n"
     ]
    }
   ],
   "source": [
    "print(df.shape)\n",
    "num_rows=len(df)\n",
    "print (num_rows)\n"
   ]
  },
  {
   "cell_type": "code",
   "execution_count": 89,
   "id": "1bb8e075",
   "metadata": {},
   "outputs": [
    {
     "name": "stdout",
     "output_type": "stream",
     "text": [
      "(101, 11)\n",
      "             enrollment_id stud_ref_id subject_code course_title  \\\n",
      "0  ENR-STU001-MATH101-AB12      STU001      MATH101   Calculus I   \n",
      "\n",
      "  instructor_name  enroll_count term_offered course_fee final_result  \\\n",
      "0       Dr. Smith            25  Spring 2026       1000            A   \n",
      "\n",
      "   attend_percentage date_enrolled  \n",
      "0                 71    2026/01/15  \n",
      "1\n"
     ]
    }
   ],
   "source": [
    "print(de.shape)\n",
    "print( de.head(1))\n",
    "print(len(de.head(1)))\n",
    "\n"
   ]
  },
  {
   "cell_type": "markdown",
   "id": "b716bb85",
   "metadata": {},
   "source": [
    "## **4. Get a Summary of Each DataFrame**\n",
    "\n",
    "Explore one or two approaches that provide:\n",
    "\n",
    "-   **Column names**\n",
    "-   **Data types**\n",
    "-   **Basic statistics about numerical columns**\n",
    "-   **Number of non-null values**\n",
    "\n",
    "**📝 Tip:** One approach might give an overview of columns and data types; another might summarize numerical columns. This step helps you detect columns that might need cleaning."
   ]
  },
  {
   "cell_type": "code",
   "execution_count": 90,
   "id": "54e294b7",
   "metadata": {
    "lines_to_next_cell": 2
   },
   "outputs": [
    {
     "name": "stdout",
     "output_type": "stream",
     "text": [
      "Empty DataFrame\n",
      "Columns: [enrollment_id, stud_ref_id, subject_code, course_title, instructor_name, enroll_count, term_offered, course_fee, final_result, attend_percentage, date_enrolled]\n",
      "Index: []\n"
     ]
    }
   ],
   "source": [
    "print( de.head(0))"
   ]
  },
  {
   "cell_type": "code",
   "execution_count": 93,
   "id": "ab9c1939",
   "metadata": {
    "lines_to_next_cell": 2
   },
   "outputs": [
    {
     "name": "stdout",
     "output_type": "stream",
     "text": [
      "enrollment_id        object\n",
      "stud_ref_id          object\n",
      "subject_code         object\n",
      "course_title         object\n",
      "instructor_name      object\n",
      "enroll_count          int64\n",
      "term_offered         object\n",
      "course_fee           object\n",
      "final_result         object\n",
      "attend_percentage     int64\n",
      "date_enrolled        object\n",
      "dtype: object\n",
      "<bound method DataFrame.info of     student_id First_Name last_name  Birthddate gender        majorField  \\\n",
      "0       STU001       John       Doe   4/12/1998      M  Computer Science   \n",
      "1       STU002      Maria  Gonzalez    9/5/1997      F           Biology   \n",
      "2       STU003      Priya     Patel   1/23/1999      F       Engineering   \n",
      "3       STU004       Alex   Johnson  12/15/1996      M       Mathematics   \n",
      "4       STU005      Emily     Smith   7/30/2000      F           Physics   \n",
      "..         ...        ...       ...         ...    ...               ...   \n",
      "98      STU096   Victoria     Ortiz    8/2/1996      F       Mathematics   \n",
      "99      STU097     Julian    Foster    9/3/1998      M           Physics   \n",
      "100     STU098       Lucy   Ramirez   10/4/1997      F         Chemistry   \n",
      "101     STU099     Isaiah       Kim   11/5/1999      M         Economics   \n",
      "102     STU100     Amelia     Lopez   12/6/1996      F           History   \n",
      "\n",
      "    admission_year  current gpa               contact_email  mobile number  \\\n",
      "0             2020          3.5        john.doe@example.com         -655.0   \n",
      "1             2019          3.8  maria.gonzalez@example.com         -656.0   \n",
      "2             2021          3.7     priya.patel@example.com         -657.0   \n",
      "3             2018          3.2    alex.johnson@example.com            NaN   \n",
      "4             2022          3.9     emily.smith@example.com         -659.0   \n",
      "..             ...          ...                         ...            ...   \n",
      "98            2020          3.7  victoria.ortiz@example.com         -750.0   \n",
      "99            2022          3.8   julian.foster@example.com         -751.0   \n",
      "100           2019          3.9    lucy.ramirez@example.com         -752.0   \n",
      "101           2021          3.2      isaiah.kim@example.com         -753.0   \n",
      "102           2020          3.3    amelia.lopez@example.com         -754.0   \n",
      "\n",
      "     home_city HOME COUNTRY  \n",
      "0        Tampa          USA  \n",
      "1       London           UK  \n",
      "2       Mumbai        India  \n",
      "3       Sydney    Australia  \n",
      "4     New York          USA  \n",
      "..         ...          ...  \n",
      "98     Concord          USA  \n",
      "99      Toledo          USA  \n",
      "100  St. Louis          USA  \n",
      "101    Orlando          USA  \n",
      "102    Raleigh          USA  \n",
      "\n",
      "[103 rows x 12 columns]>\n"
     ]
    }
   ],
   "source": [
    "print(de.dtypes)\n",
    "print(df.info)"
   ]
  },
  {
   "cell_type": "code",
   "execution_count": 92,
   "id": "08f3cba4",
   "metadata": {
    "lines_to_next_cell": 2
   },
   "outputs": [
    {
     "name": "stdout",
     "output_type": "stream",
     "text": [
      "<bound method DataFrame.info of     student_id First_Name last_name  Birthddate gender        majorField  \\\n",
      "0       STU001       John       Doe   4/12/1998      M  Computer Science   \n",
      "1       STU002      Maria  Gonzalez    9/5/1997      F           Biology   \n",
      "2       STU003      Priya     Patel   1/23/1999      F       Engineering   \n",
      "3       STU004       Alex   Johnson  12/15/1996      M       Mathematics   \n",
      "4       STU005      Emily     Smith   7/30/2000      F           Physics   \n",
      "..         ...        ...       ...         ...    ...               ...   \n",
      "98      STU096   Victoria     Ortiz    8/2/1996      F       Mathematics   \n",
      "99      STU097     Julian    Foster    9/3/1998      M           Physics   \n",
      "100     STU098       Lucy   Ramirez   10/4/1997      F         Chemistry   \n",
      "101     STU099     Isaiah       Kim   11/5/1999      M         Economics   \n",
      "102     STU100     Amelia     Lopez   12/6/1996      F           History   \n",
      "\n",
      "    admission_year  current gpa               contact_email  mobile number  \\\n",
      "0             2020          3.5        john.doe@example.com         -655.0   \n",
      "1             2019          3.8  maria.gonzalez@example.com         -656.0   \n",
      "2             2021          3.7     priya.patel@example.com         -657.0   \n",
      "3             2018          3.2    alex.johnson@example.com            NaN   \n",
      "4             2022          3.9     emily.smith@example.com         -659.0   \n",
      "..             ...          ...                         ...            ...   \n",
      "98            2020          3.7  victoria.ortiz@example.com         -750.0   \n",
      "99            2022          3.8   julian.foster@example.com         -751.0   \n",
      "100           2019          3.9    lucy.ramirez@example.com         -752.0   \n",
      "101           2021          3.2      isaiah.kim@example.com         -753.0   \n",
      "102           2020          3.3    amelia.lopez@example.com         -754.0   \n",
      "\n",
      "     home_city HOME COUNTRY  \n",
      "0        Tampa          USA  \n",
      "1       London           UK  \n",
      "2       Mumbai        India  \n",
      "3       Sydney    Australia  \n",
      "4     New York          USA  \n",
      "..         ...          ...  \n",
      "98     Concord          USA  \n",
      "99      Toledo          USA  \n",
      "100  St. Louis          USA  \n",
      "101    Orlando          USA  \n",
      "102    Raleigh          USA  \n",
      "\n",
      "[103 rows x 12 columns]>\n"
     ]
    }
   ],
   "source": [
    "print(df.info)"
   ]
  },
  {
   "cell_type": "code",
   "execution_count": 94,
   "id": "69635b89",
   "metadata": {},
   "outputs": [
    {
     "name": "stdout",
     "output_type": "stream",
     "text": [
      "<bound method DataFrame.info of     student_id First_Name last_name  Birthddate gender        majorField  \\\n",
      "0       STU001       John       Doe   4/12/1998      M  Computer Science   \n",
      "1       STU002      Maria  Gonzalez    9/5/1997      F           Biology   \n",
      "2       STU003      Priya     Patel   1/23/1999      F       Engineering   \n",
      "3       STU004       Alex   Johnson  12/15/1996      M       Mathematics   \n",
      "4       STU005      Emily     Smith   7/30/2000      F           Physics   \n",
      "..         ...        ...       ...         ...    ...               ...   \n",
      "98      STU096   Victoria     Ortiz    8/2/1996      F       Mathematics   \n",
      "99      STU097     Julian    Foster    9/3/1998      M           Physics   \n",
      "100     STU098       Lucy   Ramirez   10/4/1997      F         Chemistry   \n",
      "101     STU099     Isaiah       Kim   11/5/1999      M         Economics   \n",
      "102     STU100     Amelia     Lopez   12/6/1996      F           History   \n",
      "\n",
      "    admission_year  current gpa               contact_email  mobile number  \\\n",
      "0             2020          3.5        john.doe@example.com         -655.0   \n",
      "1             2019          3.8  maria.gonzalez@example.com         -656.0   \n",
      "2             2021          3.7     priya.patel@example.com         -657.0   \n",
      "3             2018          3.2    alex.johnson@example.com            NaN   \n",
      "4             2022          3.9     emily.smith@example.com         -659.0   \n",
      "..             ...          ...                         ...            ...   \n",
      "98            2020          3.7  victoria.ortiz@example.com         -750.0   \n",
      "99            2022          3.8   julian.foster@example.com         -751.0   \n",
      "100           2019          3.9    lucy.ramirez@example.com         -752.0   \n",
      "101           2021          3.2      isaiah.kim@example.com         -753.0   \n",
      "102           2020          3.3    amelia.lopez@example.com         -754.0   \n",
      "\n",
      "     home_city HOME COUNTRY  \n",
      "0        Tampa          USA  \n",
      "1       London           UK  \n",
      "2       Mumbai        India  \n",
      "3       Sydney    Australia  \n",
      "4     New York          USA  \n",
      "..         ...          ...  \n",
      "98     Concord          USA  \n",
      "99      Toledo          USA  \n",
      "100  St. Louis          USA  \n",
      "101    Orlando          USA  \n",
      "102    Raleigh          USA  \n",
      "\n",
      "[103 rows x 12 columns]>\n"
     ]
    }
   ],
   "source": [
    "print(df.info)"
   ]
  },
  {
   "cell_type": "markdown",
   "id": "75567b6f",
   "metadata": {},
   "source": [
    "## **5. Check for Missing Values**\n",
    "\n",
    "Determine if your dataset has any missing or null values by **counting** them. Notice which columns have many missing entries and plan how to handle them.\n",
    "\n",
    "**📝 Tip:** Some columns might look present but contain empty strings. Identify them if possible.\n"
   ]
  },
  {
   "cell_type": "code",
   "execution_count": 18,
   "id": "8f7e010c",
   "metadata": {
    "lines_to_next_cell": 2
   },
   "outputs": [
    {
     "name": "stdout",
     "output_type": "stream",
     "text": [
      "     student_id  First_Name  last_name  Birthddate  gender  majorField  \\\n",
      "0          True        True       True        True    True        True   \n",
      "1          True        True       True        True    True        True   \n",
      "2          True        True       True        True    True        True   \n",
      "3          True        True       True        True    True        True   \n",
      "4          True        True       True        True    True        True   \n",
      "..          ...         ...        ...         ...     ...         ...   \n",
      "98         True        True       True        True    True        True   \n",
      "99         True        True       True        True    True        True   \n",
      "100        True        True       True        True    True        True   \n",
      "101        True        True       True        True    True        True   \n",
      "102        True        True       True        True    True        True   \n",
      "\n",
      "     admission_year  current gpa  contact_email  mobile number  home_city  \\\n",
      "0              True         True           True           True       True   \n",
      "1              True         True           True           True       True   \n",
      "2              True         True           True           True       True   \n",
      "3              True         True           True          False       True   \n",
      "4              True         True           True           True       True   \n",
      "..              ...          ...            ...            ...        ...   \n",
      "98             True         True           True           True       True   \n",
      "99             True         True           True           True       True   \n",
      "100            True         True           True           True       True   \n",
      "101            True         True           True           True       True   \n",
      "102            True         True           True           True       True   \n",
      "\n",
      "     HOME COUNTRY  \n",
      "0            True  \n",
      "1            True  \n",
      "2            True  \n",
      "3            True  \n",
      "4            True  \n",
      "..            ...  \n",
      "98           True  \n",
      "99           True  \n",
      "100          True  \n",
      "101          True  \n",
      "102          True  \n",
      "\n",
      "[103 rows x 12 columns]\n"
     ]
    }
   ],
   "source": [
    "print( df.isnull() != True)"
   ]
  },
  {
   "cell_type": "code",
   "execution_count": 96,
   "id": "2760201d",
   "metadata": {
    "lines_to_next_cell": 2
   },
   "outputs": [
    {
     "name": "stdout",
     "output_type": "stream",
     "text": [
      "enrollment_id        0\n",
      "stud_ref_id          0\n",
      "subject_code         0\n",
      "course_title         0\n",
      "instructor_name      0\n",
      "enroll_count         0\n",
      "term_offered         0\n",
      "course_fee           1\n",
      "final_result         0\n",
      "attend_percentage    0\n",
      "date_enrolled        0\n",
      "dtype: int64\n",
      "student_id        0\n",
      "First_Name        0\n",
      "last_name         0\n",
      "Birthddate        0\n",
      "gender            0\n",
      "majorField        1\n",
      "admission_year    0\n",
      "current gpa       8\n",
      "contact_email     0\n",
      "mobile number     6\n",
      "home_city         0\n",
      "HOME COUNTRY      0\n",
      "dtype: int64\n"
     ]
    }
   ],
   "source": [
    "print(de.isnull().sum())\n",
    "print(df.isnull().sum())"
   ]
  },
  {
   "cell_type": "code",
   "execution_count": 2,
   "id": "00672862",
   "metadata": {},
   "outputs": [
    {
     "name": "stdout",
     "output_type": "stream",
     "text": [
      "     student_id  First_Name  last_name  Birthddate  gender  majorField  \\\n",
      "0         False       False      False       False   False       False   \n",
      "1         False       False      False       False   False       False   \n",
      "2         False       False      False       False   False       False   \n",
      "3         False       False      False       False   False       False   \n",
      "4         False       False      False       False   False       False   \n",
      "..          ...         ...        ...         ...     ...         ...   \n",
      "98        False       False      False       False   False       False   \n",
      "99        False       False      False       False   False       False   \n",
      "100       False       False      False       False   False       False   \n",
      "101       False       False      False       False   False       False   \n",
      "102       False       False      False       False   False       False   \n",
      "\n",
      "     admission_year  current gpa  contact_email  mobile number  home_city  \\\n",
      "0             False        False          False          False      False   \n",
      "1             False        False          False          False      False   \n",
      "2             False        False          False          False      False   \n",
      "3             False        False          False           True      False   \n",
      "4             False        False          False          False      False   \n",
      "..              ...          ...            ...            ...        ...   \n",
      "98            False        False          False          False      False   \n",
      "99            False        False          False          False      False   \n",
      "100           False        False          False          False      False   \n",
      "101           False        False          False          False      False   \n",
      "102           False        False          False          False      False   \n",
      "\n",
      "     HOME COUNTRY  \n",
      "0           False  \n",
      "1           False  \n",
      "2           False  \n",
      "3           False  \n",
      "4           False  \n",
      "..            ...  \n",
      "98          False  \n",
      "99          False  \n",
      "100         False  \n",
      "101         False  \n",
      "102         False  \n",
      "\n",
      "[103 rows x 12 columns]\n",
      "student_id        0\n",
      "First_Name        0\n",
      "last_name         0\n",
      "Birthddate        0\n",
      "gender            0\n",
      "majorField        1\n",
      "admission_year    0\n",
      "current gpa       8\n",
      "contact_email     0\n",
      "mobile number     6\n",
      "home_city         0\n",
      "HOME COUNTRY      0\n",
      "dtype: int64\n"
     ]
    }
   ],
   "source": [
    "import pandas as pd \n",
    "df =pd.read_csv('../../data/students.csv' )\n",
    "print(df.isna())\n",
    "print(df.isna().sum())"
   ]
  },
  {
   "cell_type": "markdown",
   "id": "35cf28cb",
   "metadata": {
    "jp-MarkdownHeadingCollapsed": true
   },
   "source": [
    "## **6. Rename Columns for Clarity and Consistency**\n",
    "\n",
    "Some columns may have **spaces** or **capitalization** that complicates your analysis. For example, if you see `\"current gpa\"` or `\"First_Name\"`, consider renaming them (e.g., `\"current_gpa\"`, `\"first_name\"`) for ease of use.\n",
    "\n",
    "**📝 Tip:** Consistent naming conventions help minimize typos and KeyErrors."
   ]
  },
  {
   "cell_type": "code",
   "execution_count": 4,
   "id": "4349baa9",
   "metadata": {
    "lines_to_next_cell": 2
   },
   "outputs": [
    {
     "ename": "ValueError",
     "evalue": "Length mismatch: Expected axis has 12 elements, new values have 2 elements",
     "output_type": "error",
     "traceback": [
      "\u001b[0;31m---------------------------------------------------------------------------\u001b[0m",
      "\u001b[0;31mValueError\u001b[0m                                Traceback (most recent call last)",
      "Cell \u001b[0;32mIn[4], line 4\u001b[0m\n\u001b[1;32m      2\u001b[0m df \u001b[38;5;241m=\u001b[39mpd\u001b[38;5;241m.\u001b[39mread_csv(\u001b[38;5;124m'\u001b[39m\u001b[38;5;124m../../data/students.csv\u001b[39m\u001b[38;5;124m'\u001b[39m )\n\u001b[1;32m      3\u001b[0m \u001b[38;5;66;03m#df.rename(columns={'current gpa': 'current_gpa'}, inplace=True)\u001b[39;00m\n\u001b[0;32m----> 4\u001b[0m df\u001b[38;5;241m.\u001b[39mcolumns \u001b[38;5;241m=\u001b[39m [\u001b[38;5;124m'\u001b[39m\u001b[38;5;124mcurrent_gpa\u001b[39m\u001b[38;5;124m'\u001b[39m, \u001b[38;5;124m'\u001b[39m\u001b[38;5;124mcurrent gpa\u001b[39m\u001b[38;5;124m'\u001b[39m]\n",
      "File \u001b[0;32m~/anaconda3/lib/python3.12/site-packages/pandas/core/generic.py:6313\u001b[0m, in \u001b[0;36mNDFrame.__setattr__\u001b[0;34m(self, name, value)\u001b[0m\n\u001b[1;32m   6311\u001b[0m \u001b[38;5;28;01mtry\u001b[39;00m:\n\u001b[1;32m   6312\u001b[0m     \u001b[38;5;28mobject\u001b[39m\u001b[38;5;241m.\u001b[39m\u001b[38;5;21m__getattribute__\u001b[39m(\u001b[38;5;28mself\u001b[39m, name)\n\u001b[0;32m-> 6313\u001b[0m     \u001b[38;5;28;01mreturn\u001b[39;00m \u001b[38;5;28mobject\u001b[39m\u001b[38;5;241m.\u001b[39m\u001b[38;5;21m__setattr__\u001b[39m(\u001b[38;5;28mself\u001b[39m, name, value)\n\u001b[1;32m   6314\u001b[0m \u001b[38;5;28;01mexcept\u001b[39;00m \u001b[38;5;167;01mAttributeError\u001b[39;00m:\n\u001b[1;32m   6315\u001b[0m     \u001b[38;5;28;01mpass\u001b[39;00m\n",
      "File \u001b[0;32mproperties.pyx:69\u001b[0m, in \u001b[0;36mpandas._libs.properties.AxisProperty.__set__\u001b[0;34m()\u001b[0m\n",
      "File \u001b[0;32m~/anaconda3/lib/python3.12/site-packages/pandas/core/generic.py:814\u001b[0m, in \u001b[0;36mNDFrame._set_axis\u001b[0;34m(self, axis, labels)\u001b[0m\n\u001b[1;32m    809\u001b[0m \u001b[38;5;250m\u001b[39m\u001b[38;5;124;03m\"\"\"\u001b[39;00m\n\u001b[1;32m    810\u001b[0m \u001b[38;5;124;03mThis is called from the cython code when we set the `index` attribute\u001b[39;00m\n\u001b[1;32m    811\u001b[0m \u001b[38;5;124;03mdirectly, e.g. `series.index = [1, 2, 3]`.\u001b[39;00m\n\u001b[1;32m    812\u001b[0m \u001b[38;5;124;03m\"\"\"\u001b[39;00m\n\u001b[1;32m    813\u001b[0m labels \u001b[38;5;241m=\u001b[39m ensure_index(labels)\n\u001b[0;32m--> 814\u001b[0m \u001b[38;5;28mself\u001b[39m\u001b[38;5;241m.\u001b[39m_mgr\u001b[38;5;241m.\u001b[39mset_axis(axis, labels)\n\u001b[1;32m    815\u001b[0m \u001b[38;5;28mself\u001b[39m\u001b[38;5;241m.\u001b[39m_clear_item_cache()\n",
      "File \u001b[0;32m~/anaconda3/lib/python3.12/site-packages/pandas/core/internals/managers.py:238\u001b[0m, in \u001b[0;36mBaseBlockManager.set_axis\u001b[0;34m(self, axis, new_labels)\u001b[0m\n\u001b[1;32m    236\u001b[0m \u001b[38;5;28;01mdef\u001b[39;00m \u001b[38;5;21mset_axis\u001b[39m(\u001b[38;5;28mself\u001b[39m, axis: AxisInt, new_labels: Index) \u001b[38;5;241m-\u001b[39m\u001b[38;5;241m>\u001b[39m \u001b[38;5;28;01mNone\u001b[39;00m:\n\u001b[1;32m    237\u001b[0m     \u001b[38;5;66;03m# Caller is responsible for ensuring we have an Index object.\u001b[39;00m\n\u001b[0;32m--> 238\u001b[0m     \u001b[38;5;28mself\u001b[39m\u001b[38;5;241m.\u001b[39m_validate_set_axis(axis, new_labels)\n\u001b[1;32m    239\u001b[0m     \u001b[38;5;28mself\u001b[39m\u001b[38;5;241m.\u001b[39maxes[axis] \u001b[38;5;241m=\u001b[39m new_labels\n",
      "File \u001b[0;32m~/anaconda3/lib/python3.12/site-packages/pandas/core/internals/base.py:98\u001b[0m, in \u001b[0;36mDataManager._validate_set_axis\u001b[0;34m(self, axis, new_labels)\u001b[0m\n\u001b[1;32m     95\u001b[0m     \u001b[38;5;28;01mpass\u001b[39;00m\n\u001b[1;32m     97\u001b[0m \u001b[38;5;28;01melif\u001b[39;00m new_len \u001b[38;5;241m!=\u001b[39m old_len:\n\u001b[0;32m---> 98\u001b[0m     \u001b[38;5;28;01mraise\u001b[39;00m \u001b[38;5;167;01mValueError\u001b[39;00m(\n\u001b[1;32m     99\u001b[0m         \u001b[38;5;124mf\u001b[39m\u001b[38;5;124m\"\u001b[39m\u001b[38;5;124mLength mismatch: Expected axis has \u001b[39m\u001b[38;5;132;01m{\u001b[39;00mold_len\u001b[38;5;132;01m}\u001b[39;00m\u001b[38;5;124m elements, new \u001b[39m\u001b[38;5;124m\"\u001b[39m\n\u001b[1;32m    100\u001b[0m         \u001b[38;5;124mf\u001b[39m\u001b[38;5;124m\"\u001b[39m\u001b[38;5;124mvalues have \u001b[39m\u001b[38;5;132;01m{\u001b[39;00mnew_len\u001b[38;5;132;01m}\u001b[39;00m\u001b[38;5;124m elements\u001b[39m\u001b[38;5;124m\"\u001b[39m\n\u001b[1;32m    101\u001b[0m     )\n",
      "\u001b[0;31mValueError\u001b[0m: Length mismatch: Expected axis has 12 elements, new values have 2 elements"
     ]
    }
   ],
   "source": [
    "import pandas as pd \n",
    "df =pd.read_csv('../../data/students.csv' )\n",
    "#df.rename(columns={'current gpa': 'current_gpa'}, inplace=True)\n",
    "df.columns = ['current_gpa', 'current gpa']"
   ]
  },
  {
   "cell_type": "code",
   "execution_count": 6,
   "id": "dcf1d51a",
   "metadata": {
    "lines_to_next_cell": 2
   },
   "outputs": [
    {
     "ename": "ValueError",
     "evalue": "Length mismatch: Expected axis has 12 elements, new values have 2 elements",
     "output_type": "error",
     "traceback": [
      "\u001b[0;31m---------------------------------------------------------------------------\u001b[0m",
      "\u001b[0;31mValueError\u001b[0m                                Traceback (most recent call last)",
      "Cell \u001b[0;32mIn[6], line 2\u001b[0m\n\u001b[1;32m      1\u001b[0m df\u001b[38;5;241m.\u001b[39mrename(columns\u001b[38;5;241m=\u001b[39m{\u001b[38;5;124m'\u001b[39m\u001b[38;5;124mFirst_Name\u001b[39m\u001b[38;5;124m'\u001b[39m: \u001b[38;5;124m'\u001b[39m\u001b[38;5;124mfirst_name\u001b[39m\u001b[38;5;124m'\u001b[39m}, inplace\u001b[38;5;241m=\u001b[39m\u001b[38;5;28;01mTrue\u001b[39;00m)\n\u001b[0;32m----> 2\u001b[0m df\u001b[38;5;241m.\u001b[39mcolumns \u001b[38;5;241m=\u001b[39m [\u001b[38;5;124m'\u001b[39m\u001b[38;5;124mFirst_Name\u001b[39m\u001b[38;5;124m'\u001b[39m, \u001b[38;5;124m'\u001b[39m\u001b[38;5;124mfirst_name\u001b[39m\u001b[38;5;124m'\u001b[39m]\n",
      "File \u001b[0;32m~/anaconda3/lib/python3.12/site-packages/pandas/core/generic.py:6313\u001b[0m, in \u001b[0;36mNDFrame.__setattr__\u001b[0;34m(self, name, value)\u001b[0m\n\u001b[1;32m   6311\u001b[0m \u001b[38;5;28;01mtry\u001b[39;00m:\n\u001b[1;32m   6312\u001b[0m     \u001b[38;5;28mobject\u001b[39m\u001b[38;5;241m.\u001b[39m\u001b[38;5;21m__getattribute__\u001b[39m(\u001b[38;5;28mself\u001b[39m, name)\n\u001b[0;32m-> 6313\u001b[0m     \u001b[38;5;28;01mreturn\u001b[39;00m \u001b[38;5;28mobject\u001b[39m\u001b[38;5;241m.\u001b[39m\u001b[38;5;21m__setattr__\u001b[39m(\u001b[38;5;28mself\u001b[39m, name, value)\n\u001b[1;32m   6314\u001b[0m \u001b[38;5;28;01mexcept\u001b[39;00m \u001b[38;5;167;01mAttributeError\u001b[39;00m:\n\u001b[1;32m   6315\u001b[0m     \u001b[38;5;28;01mpass\u001b[39;00m\n",
      "File \u001b[0;32mproperties.pyx:69\u001b[0m, in \u001b[0;36mpandas._libs.properties.AxisProperty.__set__\u001b[0;34m()\u001b[0m\n",
      "File \u001b[0;32m~/anaconda3/lib/python3.12/site-packages/pandas/core/generic.py:814\u001b[0m, in \u001b[0;36mNDFrame._set_axis\u001b[0;34m(self, axis, labels)\u001b[0m\n\u001b[1;32m    809\u001b[0m \u001b[38;5;250m\u001b[39m\u001b[38;5;124;03m\"\"\"\u001b[39;00m\n\u001b[1;32m    810\u001b[0m \u001b[38;5;124;03mThis is called from the cython code when we set the `index` attribute\u001b[39;00m\n\u001b[1;32m    811\u001b[0m \u001b[38;5;124;03mdirectly, e.g. `series.index = [1, 2, 3]`.\u001b[39;00m\n\u001b[1;32m    812\u001b[0m \u001b[38;5;124;03m\"\"\"\u001b[39;00m\n\u001b[1;32m    813\u001b[0m labels \u001b[38;5;241m=\u001b[39m ensure_index(labels)\n\u001b[0;32m--> 814\u001b[0m \u001b[38;5;28mself\u001b[39m\u001b[38;5;241m.\u001b[39m_mgr\u001b[38;5;241m.\u001b[39mset_axis(axis, labels)\n\u001b[1;32m    815\u001b[0m \u001b[38;5;28mself\u001b[39m\u001b[38;5;241m.\u001b[39m_clear_item_cache()\n",
      "File \u001b[0;32m~/anaconda3/lib/python3.12/site-packages/pandas/core/internals/managers.py:238\u001b[0m, in \u001b[0;36mBaseBlockManager.set_axis\u001b[0;34m(self, axis, new_labels)\u001b[0m\n\u001b[1;32m    236\u001b[0m \u001b[38;5;28;01mdef\u001b[39;00m \u001b[38;5;21mset_axis\u001b[39m(\u001b[38;5;28mself\u001b[39m, axis: AxisInt, new_labels: Index) \u001b[38;5;241m-\u001b[39m\u001b[38;5;241m>\u001b[39m \u001b[38;5;28;01mNone\u001b[39;00m:\n\u001b[1;32m    237\u001b[0m     \u001b[38;5;66;03m# Caller is responsible for ensuring we have an Index object.\u001b[39;00m\n\u001b[0;32m--> 238\u001b[0m     \u001b[38;5;28mself\u001b[39m\u001b[38;5;241m.\u001b[39m_validate_set_axis(axis, new_labels)\n\u001b[1;32m    239\u001b[0m     \u001b[38;5;28mself\u001b[39m\u001b[38;5;241m.\u001b[39maxes[axis] \u001b[38;5;241m=\u001b[39m new_labels\n",
      "File \u001b[0;32m~/anaconda3/lib/python3.12/site-packages/pandas/core/internals/base.py:98\u001b[0m, in \u001b[0;36mDataManager._validate_set_axis\u001b[0;34m(self, axis, new_labels)\u001b[0m\n\u001b[1;32m     95\u001b[0m     \u001b[38;5;28;01mpass\u001b[39;00m\n\u001b[1;32m     97\u001b[0m \u001b[38;5;28;01melif\u001b[39;00m new_len \u001b[38;5;241m!=\u001b[39m old_len:\n\u001b[0;32m---> 98\u001b[0m     \u001b[38;5;28;01mraise\u001b[39;00m \u001b[38;5;167;01mValueError\u001b[39;00m(\n\u001b[1;32m     99\u001b[0m         \u001b[38;5;124mf\u001b[39m\u001b[38;5;124m\"\u001b[39m\u001b[38;5;124mLength mismatch: Expected axis has \u001b[39m\u001b[38;5;132;01m{\u001b[39;00mold_len\u001b[38;5;132;01m}\u001b[39;00m\u001b[38;5;124m elements, new \u001b[39m\u001b[38;5;124m\"\u001b[39m\n\u001b[1;32m    100\u001b[0m         \u001b[38;5;124mf\u001b[39m\u001b[38;5;124m\"\u001b[39m\u001b[38;5;124mvalues have \u001b[39m\u001b[38;5;132;01m{\u001b[39;00mnew_len\u001b[38;5;132;01m}\u001b[39;00m\u001b[38;5;124m elements\u001b[39m\u001b[38;5;124m\"\u001b[39m\n\u001b[1;32m    101\u001b[0m     )\n",
      "\u001b[0;31mValueError\u001b[0m: Length mismatch: Expected axis has 12 elements, new values have 2 elements"
     ]
    }
   ],
   "source": [
    "df.rename(columns={'First_Name': 'first_name'}, inplace=True)\n",
    "df.columns = ['First_Name', 'first_name']"
   ]
  },
  {
   "cell_type": "code",
   "execution_count": 3,
   "id": "d2003486",
   "metadata": {
    "lines_to_next_cell": 2
   },
   "outputs": [
    {
     "name": "stdout",
     "output_type": "stream",
     "text": [
      "    student_id First_Name last_name  Birthddate gender        majorField  \\\n",
      "0       STU001       John       Doe   4/12/1998      M  Computer Science   \n",
      "1       STU002      Maria  Gonzalez    9/5/1997      F           Biology   \n",
      "2       STU003      Priya     Patel   1/23/1999      F       Engineering   \n",
      "3       STU004       Alex   Johnson  12/15/1996      M       Mathematics   \n",
      "4       STU005      Emily     Smith   7/30/2000      F           Physics   \n",
      "..         ...        ...       ...         ...    ...               ...   \n",
      "98      STU096   Victoria     Ortiz    8/2/1996      F       Mathematics   \n",
      "99      STU097     Julian    Foster    9/3/1998      M           Physics   \n",
      "100     STU098       Lucy   Ramirez   10/4/1997      F         Chemistry   \n",
      "101     STU099     Isaiah       Kim   11/5/1999      M         Economics   \n",
      "102     STU100     Amelia     Lopez   12/6/1996      F           History   \n",
      "\n",
      "    admission_year  current gpa               contact_email  mobile number  \\\n",
      "0             2020          3.5        john.doe@example.com         -655.0   \n",
      "1             2019          3.8  maria.gonzalez@example.com         -656.0   \n",
      "2             2021          3.7     priya.patel@example.com         -657.0   \n",
      "3             2018          3.2    alex.johnson@example.com            NaN   \n",
      "4             2022          3.9     emily.smith@example.com         -659.0   \n",
      "..             ...          ...                         ...            ...   \n",
      "98            2020          3.7  victoria.ortiz@example.com         -750.0   \n",
      "99            2022          3.8   julian.foster@example.com         -751.0   \n",
      "100           2019          3.9    lucy.ramirez@example.com         -752.0   \n",
      "101           2021          3.2      isaiah.kim@example.com         -753.0   \n",
      "102           2020          3.3    amelia.lopez@example.com         -754.0   \n",
      "\n",
      "     home_city HOME COUNTRY  \n",
      "0        Tampa          USA  \n",
      "1       London           UK  \n",
      "2       Mumbai        India  \n",
      "3       Sydney    Australia  \n",
      "4     New York          USA  \n",
      "..         ...          ...  \n",
      "98     Concord          USA  \n",
      "99      Toledo          USA  \n",
      "100  St. Louis          USA  \n",
      "101    Orlando          USA  \n",
      "102    Raleigh          USA  \n",
      "\n",
      "[103 rows x 12 columns]\n"
     ]
    }
   ],
   "source": [
    "print(df)"
   ]
  },
  {
   "cell_type": "code",
   "execution_count": 20,
   "id": "e7706d1b",
   "metadata": {},
   "outputs": [],
   "source": [
    "# your code here"
   ]
  },
  {
   "cell_type": "markdown",
   "id": "a0d0b232",
   "metadata": {},
   "source": [
    "## **7. Convert Data Types Where Needed**\n",
    "\n",
    "Check which columns should be numeric or datetime. Columns like `admission_year` or `course_fee` might be read as **strings** by default. Convert them to numerical or date formats if necessary.\n",
    "\n",
    "**📝 Tip:** Make sure you handle errors gracefully (e.g., set `errors='coerce'` to turn invalid entries into NaN)."
   ]
  },
  {
   "cell_type": "code",
   "execution_count": 7,
   "id": "5f177231",
   "metadata": {
    "lines_to_next_cell": 2
   },
   "outputs": [
    {
     "ename": "KeyError",
     "evalue": "'course_fee'",
     "output_type": "error",
     "traceback": [
      "\u001b[0;31m---------------------------------------------------------------------------\u001b[0m",
      "\u001b[0;31mKeyError\u001b[0m                                  Traceback (most recent call last)",
      "File \u001b[0;32m~/anaconda3/lib/python3.12/site-packages/pandas/core/indexes/base.py:3805\u001b[0m, in \u001b[0;36mIndex.get_loc\u001b[0;34m(self, key)\u001b[0m\n\u001b[1;32m   3804\u001b[0m \u001b[38;5;28;01mtry\u001b[39;00m:\n\u001b[0;32m-> 3805\u001b[0m     \u001b[38;5;28;01mreturn\u001b[39;00m \u001b[38;5;28mself\u001b[39m\u001b[38;5;241m.\u001b[39m_engine\u001b[38;5;241m.\u001b[39mget_loc(casted_key)\n\u001b[1;32m   3806\u001b[0m \u001b[38;5;28;01mexcept\u001b[39;00m \u001b[38;5;167;01mKeyError\u001b[39;00m \u001b[38;5;28;01mas\u001b[39;00m err:\n",
      "File \u001b[0;32mindex.pyx:167\u001b[0m, in \u001b[0;36mpandas._libs.index.IndexEngine.get_loc\u001b[0;34m()\u001b[0m\n",
      "File \u001b[0;32mindex.pyx:196\u001b[0m, in \u001b[0;36mpandas._libs.index.IndexEngine.get_loc\u001b[0;34m()\u001b[0m\n",
      "File \u001b[0;32mpandas/_libs/hashtable_class_helper.pxi:7081\u001b[0m, in \u001b[0;36mpandas._libs.hashtable.PyObjectHashTable.get_item\u001b[0;34m()\u001b[0m\n",
      "File \u001b[0;32mpandas/_libs/hashtable_class_helper.pxi:7089\u001b[0m, in \u001b[0;36mpandas._libs.hashtable.PyObjectHashTable.get_item\u001b[0;34m()\u001b[0m\n",
      "\u001b[0;31mKeyError\u001b[0m: 'course_fee'",
      "\nThe above exception was the direct cause of the following exception:\n",
      "\u001b[0;31mKeyError\u001b[0m                                  Traceback (most recent call last)",
      "Cell \u001b[0;32mIn[7], line 1\u001b[0m\n\u001b[0;32m----> 1\u001b[0m df[\u001b[38;5;124m'\u001b[39m\u001b[38;5;124mcourse_fee\u001b[39m\u001b[38;5;124m'\u001b[39m] \u001b[38;5;241m=\u001b[39m pd\u001b[38;5;241m.\u001b[39mto_numeric(df[\u001b[38;5;124m'\u001b[39m\u001b[38;5;124mcourse_fee\u001b[39m\u001b[38;5;124m'\u001b[39m], errors\u001b[38;5;241m=\u001b[39m\u001b[38;5;124m'\u001b[39m\u001b[38;5;124mcoerce\u001b[39m\u001b[38;5;124m'\u001b[39m)\n",
      "File \u001b[0;32m~/anaconda3/lib/python3.12/site-packages/pandas/core/frame.py:4102\u001b[0m, in \u001b[0;36mDataFrame.__getitem__\u001b[0;34m(self, key)\u001b[0m\n\u001b[1;32m   4100\u001b[0m \u001b[38;5;28;01mif\u001b[39;00m \u001b[38;5;28mself\u001b[39m\u001b[38;5;241m.\u001b[39mcolumns\u001b[38;5;241m.\u001b[39mnlevels \u001b[38;5;241m>\u001b[39m \u001b[38;5;241m1\u001b[39m:\n\u001b[1;32m   4101\u001b[0m     \u001b[38;5;28;01mreturn\u001b[39;00m \u001b[38;5;28mself\u001b[39m\u001b[38;5;241m.\u001b[39m_getitem_multilevel(key)\n\u001b[0;32m-> 4102\u001b[0m indexer \u001b[38;5;241m=\u001b[39m \u001b[38;5;28mself\u001b[39m\u001b[38;5;241m.\u001b[39mcolumns\u001b[38;5;241m.\u001b[39mget_loc(key)\n\u001b[1;32m   4103\u001b[0m \u001b[38;5;28;01mif\u001b[39;00m is_integer(indexer):\n\u001b[1;32m   4104\u001b[0m     indexer \u001b[38;5;241m=\u001b[39m [indexer]\n",
      "File \u001b[0;32m~/anaconda3/lib/python3.12/site-packages/pandas/core/indexes/base.py:3812\u001b[0m, in \u001b[0;36mIndex.get_loc\u001b[0;34m(self, key)\u001b[0m\n\u001b[1;32m   3807\u001b[0m     \u001b[38;5;28;01mif\u001b[39;00m \u001b[38;5;28misinstance\u001b[39m(casted_key, \u001b[38;5;28mslice\u001b[39m) \u001b[38;5;129;01mor\u001b[39;00m (\n\u001b[1;32m   3808\u001b[0m         \u001b[38;5;28misinstance\u001b[39m(casted_key, abc\u001b[38;5;241m.\u001b[39mIterable)\n\u001b[1;32m   3809\u001b[0m         \u001b[38;5;129;01mand\u001b[39;00m \u001b[38;5;28many\u001b[39m(\u001b[38;5;28misinstance\u001b[39m(x, \u001b[38;5;28mslice\u001b[39m) \u001b[38;5;28;01mfor\u001b[39;00m x \u001b[38;5;129;01min\u001b[39;00m casted_key)\n\u001b[1;32m   3810\u001b[0m     ):\n\u001b[1;32m   3811\u001b[0m         \u001b[38;5;28;01mraise\u001b[39;00m InvalidIndexError(key)\n\u001b[0;32m-> 3812\u001b[0m     \u001b[38;5;28;01mraise\u001b[39;00m \u001b[38;5;167;01mKeyError\u001b[39;00m(key) \u001b[38;5;28;01mfrom\u001b[39;00m \u001b[38;5;21;01merr\u001b[39;00m\n\u001b[1;32m   3813\u001b[0m \u001b[38;5;28;01mexcept\u001b[39;00m \u001b[38;5;167;01mTypeError\u001b[39;00m:\n\u001b[1;32m   3814\u001b[0m     \u001b[38;5;66;03m# If we have a listlike key, _check_indexing_error will raise\u001b[39;00m\n\u001b[1;32m   3815\u001b[0m     \u001b[38;5;66;03m#  InvalidIndexError. Otherwise we fall through and re-raise\u001b[39;00m\n\u001b[1;32m   3816\u001b[0m     \u001b[38;5;66;03m#  the TypeError.\u001b[39;00m\n\u001b[1;32m   3817\u001b[0m     \u001b[38;5;28mself\u001b[39m\u001b[38;5;241m.\u001b[39m_check_indexing_error(key)\n",
      "\u001b[0;31mKeyError\u001b[0m: 'course_fee'"
     ]
    }
   ],
   "source": [
    "import pandas as pd \n",
    "df =pd.read_csv('../../data/students.csv' )\n",
    "df['course_fee'] = pd.to_numeric(df['course_fee'], errors='coerce')"
   ]
  },
  {
   "cell_type": "code",
   "execution_count": 22,
   "id": "6a699f8f",
   "metadata": {
    "lines_to_next_cell": 2
   },
   "outputs": [],
   "source": [
    "df['admission_year'] = pd.to_datetime(df['admission_year'], errors='coerce')\n",
    "\n",
    "print(df.dtypes)"
   ]
  },
  {
   "cell_type": "code",
   "execution_count": 23,
   "id": "549fa20a",
   "metadata": {},
   "outputs": [],
   "source": [
    "# your code here"
   ]
  },
  {
   "cell_type": "code",
   "execution_count": 24,
   "id": "0ebd2f7b",
   "metadata": {
    "lines_to_next_cell": 2
   },
   "outputs": [],
   "source": [
    "import pandas as pd \n",
    "df =pd.read_csv('../../data/students.csv' )"
   ]
  },
  {
   "cell_type": "markdown",
   "id": "5c9b9c86",
   "metadata": {},
   "source": [
    "## **8. Fill Missing Values with a Specified Value or Method**\n",
    "\n",
    "Instead of **dropping** missing values, consider **replacing** them. For instance:\n",
    "\n",
    "-   A string like `\"Unknown\"` for missing text\n",
    "-   A **mean** or **median** for missing numeric columns\n",
    "-   A **forward** or **backward fill** if appropriate"
   ]
  },
  {
   "cell_type": "code",
   "execution_count": 25,
   "id": "78b57f5d",
   "metadata": {
    "lines_to_next_cell": 2
   },
   "outputs": [],
   "source": [
    "# your code here"
   ]
  },
  {
   "cell_type": "code",
   "execution_count": 26,
   "id": "ed35e041",
   "metadata": {
    "lines_to_next_cell": 2
   },
   "outputs": [],
   "source": [
    "# your code here"
   ]
  },
  {
   "cell_type": "code",
   "execution_count": 27,
   "id": "d2f0b58b",
   "metadata": {},
   "outputs": [],
   "source": [
    "# your code here"
   ]
  },
  {
   "cell_type": "markdown",
   "id": "22ebe829",
   "metadata": {},
   "source": [
    "## **9. Drop Rows or Columns with Missing Values (If Needed)**\n",
    "\n",
    "After considering which values can be filled, you might choose to **remove** rows or columns that are missing too much data or can’t be fixed.\n",
    "\n",
    "**📝 Tip:** Decide carefully and confirm you don’t need the dropped information. Use `inplace=True` or keep a separate DataFrame if you want to preserve the original data."
   ]
  },
  {
   "cell_type": "code",
   "execution_count": 12,
   "id": "92e7650f",
   "metadata": {
    "lines_to_next_cell": 2
   },
   "outputs": [
    {
     "name": "stdout",
     "output_type": "stream",
     "text": [
      "    student_id First_Name last_name  Birthddate gender admission_year  \\\n",
      "0       STU001       John       Doe   4/12/1998      M           2020   \n",
      "1       STU002      Maria  Gonzalez    9/5/1997      F           2019   \n",
      "2       STU003      Priya     Patel   1/23/1999      F           2021   \n",
      "3       STU004       Alex   Johnson  12/15/1996      M           2018   \n",
      "4       STU005      Emily     Smith   7/30/2000      F           2022   \n",
      "..         ...        ...       ...         ...    ...            ...   \n",
      "98      STU096   Victoria     Ortiz    8/2/1996      F           2020   \n",
      "99      STU097     Julian    Foster    9/3/1998      M           2022   \n",
      "100     STU098       Lucy   Ramirez   10/4/1997      F           2019   \n",
      "101     STU099     Isaiah       Kim   11/5/1999      M           2021   \n",
      "102     STU100     Amelia     Lopez   12/6/1996      F           2020   \n",
      "\n",
      "                  contact_email  home_city HOME COUNTRY       Full_name  \n",
      "0          john.doe@example.com      Tampa          USA        John Doe  \n",
      "1    maria.gonzalez@example.com     London           UK  Maria Gonzalez  \n",
      "2       priya.patel@example.com     Mumbai        India     Priya Patel  \n",
      "3      alex.johnson@example.com     Sydney    Australia    Alex Johnson  \n",
      "4       emily.smith@example.com   New York          USA     Emily Smith  \n",
      "..                          ...        ...          ...             ...  \n",
      "98   victoria.ortiz@example.com    Concord          USA  Victoria Ortiz  \n",
      "99    julian.foster@example.com     Toledo          USA   Julian Foster  \n",
      "100    lucy.ramirez@example.com  St. Louis          USA    Lucy Ramirez  \n",
      "101      isaiah.kim@example.com    Orlando          USA      Isaiah Kim  \n",
      "102    amelia.lopez@example.com    Raleigh          USA    Amelia Lopez  \n",
      "\n",
      "[103 rows x 10 columns]\n"
     ]
    }
   ],
   "source": [
    "import pandas as pd\n",
    "import numpy as np\n",
    "df =pd.read_csv('../../data/students.csv' )\n",
    "df_cleaned = df.dropna(axis=1)\n",
    "\n",
    "print(df_cleaned)"
   ]
  },
  {
   "cell_type": "code",
   "execution_count": 10,
   "id": "08a7923f",
   "metadata": {
    "lines_to_next_cell": 2
   },
   "outputs": [
    {
     "name": "stdout",
     "output_type": "stream",
     "text": [
      "               enrollment_id stud_ref_id subject_code           course_title  \\\n",
      "0    ENR-STU001-MATH101-AB12      STU001      MATH101             Calculus I   \n",
      "1     ENR-STU002-ENG201-CD34      STU002       ENG201     English Literature   \n",
      "2      ENR-STU003-CS301-EF56      STU003        CS301        Programming 101   \n",
      "3    ENR-STU004-HIST105-GH78      STU004      HIST105          World History   \n",
      "4    ENR-STU005-CHEM110-IJ90      STU005      CHEM110      Organic Chemistry   \n",
      "..                       ...         ...          ...                    ...   \n",
      "96   ENR-STU097-MATH101-MN34      STU097      MATH101             Calculus I   \n",
      "97    ENR-STU098-ENG201-OP56      STU098       ENG201     English Literature   \n",
      "98     ENR-STU099-CS301-QR78      STU099        CS301        Programming 101   \n",
      "99   ENR-STU100-HIST105-ST90      STU100      HIST105          World History   \n",
      "100  ENR-STU004-HIST999-DUP1      STU004      HIST999  Ancient Civilizations   \n",
      "\n",
      "    instructor_name  enroll_count term_offered final_result  \\\n",
      "0         Dr. Smith            25  Spring 2026            A   \n",
      "1       Prof. Brown            26    Fall 2025            B   \n",
      "2        Dr. Taylor            27  Spring 2026           C+   \n",
      "3           Dr. Lee            28    Fall 2025           B+   \n",
      "4         Dr. Kumar            29  Spring 2026           B-   \n",
      "..              ...           ...          ...          ...   \n",
      "96        Dr. Smith            30  Spring 2026            A   \n",
      "97      Prof. Brown            31    Fall 2025            B   \n",
      "98       Dr. Taylor            25  Spring 2026           C+   \n",
      "99          Dr. Lee            26    Fall 2025           B+   \n",
      "100     Prof. Brown            99    Fall 2023                \n",
      "\n",
      "     attend_percentage date_enrolled  \n",
      "0                   71    2026/01/15  \n",
      "1                   72    2025-09-01  \n",
      "2                   73    2026/01/15  \n",
      "3                   74    2025/09/01  \n",
      "4                   75    2026-01-15  \n",
      "..                 ...           ...  \n",
      "96                  83    2026-01-15  \n",
      "97                  84    2025-09-01  \n",
      "98                  85    2026-01-15  \n",
      "99                  86    2025-09-01  \n",
      "100                 67    2023-09-01  \n",
      "\n",
      "[101 rows x 10 columns]\n"
     ]
    }
   ],
   "source": [
    "import pandas as pd\n",
    "import numpy as np\n",
    "\n",
    "de=pd.read_json('../../data/enrollments.json')\n",
    "de_cleaned = de.dropna(axis=1)\n",
    "\n",
    "print(de_cleaned)"
   ]
  },
  {
   "cell_type": "code",
   "execution_count": 30,
   "id": "d450d8e8",
   "metadata": {
    "lines_to_next_cell": 2
   },
   "outputs": [],
   "source": [
    "# your code here"
   ]
  },
  {
   "cell_type": "code",
   "execution_count": 31,
   "id": "170d366e",
   "metadata": {},
   "outputs": [],
   "source": [
    "# your code here"
   ]
  },
  {
   "cell_type": "markdown",
   "id": "ea28c50f",
   "metadata": {},
   "source": [
    "## **10. Filter Rows Based on a Condition**\n",
    "\n",
    "Now that columns like `admission_year` and `course_fee` (or `current_gpa`) are numeric, experiment with filtering. For example:\n",
    "\n",
    "-   Students whose `admission_year` is after a certain date\n",
    "-   Enrollments for `Spring 2026`"
   ]
  },
  {
   "cell_type": "code",
   "execution_count": 14,
   "id": "ba8fe133",
   "metadata": {
    "lines_to_next_cell": 2
   },
   "outputs": [
    {
     "ename": "AttributeError",
     "evalue": "Can only use .dt accessor with datetimelike values",
     "output_type": "error",
     "traceback": [
      "\u001b[0;31m---------------------------------------------------------------------------\u001b[0m",
      "\u001b[0;31mAttributeError\u001b[0m                            Traceback (most recent call last)",
      "Cell \u001b[0;32mIn[14], line 3\u001b[0m\n\u001b[1;32m      1\u001b[0m \u001b[38;5;28;01mimport\u001b[39;00m \u001b[38;5;21;01mpandas\u001b[39;00m \u001b[38;5;28;01mas\u001b[39;00m \u001b[38;5;21;01mpd\u001b[39;00m \n\u001b[1;32m      2\u001b[0m df \u001b[38;5;241m=\u001b[39mpd\u001b[38;5;241m.\u001b[39mread_csv(\u001b[38;5;124m'\u001b[39m\u001b[38;5;124m../../data/students.csv\u001b[39m\u001b[38;5;124m'\u001b[39m )\n\u001b[0;32m----> 3\u001b[0m df_filtered \u001b[38;5;241m=\u001b[39m df[\u001b[38;5;124m'\u001b[39m\u001b[38;5;124madmission_year\u001b[39m\u001b[38;5;124m'\u001b[39m]\u001b[38;5;241m.\u001b[39mdt\u001b[38;5;241m.\u001b[39myear \u001b[38;5;241m>\u001b[39m \u001b[38;5;241m2021\u001b[39m\n",
      "File \u001b[0;32m~/anaconda3/lib/python3.12/site-packages/pandas/core/generic.py:6299\u001b[0m, in \u001b[0;36mNDFrame.__getattr__\u001b[0;34m(self, name)\u001b[0m\n\u001b[1;32m   6292\u001b[0m \u001b[38;5;28;01mif\u001b[39;00m (\n\u001b[1;32m   6293\u001b[0m     name \u001b[38;5;129;01mnot\u001b[39;00m \u001b[38;5;129;01min\u001b[39;00m \u001b[38;5;28mself\u001b[39m\u001b[38;5;241m.\u001b[39m_internal_names_set\n\u001b[1;32m   6294\u001b[0m     \u001b[38;5;129;01mand\u001b[39;00m name \u001b[38;5;129;01mnot\u001b[39;00m \u001b[38;5;129;01min\u001b[39;00m \u001b[38;5;28mself\u001b[39m\u001b[38;5;241m.\u001b[39m_metadata\n\u001b[1;32m   6295\u001b[0m     \u001b[38;5;129;01mand\u001b[39;00m name \u001b[38;5;129;01mnot\u001b[39;00m \u001b[38;5;129;01min\u001b[39;00m \u001b[38;5;28mself\u001b[39m\u001b[38;5;241m.\u001b[39m_accessors\n\u001b[1;32m   6296\u001b[0m     \u001b[38;5;129;01mand\u001b[39;00m \u001b[38;5;28mself\u001b[39m\u001b[38;5;241m.\u001b[39m_info_axis\u001b[38;5;241m.\u001b[39m_can_hold_identifiers_and_holds_name(name)\n\u001b[1;32m   6297\u001b[0m ):\n\u001b[1;32m   6298\u001b[0m     \u001b[38;5;28;01mreturn\u001b[39;00m \u001b[38;5;28mself\u001b[39m[name]\n\u001b[0;32m-> 6299\u001b[0m \u001b[38;5;28;01mreturn\u001b[39;00m \u001b[38;5;28mobject\u001b[39m\u001b[38;5;241m.\u001b[39m\u001b[38;5;21m__getattribute__\u001b[39m(\u001b[38;5;28mself\u001b[39m, name)\n",
      "File \u001b[0;32m~/anaconda3/lib/python3.12/site-packages/pandas/core/accessor.py:224\u001b[0m, in \u001b[0;36mCachedAccessor.__get__\u001b[0;34m(self, obj, cls)\u001b[0m\n\u001b[1;32m    221\u001b[0m \u001b[38;5;28;01mif\u001b[39;00m obj \u001b[38;5;129;01mis\u001b[39;00m \u001b[38;5;28;01mNone\u001b[39;00m:\n\u001b[1;32m    222\u001b[0m     \u001b[38;5;66;03m# we're accessing the attribute of the class, i.e., Dataset.geo\u001b[39;00m\n\u001b[1;32m    223\u001b[0m     \u001b[38;5;28;01mreturn\u001b[39;00m \u001b[38;5;28mself\u001b[39m\u001b[38;5;241m.\u001b[39m_accessor\n\u001b[0;32m--> 224\u001b[0m accessor_obj \u001b[38;5;241m=\u001b[39m \u001b[38;5;28mself\u001b[39m\u001b[38;5;241m.\u001b[39m_accessor(obj)\n\u001b[1;32m    225\u001b[0m \u001b[38;5;66;03m# Replace the property with the accessor object. Inspired by:\u001b[39;00m\n\u001b[1;32m    226\u001b[0m \u001b[38;5;66;03m# https://www.pydanny.com/cached-property.html\u001b[39;00m\n\u001b[1;32m    227\u001b[0m \u001b[38;5;66;03m# We need to use object.__setattr__ because we overwrite __setattr__ on\u001b[39;00m\n\u001b[1;32m    228\u001b[0m \u001b[38;5;66;03m# NDFrame\u001b[39;00m\n\u001b[1;32m    229\u001b[0m \u001b[38;5;28mobject\u001b[39m\u001b[38;5;241m.\u001b[39m\u001b[38;5;21m__setattr__\u001b[39m(obj, \u001b[38;5;28mself\u001b[39m\u001b[38;5;241m.\u001b[39m_name, accessor_obj)\n",
      "File \u001b[0;32m~/anaconda3/lib/python3.12/site-packages/pandas/core/indexes/accessors.py:643\u001b[0m, in \u001b[0;36mCombinedDatetimelikeProperties.__new__\u001b[0;34m(cls, data)\u001b[0m\n\u001b[1;32m    640\u001b[0m \u001b[38;5;28;01melif\u001b[39;00m \u001b[38;5;28misinstance\u001b[39m(data\u001b[38;5;241m.\u001b[39mdtype, PeriodDtype):\n\u001b[1;32m    641\u001b[0m     \u001b[38;5;28;01mreturn\u001b[39;00m PeriodProperties(data, orig)\n\u001b[0;32m--> 643\u001b[0m \u001b[38;5;28;01mraise\u001b[39;00m \u001b[38;5;167;01mAttributeError\u001b[39;00m(\u001b[38;5;124m\"\u001b[39m\u001b[38;5;124mCan only use .dt accessor with datetimelike values\u001b[39m\u001b[38;5;124m\"\u001b[39m)\n",
      "\u001b[0;31mAttributeError\u001b[0m: Can only use .dt accessor with datetimelike values"
     ]
    }
   ],
   "source": [
    "import pandas as pd \n",
    "df =pd.read_csv('../../data/students.csv' )\n",
    "df_filtered = df['admission_year'].dt.year > 2021"
   ]
  },
  {
   "cell_type": "code",
   "execution_count": 16,
   "id": "11bc5b09",
   "metadata": {
    "lines_to_next_cell": 2
   },
   "outputs": [
    {
     "name": "stdout",
     "output_type": "stream",
     "text": [
      "<bound method Series.info of 0      True\n",
      "1      True\n",
      "2      True\n",
      "3      True\n",
      "4      True\n",
      "       ... \n",
      "98     True\n",
      "99     True\n",
      "100    True\n",
      "101    True\n",
      "102    True\n",
      "Name: current_gpa, Length: 103, dtype: bool>\n"
     ]
    }
   ],
   "source": [
    "df_filtered = df['current_gpa'] >= 2.0\n",
    "print(df_filtered.info)"
   ]
  },
  {
   "cell_type": "code",
   "execution_count": 34,
   "id": "f7960dd7",
   "metadata": {
    "lines_to_next_cell": 2
   },
   "outputs": [],
   "source": [
    "# your code here"
   ]
  },
  {
   "cell_type": "code",
   "execution_count": 35,
   "id": "56f514d4",
   "metadata": {},
   "outputs": [],
   "source": [
    "# your code here"
   ]
  },
  {
   "cell_type": "markdown",
   "id": "4da1819e",
   "metadata": {},
   "source": [
    "## **11. Select Specific Columns from Each DataFrame**\n",
    "\n",
    "Often, you don’t need all columns at once. For instance, you might extract only:\n",
    "\n",
    "-   `\"student_id\"`, `\"First_Name\"`, `\"last_name\"`, and `\"current_gpa\"` from `students.csv`\n",
    "-   `\"stud_ref_id\"`, `\"course_title\"`, `\"instructor_name\"`, `\"course_fee\"` from `enrollments.json`"
   ]
  },
  {
   "cell_type": "code",
   "execution_count": 29,
   "id": "872c92ae",
   "metadata": {
    "lines_to_next_cell": 2
   },
   "outputs": [
    {
     "name": "stdout",
     "output_type": "stream",
     "text": [
      "    student_id First_Name last_name\n",
      "0       STU001       John       Doe\n",
      "1       STU002      Maria  Gonzalez\n",
      "2       STU003      Priya     Patel\n",
      "3       STU004       Alex   Johnson\n",
      "4       STU005      Emily     Smith\n",
      "..         ...        ...       ...\n",
      "98      STU096   Victoria     Ortiz\n",
      "99      STU097     Julian    Foster\n",
      "100     STU098       Lucy   Ramirez\n",
      "101     STU099     Isaiah       Kim\n",
      "102     STU100     Amelia     Lopez\n",
      "\n",
      "[103 rows x 3 columns]\n",
      "    student_id First_Name last_name  current gpa\n",
      "0       STU001       John       Doe          3.5\n",
      "1       STU002      Maria  Gonzalez          3.8\n",
      "2       STU003      Priya     Patel          3.7\n",
      "3       STU004       Alex   Johnson          3.2\n",
      "4       STU005      Emily     Smith          3.9\n",
      "..         ...        ...       ...          ...\n",
      "98      STU096   Victoria     Ortiz          3.7\n",
      "99      STU097     Julian    Foster          3.8\n",
      "100     STU098       Lucy   Ramirez          3.9\n",
      "101     STU099     Isaiah       Kim          3.2\n",
      "102     STU100     Amelia     Lopez          3.3\n",
      "\n",
      "[103 rows x 4 columns]\n"
     ]
    }
   ],
   "source": [
    "import pandas as pd \n",
    "df =pd.read_csv('../../data/students.csv' )\n",
    "print( df [['student_id', 'First_Name' , 'last_name'  ]])\n",
    "print( df [['student_id', 'First_Name', 'last_name' , 'current gpa']])"
   ]
  },
  {
   "cell_type": "code",
   "execution_count": 37,
   "id": "d1677b96",
   "metadata": {
    "lines_to_next_cell": 2
   },
   "outputs": [],
   "source": [
    "# your code here"
   ]
  },
  {
   "cell_type": "code",
   "execution_count": 38,
   "id": "37cc3834",
   "metadata": {
    "lines_to_next_cell": 2
   },
   "outputs": [],
   "source": [
    "# your code here"
   ]
  },
  {
   "cell_type": "code",
   "execution_count": 39,
   "id": "490b379d",
   "metadata": {},
   "outputs": [],
   "source": [
    "# your code here"
   ]
  },
  {
   "cell_type": "markdown",
   "id": "012b0c54",
   "metadata": {},
   "source": [
    "## **12. Sort the DataFrame by One or More Columns**\n",
    "\n",
    "Sorting can help you identify which records have the highest or lowest values. For example:\n",
    "\n",
    "-   Sort the **students** DataFrame by `\"current_gpa\"` in descending order\n",
    "-   Sort the **enrollments** DataFrame by `\"course_fee\"` in ascending order\n",
    "\n",
    "**📝 Tip:** You can sort by multiple columns if needed.\n"
   ]
  },
  {
   "cell_type": "code",
   "execution_count": 17,
   "id": "614f00fc",
   "metadata": {
    "lines_to_next_cell": 2
   },
   "outputs": [
    {
     "name": "stdout",
     "output_type": "stream",
     "text": [
      "   student_id first_name  last_name  Birthddate gender   majorField  \\\n",
      "68     STU066   Victoria     Morris    2/2/1997      F    Chemistry   \n",
      "52     STU050     Amelia      Scott    9/9/1997      F    Chemistry   \n",
      "24     STU025     Elijah  Hernandez  12/30/1998      M      Physics   \n",
      "92     STU090      Molly     Barnes   2/26/1997      F    Chemistry   \n",
      "31     STU032      Grace      Moore   2/28/1996      F  Mathematics   \n",
      "..        ...        ...        ...         ...    ...          ...   \n",
      "70     STU068       Zoey       Reed    4/4/1996      F      History   \n",
      "74     STU072      Layla     Murphy    8/8/1996      F  Mathematics   \n",
      "81     STU079       Owen       Ward   3/15/1999      M  Engineering   \n",
      "89     STU087      Wyatt      Price  11/23/1999      M  Engineering   \n",
      "94     STU092     Claire     Powell   4/28/1996      F      History   \n",
      "\n",
      "   admission_year  current_gpa                 contact_email  mobile number  \\\n",
      "68           2019          3.9   victoria.morris@example.com         -720.0   \n",
      "52           2019          3.9      amelia.scott@example.com         -704.0   \n",
      "24           2022          3.9  elijah.hernandez@example.com         -679.0   \n",
      "92           2019          3.9      molly.barnes@example.com         -744.0   \n",
      "31           2020          3.9       grace.moore@example.com         -686.0   \n",
      "..            ...          ...                           ...            ...   \n",
      "70           2020          NaN         zoey.reed@example.com         -722.0   \n",
      "74           2020          NaN      layla.murphy@example.com         -726.0   \n",
      "81           2021          NaN         owen.ward@example.com         -733.0   \n",
      "89           2021          NaN       wyatt.price@example.com         -741.0   \n",
      "94           2020          NaN     claire.powell@example.com         -746.0   \n",
      "\n",
      "       home_city HOME COUNTRY  \n",
      "68       Modesto          USA  \n",
      "52      St. Paul          USA  \n",
      "24       Seattle          USA  \n",
      "92  Grand Rapids          USA  \n",
      "31      San Jose          USA  \n",
      "..           ...          ...  \n",
      "70      Columbia          USA  \n",
      "74        Irving          USA  \n",
      "81     Arlington          USA  \n",
      "89        Toledo          USA  \n",
      "94     Elizabeth          USA  \n",
      "\n",
      "[103 rows x 12 columns]\n"
     ]
    }
   ],
   "source": [
    "df_sorted = df.sort_values(by='current_gpa', ascending=False)\n",
    "print(df_sorted)"
   ]
  },
  {
   "cell_type": "code",
   "execution_count": 19,
   "id": "bdb4c756",
   "metadata": {
    "lines_to_next_cell": 2
   },
   "outputs": [
    {
     "ename": "TypeError",
     "evalue": "'<' not supported between instances of 'int' and 'str'",
     "output_type": "error",
     "traceback": [
      "\u001b[0;31m---------------------------------------------------------------------------\u001b[0m",
      "\u001b[0;31mTypeError\u001b[0m                                 Traceback (most recent call last)",
      "Cell \u001b[0;32mIn[19], line 1\u001b[0m\n\u001b[0;32m----> 1\u001b[0m de_sorted \u001b[38;5;241m=\u001b[39m pd\u001b[38;5;241m.\u001b[39mto_numeric(de\u001b[38;5;241m.\u001b[39msort_values(by\u001b[38;5;241m=\u001b[39m\u001b[38;5;124m'\u001b[39m\u001b[38;5;124mcourse_fee\u001b[39m\u001b[38;5;124m'\u001b[39m))\n\u001b[1;32m      2\u001b[0m \u001b[38;5;28mprint\u001b[39m(de_sorted)\n",
      "File \u001b[0;32m~/anaconda3/lib/python3.12/site-packages/pandas/core/frame.py:7200\u001b[0m, in \u001b[0;36mDataFrame.sort_values\u001b[0;34m(self, by, axis, ascending, inplace, kind, na_position, ignore_index, key)\u001b[0m\n\u001b[1;32m   7197\u001b[0m     \u001b[38;5;28;01mif\u001b[39;00m \u001b[38;5;28misinstance\u001b[39m(ascending, (\u001b[38;5;28mtuple\u001b[39m, \u001b[38;5;28mlist\u001b[39m)):\n\u001b[1;32m   7198\u001b[0m         ascending \u001b[38;5;241m=\u001b[39m ascending[\u001b[38;5;241m0\u001b[39m]\n\u001b[0;32m-> 7200\u001b[0m     indexer \u001b[38;5;241m=\u001b[39m nargsort(\n\u001b[1;32m   7201\u001b[0m         k, kind\u001b[38;5;241m=\u001b[39mkind, ascending\u001b[38;5;241m=\u001b[39mascending, na_position\u001b[38;5;241m=\u001b[39mna_position, key\u001b[38;5;241m=\u001b[39mkey\n\u001b[1;32m   7202\u001b[0m     )\n\u001b[1;32m   7203\u001b[0m \u001b[38;5;28;01melse\u001b[39;00m:\n\u001b[1;32m   7204\u001b[0m     \u001b[38;5;28;01mif\u001b[39;00m inplace:\n",
      "File \u001b[0;32m~/anaconda3/lib/python3.12/site-packages/pandas/core/sorting.py:439\u001b[0m, in \u001b[0;36mnargsort\u001b[0;34m(items, kind, ascending, na_position, key, mask)\u001b[0m\n\u001b[1;32m    437\u001b[0m     non_nans \u001b[38;5;241m=\u001b[39m non_nans[::\u001b[38;5;241m-\u001b[39m\u001b[38;5;241m1\u001b[39m]\n\u001b[1;32m    438\u001b[0m     non_nan_idx \u001b[38;5;241m=\u001b[39m non_nan_idx[::\u001b[38;5;241m-\u001b[39m\u001b[38;5;241m1\u001b[39m]\n\u001b[0;32m--> 439\u001b[0m indexer \u001b[38;5;241m=\u001b[39m non_nan_idx[non_nans\u001b[38;5;241m.\u001b[39margsort(kind\u001b[38;5;241m=\u001b[39mkind)]\n\u001b[1;32m    440\u001b[0m \u001b[38;5;28;01mif\u001b[39;00m \u001b[38;5;129;01mnot\u001b[39;00m ascending:\n\u001b[1;32m    441\u001b[0m     indexer \u001b[38;5;241m=\u001b[39m indexer[::\u001b[38;5;241m-\u001b[39m\u001b[38;5;241m1\u001b[39m]\n",
      "\u001b[0;31mTypeError\u001b[0m: '<' not supported between instances of 'int' and 'str'"
     ]
    }
   ],
   "source": [
    "de_sorted = pd.to_numeric(de.sort_values(by='course_fee'))\n",
    "print(de_sorted)"
   ]
  },
  {
   "cell_type": "code",
   "execution_count": 42,
   "id": "fa08f341",
   "metadata": {
    "lines_to_next_cell": 2
   },
   "outputs": [],
   "source": [
    "# your code here"
   ]
  },
  {
   "cell_type": "code",
   "execution_count": 43,
   "id": "89e0b245",
   "metadata": {},
   "outputs": [],
   "source": [
    "# your code here"
   ]
  },
  {
   "cell_type": "markdown",
   "id": "eb5d1e3f",
   "metadata": {},
   "source": [
    "## **13. Group Data by a Column and Compute Aggregate Functions**\n",
    "\n",
    "Grouping lets you see aggregated info by category. For example, group **students** by `\"majorField\"` and compute the average `\"current_gpa\"`. In **enrollments**, group by `\"instructor_name\"` and compute the average `\"course_fee\"`.\n",
    "\n",
    "**📝 Tip:** Aggregations might include `.mean()`, `.sum()`, `.count()`, etc."
   ]
  },
  {
   "cell_type": "code",
   "execution_count": 20,
   "id": "518157a2",
   "metadata": {
    "lines_to_next_cell": 2
   },
   "outputs": [
    {
     "name": "stdout",
     "output_type": "stream",
     "text": [
      "         majorField  current_gpa\n",
      "0           Biology     3.515385\n",
      "1         Chemistry     3.850000\n",
      "2  Computer Science     3.450000\n",
      "3         Economics     3.290909\n",
      "4       Engineering     3.563636\n",
      "5           History     3.344444\n",
      "6       Mathematics     3.638462\n",
      "7           Physics     3.753846\n"
     ]
    }
   ],
   "source": [
    "df_grouped = df.groupby('majorField')['current_gpa'].mean().reset_index()\n",
    "\n",
    "print(df_grouped)"
   ]
  },
  {
   "cell_type": "code",
   "execution_count": 21,
   "id": "37cb3a9a",
   "metadata": {
    "lines_to_next_cell": 2
   },
   "outputs": [
    {
     "ename": "KeyError",
     "evalue": "'instructor_name'",
     "output_type": "error",
     "traceback": [
      "\u001b[0;31m---------------------------------------------------------------------------\u001b[0m",
      "\u001b[0;31mKeyError\u001b[0m                                  Traceback (most recent call last)",
      "Cell \u001b[0;32mIn[21], line 1\u001b[0m\n\u001b[0;32m----> 1\u001b[0m df_grouped \u001b[38;5;241m=\u001b[39m df\u001b[38;5;241m.\u001b[39mgroupby(\u001b[38;5;124m'\u001b[39m\u001b[38;5;124minstructor_name\u001b[39m\u001b[38;5;124m'\u001b[39m)[\u001b[38;5;124m'\u001b[39m\u001b[38;5;124mcourse_fee\u001b[39m\u001b[38;5;124m'\u001b[39m]\u001b[38;5;241m.\u001b[39mmean()\u001b[38;5;241m.\u001b[39mreset_index()\n\u001b[1;32m      3\u001b[0m \u001b[38;5;28mprint\u001b[39m(df_grouped)\n",
      "File \u001b[0;32m~/anaconda3/lib/python3.12/site-packages/pandas/core/frame.py:9183\u001b[0m, in \u001b[0;36mDataFrame.groupby\u001b[0;34m(self, by, axis, level, as_index, sort, group_keys, observed, dropna)\u001b[0m\n\u001b[1;32m   9180\u001b[0m \u001b[38;5;28;01mif\u001b[39;00m level \u001b[38;5;129;01mis\u001b[39;00m \u001b[38;5;28;01mNone\u001b[39;00m \u001b[38;5;129;01mand\u001b[39;00m by \u001b[38;5;129;01mis\u001b[39;00m \u001b[38;5;28;01mNone\u001b[39;00m:\n\u001b[1;32m   9181\u001b[0m     \u001b[38;5;28;01mraise\u001b[39;00m \u001b[38;5;167;01mTypeError\u001b[39;00m(\u001b[38;5;124m\"\u001b[39m\u001b[38;5;124mYou have to supply one of \u001b[39m\u001b[38;5;124m'\u001b[39m\u001b[38;5;124mby\u001b[39m\u001b[38;5;124m'\u001b[39m\u001b[38;5;124m and \u001b[39m\u001b[38;5;124m'\u001b[39m\u001b[38;5;124mlevel\u001b[39m\u001b[38;5;124m'\u001b[39m\u001b[38;5;124m\"\u001b[39m)\n\u001b[0;32m-> 9183\u001b[0m \u001b[38;5;28;01mreturn\u001b[39;00m DataFrameGroupBy(\n\u001b[1;32m   9184\u001b[0m     obj\u001b[38;5;241m=\u001b[39m\u001b[38;5;28mself\u001b[39m,\n\u001b[1;32m   9185\u001b[0m     keys\u001b[38;5;241m=\u001b[39mby,\n\u001b[1;32m   9186\u001b[0m     axis\u001b[38;5;241m=\u001b[39maxis,\n\u001b[1;32m   9187\u001b[0m     level\u001b[38;5;241m=\u001b[39mlevel,\n\u001b[1;32m   9188\u001b[0m     as_index\u001b[38;5;241m=\u001b[39mas_index,\n\u001b[1;32m   9189\u001b[0m     sort\u001b[38;5;241m=\u001b[39msort,\n\u001b[1;32m   9190\u001b[0m     group_keys\u001b[38;5;241m=\u001b[39mgroup_keys,\n\u001b[1;32m   9191\u001b[0m     observed\u001b[38;5;241m=\u001b[39mobserved,\n\u001b[1;32m   9192\u001b[0m     dropna\u001b[38;5;241m=\u001b[39mdropna,\n\u001b[1;32m   9193\u001b[0m )\n",
      "File \u001b[0;32m~/anaconda3/lib/python3.12/site-packages/pandas/core/groupby/groupby.py:1329\u001b[0m, in \u001b[0;36mGroupBy.__init__\u001b[0;34m(self, obj, keys, axis, level, grouper, exclusions, selection, as_index, sort, group_keys, observed, dropna)\u001b[0m\n\u001b[1;32m   1326\u001b[0m \u001b[38;5;28mself\u001b[39m\u001b[38;5;241m.\u001b[39mdropna \u001b[38;5;241m=\u001b[39m dropna\n\u001b[1;32m   1328\u001b[0m \u001b[38;5;28;01mif\u001b[39;00m grouper \u001b[38;5;129;01mis\u001b[39;00m \u001b[38;5;28;01mNone\u001b[39;00m:\n\u001b[0;32m-> 1329\u001b[0m     grouper, exclusions, obj \u001b[38;5;241m=\u001b[39m get_grouper(\n\u001b[1;32m   1330\u001b[0m         obj,\n\u001b[1;32m   1331\u001b[0m         keys,\n\u001b[1;32m   1332\u001b[0m         axis\u001b[38;5;241m=\u001b[39maxis,\n\u001b[1;32m   1333\u001b[0m         level\u001b[38;5;241m=\u001b[39mlevel,\n\u001b[1;32m   1334\u001b[0m         sort\u001b[38;5;241m=\u001b[39msort,\n\u001b[1;32m   1335\u001b[0m         observed\u001b[38;5;241m=\u001b[39m\u001b[38;5;28;01mFalse\u001b[39;00m \u001b[38;5;28;01mif\u001b[39;00m observed \u001b[38;5;129;01mis\u001b[39;00m lib\u001b[38;5;241m.\u001b[39mno_default \u001b[38;5;28;01melse\u001b[39;00m observed,\n\u001b[1;32m   1336\u001b[0m         dropna\u001b[38;5;241m=\u001b[39m\u001b[38;5;28mself\u001b[39m\u001b[38;5;241m.\u001b[39mdropna,\n\u001b[1;32m   1337\u001b[0m     )\n\u001b[1;32m   1339\u001b[0m \u001b[38;5;28;01mif\u001b[39;00m observed \u001b[38;5;129;01mis\u001b[39;00m lib\u001b[38;5;241m.\u001b[39mno_default:\n\u001b[1;32m   1340\u001b[0m     \u001b[38;5;28;01mif\u001b[39;00m \u001b[38;5;28many\u001b[39m(ping\u001b[38;5;241m.\u001b[39m_passed_categorical \u001b[38;5;28;01mfor\u001b[39;00m ping \u001b[38;5;129;01min\u001b[39;00m grouper\u001b[38;5;241m.\u001b[39mgroupings):\n",
      "File \u001b[0;32m~/anaconda3/lib/python3.12/site-packages/pandas/core/groupby/grouper.py:1043\u001b[0m, in \u001b[0;36mget_grouper\u001b[0;34m(obj, key, axis, level, sort, observed, validate, dropna)\u001b[0m\n\u001b[1;32m   1041\u001b[0m         in_axis, level, gpr \u001b[38;5;241m=\u001b[39m \u001b[38;5;28;01mFalse\u001b[39;00m, gpr, \u001b[38;5;28;01mNone\u001b[39;00m\n\u001b[1;32m   1042\u001b[0m     \u001b[38;5;28;01melse\u001b[39;00m:\n\u001b[0;32m-> 1043\u001b[0m         \u001b[38;5;28;01mraise\u001b[39;00m \u001b[38;5;167;01mKeyError\u001b[39;00m(gpr)\n\u001b[1;32m   1044\u001b[0m \u001b[38;5;28;01melif\u001b[39;00m \u001b[38;5;28misinstance\u001b[39m(gpr, Grouper) \u001b[38;5;129;01mand\u001b[39;00m gpr\u001b[38;5;241m.\u001b[39mkey \u001b[38;5;129;01mis\u001b[39;00m \u001b[38;5;129;01mnot\u001b[39;00m \u001b[38;5;28;01mNone\u001b[39;00m:\n\u001b[1;32m   1045\u001b[0m     \u001b[38;5;66;03m# Add key to exclusions\u001b[39;00m\n\u001b[1;32m   1046\u001b[0m     exclusions\u001b[38;5;241m.\u001b[39madd(gpr\u001b[38;5;241m.\u001b[39mkey)\n",
      "\u001b[0;31mKeyError\u001b[0m: 'instructor_name'"
     ]
    }
   ],
   "source": [
    "df_grouped = df.groupby('instructor_name')['course_fee'].mean().reset_index()\n",
    "\n",
    "print(df_grouped)"
   ]
  },
  {
   "cell_type": "code",
   "execution_count": 46,
   "id": "f691e36d",
   "metadata": {
    "lines_to_next_cell": 2
   },
   "outputs": [],
   "source": [
    "# your code here"
   ]
  },
  {
   "cell_type": "code",
   "execution_count": 47,
   "id": "8cf82529",
   "metadata": {},
   "outputs": [],
   "source": [
    "# your code here"
   ]
  },
  {
   "cell_type": "markdown",
   "id": "523849b9",
   "metadata": {},
   "source": [
    "## **14. Apply a Custom Function**\n",
    "\n",
    "Define a normal Python function to transform data in a column. For example, title-case a name or uppercase a field. Apply that function to each element in the column.\n",
    "\n",
    "**📝 Tip:** If your function references another library call or has complex logic, define it above and then use `.apply(...)` with your function name. Once you've done this, see if you do this using lamda notation. "
   ]
  },
  {
   "cell_type": "code",
   "execution_count": 23,
   "id": "b9714884",
   "metadata": {
    "lines_to_next_cell": 2
   },
   "outputs": [
    {
     "ename": "AttributeError",
     "evalue": "'DataFrame' object has no attribute 'title'",
     "output_type": "error",
     "traceback": [
      "\u001b[0;31m---------------------------------------------------------------------------\u001b[0m",
      "\u001b[0;31mAttributeError\u001b[0m                            Traceback (most recent call last)",
      "\u001b[0;32m/tmp/ipykernel_23656/2984486505.py\u001b[0m in \u001b[0;36m?\u001b[0;34m()\u001b[0m\n\u001b[1;32m      1\u001b[0m \u001b[0;32mimport\u001b[0m \u001b[0mpandas\u001b[0m \u001b[0;32mas\u001b[0m \u001b[0mpd\u001b[0m\u001b[0;34m\u001b[0m\u001b[0;34m\u001b[0m\u001b[0m\n\u001b[1;32m      2\u001b[0m \u001b[0;34m\u001b[0m\u001b[0m\n\u001b[1;32m      3\u001b[0m \u001b[0mde\u001b[0m\u001b[0;34m=\u001b[0m\u001b[0mpd\u001b[0m\u001b[0;34m.\u001b[0m\u001b[0mread_json\u001b[0m\u001b[0;34m(\u001b[0m\u001b[0;34m'../../data/enrollments.json'\u001b[0m\u001b[0;34m)\u001b[0m\u001b[0;34m\u001b[0m\u001b[0;34m\u001b[0m\u001b[0m\n\u001b[0;32m----> 4\u001b[0;31m \u001b[0mde_title\u001b[0m \u001b[0;34m=\u001b[0m \u001b[0mde\u001b[0m\u001b[0;34m.\u001b[0m\u001b[0mtitle\u001b[0m\u001b[0;34m(\u001b[0m\u001b[0;34m)\u001b[0m\u001b[0;34m\u001b[0m\u001b[0;34m\u001b[0m\u001b[0m\n\u001b[0m\u001b[1;32m      5\u001b[0m \u001b[0;34m\u001b[0m\u001b[0m\n\u001b[1;32m      6\u001b[0m \u001b[0mprint\u001b[0m\u001b[0;34m(\u001b[0m\u001b[0mde_title\u001b[0m\u001b[0;34m)\u001b[0m\u001b[0;34m\u001b[0m\u001b[0;34m\u001b[0m\u001b[0m\n",
      "\u001b[0;32m~/anaconda3/lib/python3.12/site-packages/pandas/core/generic.py\u001b[0m in \u001b[0;36m?\u001b[0;34m(self, name)\u001b[0m\n\u001b[1;32m   6295\u001b[0m             \u001b[0;32mand\u001b[0m \u001b[0mname\u001b[0m \u001b[0;32mnot\u001b[0m \u001b[0;32min\u001b[0m \u001b[0mself\u001b[0m\u001b[0;34m.\u001b[0m\u001b[0m_accessors\u001b[0m\u001b[0;34m\u001b[0m\u001b[0;34m\u001b[0m\u001b[0m\n\u001b[1;32m   6296\u001b[0m             \u001b[0;32mand\u001b[0m \u001b[0mself\u001b[0m\u001b[0;34m.\u001b[0m\u001b[0m_info_axis\u001b[0m\u001b[0;34m.\u001b[0m\u001b[0m_can_hold_identifiers_and_holds_name\u001b[0m\u001b[0;34m(\u001b[0m\u001b[0mname\u001b[0m\u001b[0;34m)\u001b[0m\u001b[0;34m\u001b[0m\u001b[0;34m\u001b[0m\u001b[0m\n\u001b[1;32m   6297\u001b[0m         \u001b[0;34m)\u001b[0m\u001b[0;34m:\u001b[0m\u001b[0;34m\u001b[0m\u001b[0;34m\u001b[0m\u001b[0m\n\u001b[1;32m   6298\u001b[0m             \u001b[0;32mreturn\u001b[0m \u001b[0mself\u001b[0m\u001b[0;34m[\u001b[0m\u001b[0mname\u001b[0m\u001b[0;34m]\u001b[0m\u001b[0;34m\u001b[0m\u001b[0;34m\u001b[0m\u001b[0m\n\u001b[0;32m-> 6299\u001b[0;31m         \u001b[0;32mreturn\u001b[0m \u001b[0mobject\u001b[0m\u001b[0;34m.\u001b[0m\u001b[0m__getattribute__\u001b[0m\u001b[0;34m(\u001b[0m\u001b[0mself\u001b[0m\u001b[0;34m,\u001b[0m \u001b[0mname\u001b[0m\u001b[0;34m)\u001b[0m\u001b[0;34m\u001b[0m\u001b[0;34m\u001b[0m\u001b[0m\n\u001b[0m",
      "\u001b[0;31mAttributeError\u001b[0m: 'DataFrame' object has no attribute 'title'"
     ]
    }
   ],
   "source": [
    "import pandas as pd\n",
    "\n",
    "de=pd.read_json('../../data/enrollments.json')\n",
    "de_title = de.title()\n",
    "\n",
    "print(de_title)"
   ]
  },
  {
   "cell_type": "code",
   "execution_count": 49,
   "id": "aaf82dd3",
   "metadata": {
    "lines_to_next_cell": 2
   },
   "outputs": [],
   "source": [
    "# your code here"
   ]
  },
  {
   "cell_type": "code",
   "execution_count": 50,
   "id": "77041ef8",
   "metadata": {
    "lines_to_next_cell": 2
   },
   "outputs": [],
   "source": [
    "# your code here"
   ]
  },
  {
   "cell_type": "code",
   "execution_count": 51,
   "id": "65d5741a",
   "metadata": {},
   "outputs": [],
   "source": [
    "# your code here"
   ]
  },
  {
   "cell_type": "markdown",
   "id": "0c240863",
   "metadata": {},
   "source": [
    "## **15. Create a New Column Based on Existing Ones**\n",
    "\n",
    "Use existing columns to generate new ones. For instance, combine `\"First_Name\"` and `\"last_name\"` into `\"full_name\"`, or compute `\"fees_after_tax\"` in enrollments if you assume a tax rate."
   ]
  },
  {
   "cell_type": "code",
   "execution_count": 6,
   "id": "9d7d945d",
   "metadata": {
    "lines_to_next_cell": 2
   },
   "outputs": [
    {
     "name": "stdout",
     "output_type": "stream",
     "text": [
      "    student_id First_Name last_name  Birthddate gender        majorField  \\\n",
      "0       STU001       John       Doe   4/12/1998      M  Computer Science   \n",
      "1       STU002      Maria  Gonzalez    9/5/1997      F           Biology   \n",
      "2       STU003      Priya     Patel   1/23/1999      F       Engineering   \n",
      "3       STU004       Alex   Johnson  12/15/1996      M       Mathematics   \n",
      "4       STU005      Emily     Smith   7/30/2000      F           Physics   \n",
      "..         ...        ...       ...         ...    ...               ...   \n",
      "98      STU096   Victoria     Ortiz    8/2/1996      F       Mathematics   \n",
      "99      STU097     Julian    Foster    9/3/1998      M           Physics   \n",
      "100     STU098       Lucy   Ramirez   10/4/1997      F         Chemistry   \n",
      "101     STU099     Isaiah       Kim   11/5/1999      M         Economics   \n",
      "102     STU100     Amelia     Lopez   12/6/1996      F           History   \n",
      "\n",
      "    admission_year  current gpa               contact_email  mobile number  \\\n",
      "0             2020          3.5        john.doe@example.com         -655.0   \n",
      "1             2019          3.8  maria.gonzalez@example.com         -656.0   \n",
      "2             2021          3.7     priya.patel@example.com         -657.0   \n",
      "3             2018          3.2    alex.johnson@example.com            NaN   \n",
      "4             2022          3.9     emily.smith@example.com         -659.0   \n",
      "..             ...          ...                         ...            ...   \n",
      "98            2020          3.7  victoria.ortiz@example.com         -750.0   \n",
      "99            2022          3.8   julian.foster@example.com         -751.0   \n",
      "100           2019          3.9    lucy.ramirez@example.com         -752.0   \n",
      "101           2021          3.2      isaiah.kim@example.com         -753.0   \n",
      "102           2020          3.3    amelia.lopez@example.com         -754.0   \n",
      "\n",
      "     home_city HOME COUNTRY       Full_name  \n",
      "0        Tampa          USA        John Doe  \n",
      "1       London           UK  Maria Gonzalez  \n",
      "2       Mumbai        India     Priya Patel  \n",
      "3       Sydney    Australia    Alex Johnson  \n",
      "4     New York          USA     Emily Smith  \n",
      "..         ...          ...             ...  \n",
      "98     Concord          USA  Victoria Ortiz  \n",
      "99      Toledo          USA   Julian Foster  \n",
      "100  St. Louis          USA    Lucy Ramirez  \n",
      "101    Orlando          USA      Isaiah Kim  \n",
      "102    Raleigh          USA    Amelia Lopez  \n",
      "\n",
      "[103 rows x 13 columns]\n"
     ]
    }
   ],
   "source": [
    "import pandas as pd \n",
    "df =pd.read_csv('../../data/students.csv' )\n",
    "df['Full_name']= df['First_Name'] + ' ' + df['last_name']\n",
    "print(df)"
   ]
  },
  {
   "cell_type": "code",
   "execution_count": 53,
   "id": "c0a7ed4a",
   "metadata": {
    "lines_to_next_cell": 2
   },
   "outputs": [],
   "source": [
    "# your code here"
   ]
  },
  {
   "cell_type": "code",
   "execution_count": 39,
   "id": "04b685c2",
   "metadata": {
    "lines_to_next_cell": 2
   },
   "outputs": [
    {
     "ename": "AttributeError",
     "evalue": "'int' object has no attribute 'isna'",
     "output_type": "error",
     "traceback": [
      "\u001b[0;31m---------------------------------------------------------------------------\u001b[0m",
      "\u001b[0;31mAttributeError\u001b[0m                            Traceback (most recent call last)",
      "Cell \u001b[0;32mIn[39], line 3\u001b[0m\n\u001b[1;32m      1\u001b[0m \u001b[38;5;28;01mimport\u001b[39;00m \u001b[38;5;21;01mpandas\u001b[39;00m \u001b[38;5;28;01mas\u001b[39;00m \u001b[38;5;21;01mpd\u001b[39;00m \n\u001b[1;32m      2\u001b[0m de\u001b[38;5;241m=\u001b[39mpd\u001b[38;5;241m.\u001b[39mread_json(\u001b[38;5;124m'\u001b[39m\u001b[38;5;124m../../data/enrollments.json\u001b[39m\u001b[38;5;124m'\u001b[39m)\n\u001b[0;32m----> 3\u001b[0m de[\u001b[38;5;124m'\u001b[39m\u001b[38;5;124mtaxed_fee\u001b[39m\u001b[38;5;124m'\u001b[39m] \u001b[38;5;241m=\u001b[39m de\u001b[38;5;241m.\u001b[39mapply(\n\u001b[1;32m      4\u001b[0m     \u001b[38;5;28;01mlambda\u001b[39;00m row: row[\u001b[38;5;124m'\u001b[39m\u001b[38;5;124mcourse_fee\u001b[39m\u001b[38;5;124m'\u001b[39m] \u001b[38;5;241m*\u001b[39m \u001b[38;5;241m1.1\u001b[39m \n\u001b[1;32m      5\u001b[0m         \u001b[38;5;28;01mif\u001b[39;00m row[\u001b[38;5;124m'\u001b[39m\u001b[38;5;124mcourse_fee\u001b[39m\u001b[38;5;124m'\u001b[39m]\u001b[38;5;241m.\u001b[39misna() \n\u001b[1;32m      6\u001b[0m         \u001b[38;5;28;01melse\u001b[39;00m \u001b[38;5;241m0\u001b[39m ,\n\u001b[1;32m      7\u001b[0m     axis\u001b[38;5;241m=\u001b[39m\u001b[38;5;241m1\u001b[39m \n\u001b[1;32m      8\u001b[0m )\n\u001b[1;32m      9\u001b[0m \u001b[38;5;28mprint\u001b[39m (de)\n",
      "File \u001b[0;32m~/anaconda3/lib/python3.12/site-packages/pandas/core/frame.py:10374\u001b[0m, in \u001b[0;36mDataFrame.apply\u001b[0;34m(self, func, axis, raw, result_type, args, by_row, engine, engine_kwargs, **kwargs)\u001b[0m\n\u001b[1;32m  10360\u001b[0m \u001b[38;5;28;01mfrom\u001b[39;00m \u001b[38;5;21;01mpandas\u001b[39;00m\u001b[38;5;21;01m.\u001b[39;00m\u001b[38;5;21;01mcore\u001b[39;00m\u001b[38;5;21;01m.\u001b[39;00m\u001b[38;5;21;01mapply\u001b[39;00m \u001b[38;5;28;01mimport\u001b[39;00m frame_apply\n\u001b[1;32m  10362\u001b[0m op \u001b[38;5;241m=\u001b[39m frame_apply(\n\u001b[1;32m  10363\u001b[0m     \u001b[38;5;28mself\u001b[39m,\n\u001b[1;32m  10364\u001b[0m     func\u001b[38;5;241m=\u001b[39mfunc,\n\u001b[0;32m   (...)\u001b[0m\n\u001b[1;32m  10372\u001b[0m     kwargs\u001b[38;5;241m=\u001b[39mkwargs,\n\u001b[1;32m  10373\u001b[0m )\n\u001b[0;32m> 10374\u001b[0m \u001b[38;5;28;01mreturn\u001b[39;00m op\u001b[38;5;241m.\u001b[39mapply()\u001b[38;5;241m.\u001b[39m__finalize__(\u001b[38;5;28mself\u001b[39m, method\u001b[38;5;241m=\u001b[39m\u001b[38;5;124m\"\u001b[39m\u001b[38;5;124mapply\u001b[39m\u001b[38;5;124m\"\u001b[39m)\n",
      "File \u001b[0;32m~/anaconda3/lib/python3.12/site-packages/pandas/core/apply.py:916\u001b[0m, in \u001b[0;36mFrameApply.apply\u001b[0;34m(self)\u001b[0m\n\u001b[1;32m    913\u001b[0m \u001b[38;5;28;01melif\u001b[39;00m \u001b[38;5;28mself\u001b[39m\u001b[38;5;241m.\u001b[39mraw:\n\u001b[1;32m    914\u001b[0m     \u001b[38;5;28;01mreturn\u001b[39;00m \u001b[38;5;28mself\u001b[39m\u001b[38;5;241m.\u001b[39mapply_raw(engine\u001b[38;5;241m=\u001b[39m\u001b[38;5;28mself\u001b[39m\u001b[38;5;241m.\u001b[39mengine, engine_kwargs\u001b[38;5;241m=\u001b[39m\u001b[38;5;28mself\u001b[39m\u001b[38;5;241m.\u001b[39mengine_kwargs)\n\u001b[0;32m--> 916\u001b[0m \u001b[38;5;28;01mreturn\u001b[39;00m \u001b[38;5;28mself\u001b[39m\u001b[38;5;241m.\u001b[39mapply_standard()\n",
      "File \u001b[0;32m~/anaconda3/lib/python3.12/site-packages/pandas/core/apply.py:1063\u001b[0m, in \u001b[0;36mFrameApply.apply_standard\u001b[0;34m(self)\u001b[0m\n\u001b[1;32m   1061\u001b[0m \u001b[38;5;28;01mdef\u001b[39;00m \u001b[38;5;21mapply_standard\u001b[39m(\u001b[38;5;28mself\u001b[39m):\n\u001b[1;32m   1062\u001b[0m     \u001b[38;5;28;01mif\u001b[39;00m \u001b[38;5;28mself\u001b[39m\u001b[38;5;241m.\u001b[39mengine \u001b[38;5;241m==\u001b[39m \u001b[38;5;124m\"\u001b[39m\u001b[38;5;124mpython\u001b[39m\u001b[38;5;124m\"\u001b[39m:\n\u001b[0;32m-> 1063\u001b[0m         results, res_index \u001b[38;5;241m=\u001b[39m \u001b[38;5;28mself\u001b[39m\u001b[38;5;241m.\u001b[39mapply_series_generator()\n\u001b[1;32m   1064\u001b[0m     \u001b[38;5;28;01melse\u001b[39;00m:\n\u001b[1;32m   1065\u001b[0m         results, res_index \u001b[38;5;241m=\u001b[39m \u001b[38;5;28mself\u001b[39m\u001b[38;5;241m.\u001b[39mapply_series_numba()\n",
      "File \u001b[0;32m~/anaconda3/lib/python3.12/site-packages/pandas/core/apply.py:1081\u001b[0m, in \u001b[0;36mFrameApply.apply_series_generator\u001b[0;34m(self)\u001b[0m\n\u001b[1;32m   1078\u001b[0m \u001b[38;5;28;01mwith\u001b[39;00m option_context(\u001b[38;5;124m\"\u001b[39m\u001b[38;5;124mmode.chained_assignment\u001b[39m\u001b[38;5;124m\"\u001b[39m, \u001b[38;5;28;01mNone\u001b[39;00m):\n\u001b[1;32m   1079\u001b[0m     \u001b[38;5;28;01mfor\u001b[39;00m i, v \u001b[38;5;129;01min\u001b[39;00m \u001b[38;5;28menumerate\u001b[39m(series_gen):\n\u001b[1;32m   1080\u001b[0m         \u001b[38;5;66;03m# ignore SettingWithCopy here in case the user mutates\u001b[39;00m\n\u001b[0;32m-> 1081\u001b[0m         results[i] \u001b[38;5;241m=\u001b[39m \u001b[38;5;28mself\u001b[39m\u001b[38;5;241m.\u001b[39mfunc(v, \u001b[38;5;241m*\u001b[39m\u001b[38;5;28mself\u001b[39m\u001b[38;5;241m.\u001b[39margs, \u001b[38;5;241m*\u001b[39m\u001b[38;5;241m*\u001b[39m\u001b[38;5;28mself\u001b[39m\u001b[38;5;241m.\u001b[39mkwargs)\n\u001b[1;32m   1082\u001b[0m         \u001b[38;5;28;01mif\u001b[39;00m \u001b[38;5;28misinstance\u001b[39m(results[i], ABCSeries):\n\u001b[1;32m   1083\u001b[0m             \u001b[38;5;66;03m# If we have a view on v, we need to make a copy because\u001b[39;00m\n\u001b[1;32m   1084\u001b[0m             \u001b[38;5;66;03m#  series_generator will swap out the underlying data\u001b[39;00m\n\u001b[1;32m   1085\u001b[0m             results[i] \u001b[38;5;241m=\u001b[39m results[i]\u001b[38;5;241m.\u001b[39mcopy(deep\u001b[38;5;241m=\u001b[39m\u001b[38;5;28;01mFalse\u001b[39;00m)\n",
      "Cell \u001b[0;32mIn[39], line 5\u001b[0m, in \u001b[0;36m<lambda>\u001b[0;34m(row)\u001b[0m\n\u001b[1;32m      1\u001b[0m \u001b[38;5;28;01mimport\u001b[39;00m \u001b[38;5;21;01mpandas\u001b[39;00m \u001b[38;5;28;01mas\u001b[39;00m \u001b[38;5;21;01mpd\u001b[39;00m \n\u001b[1;32m      2\u001b[0m de\u001b[38;5;241m=\u001b[39mpd\u001b[38;5;241m.\u001b[39mread_json(\u001b[38;5;124m'\u001b[39m\u001b[38;5;124m../../data/enrollments.json\u001b[39m\u001b[38;5;124m'\u001b[39m)\n\u001b[1;32m      3\u001b[0m de[\u001b[38;5;124m'\u001b[39m\u001b[38;5;124mtaxed_fee\u001b[39m\u001b[38;5;124m'\u001b[39m] \u001b[38;5;241m=\u001b[39m de\u001b[38;5;241m.\u001b[39mapply(\n\u001b[1;32m      4\u001b[0m     \u001b[38;5;28;01mlambda\u001b[39;00m row: row[\u001b[38;5;124m'\u001b[39m\u001b[38;5;124mcourse_fee\u001b[39m\u001b[38;5;124m'\u001b[39m] \u001b[38;5;241m*\u001b[39m \u001b[38;5;241m1.1\u001b[39m \n\u001b[0;32m----> 5\u001b[0m         \u001b[38;5;28;01mif\u001b[39;00m row[\u001b[38;5;124m'\u001b[39m\u001b[38;5;124mcourse_fee\u001b[39m\u001b[38;5;124m'\u001b[39m]\u001b[38;5;241m.\u001b[39misna() \n\u001b[1;32m      6\u001b[0m         \u001b[38;5;28;01melse\u001b[39;00m \u001b[38;5;241m0\u001b[39m ,\n\u001b[1;32m      7\u001b[0m     axis\u001b[38;5;241m=\u001b[39m\u001b[38;5;241m1\u001b[39m \n\u001b[1;32m      8\u001b[0m )\n\u001b[1;32m      9\u001b[0m \u001b[38;5;28mprint\u001b[39m (de)\n",
      "\u001b[0;31mAttributeError\u001b[0m: 'int' object has no attribute 'isna'"
     ]
    }
   ],
   "source": [
    "import pandas as pd \n",
    "de=pd.read_json('../../data/enrollments.json')\n",
    "de['taxed_fee'] = de.apply(\n",
    "    lambda row: row['course_fee'] * 1.1 \n",
    "        if row['course_fee'].isna() \n",
    "        else 0 ,\n",
    "    axis=1 \n",
    ")\n",
    "print (de)\n",
    "    "
   ]
  },
  {
   "cell_type": "code",
   "execution_count": 55,
   "id": "ecc75bf3",
   "metadata": {},
   "outputs": [],
   "source": [
    "# your code here"
   ]
  },
  {
   "cell_type": "markdown",
   "id": "b6cceef0",
   "metadata": {},
   "source": [
    "## **16. Merge Two DataFrames on a Common Column**\n",
    "\n",
    "Combine `students.csv` and `enrollments.json` by matching:\n",
    "\n",
    "-   `stu[\"student_id\"]`\n",
    "-   `enr[\"stud_ref_id\"]` (or rename it first)\n",
    "\n",
    "Check the shape of the merged DataFrame afterward to ensure it merged as expected.\n"
   ]
  },
  {
   "cell_type": "code",
   "execution_count": 1,
   "id": "c5564cfe",
   "metadata": {
    "lines_to_next_cell": 2
   },
   "outputs": [
    {
     "name": "stdout",
     "output_type": "stream",
     "text": [
      "               enrollment_id stud_ref_id subject_code           course_title  \\\n",
      "0    ENR-STU001-MATH101-AB12      STU001      MATH101             Calculus I   \n",
      "1     ENR-STU002-ENG201-CD34      STU002       ENG201     English Literature   \n",
      "2      ENR-STU003-CS301-EF56      STU003        CS301        Programming 101   \n",
      "3    ENR-STU004-HIST105-GH78      STU004      HIST105          World History   \n",
      "4    ENR-STU005-CHEM110-IJ90      STU005      CHEM110      Organic Chemistry   \n",
      "..                       ...         ...          ...                    ...   \n",
      "99   ENR-STU097-MATH101-MN34      STU097      MATH101             Calculus I   \n",
      "100   ENR-STU098-ENG201-OP56      STU098       ENG201     English Literature   \n",
      "101    ENR-STU099-CS301-QR78      STU099        CS301        Programming 101   \n",
      "102  ENR-STU100-HIST105-ST90      STU100      HIST105          World History   \n",
      "103  ENR-STU004-HIST999-DUP1      STU004      HIST999  Ancient Civilizations   \n",
      "\n",
      "    instructor_name  enroll_count term_offered course_fee final_result  \\\n",
      "0         Dr. Smith            25  Spring 2026       1000            A   \n",
      "1       Prof. Brown            26    Fall 2025       1100            B   \n",
      "2        Dr. Taylor            27  Spring 2026       1200           C+   \n",
      "3           Dr. Lee            28    Fall 2025       1300           B+   \n",
      "4         Dr. Kumar            29  Spring 2026       1400           B-   \n",
      "..              ...           ...          ...        ...          ...   \n",
      "99        Dr. Smith            30  Spring 2026       1500            A   \n",
      "100     Prof. Brown            31    Fall 2025       1600            B   \n",
      "101      Dr. Taylor            25  Spring 2026       1000           C+   \n",
      "102         Dr. Lee            26    Fall 2025       1100           B+   \n",
      "103     Prof. Brown            99    Fall 2023        NaN                \n",
      "\n",
      "     attend_percentage  ... last_name  Birthddate gender        majorField  \\\n",
      "0                   71  ...       Doe   4/12/1998      M  Computer Science   \n",
      "1                   72  ...  Gonzalez    9/5/1997      F           Biology   \n",
      "2                   73  ...     Patel   1/23/1999      F       Engineering   \n",
      "3                   74  ...   Johnson  12/15/1996      M       Mathematics   \n",
      "4                   75  ...     Smith   7/30/2000      F           Physics   \n",
      "..                 ...  ...       ...         ...    ...               ...   \n",
      "99                  83  ...    Foster    9/3/1998      M           Physics   \n",
      "100                 84  ...   Ramirez   10/4/1997      F         Chemistry   \n",
      "101                 85  ...       Kim   11/5/1999      M         Economics   \n",
      "102                 86  ...     Lopez   12/6/1996      F           History   \n",
      "103                 67  ...   Johnson  12/15/1996      M       Mathematics   \n",
      "\n",
      "    admission_year current gpa               contact_email mobile number  \\\n",
      "0             2020         3.5        john.doe@example.com        -655.0   \n",
      "1             2019         3.8  maria.gonzalez@example.com        -656.0   \n",
      "2             2021         3.7     priya.patel@example.com        -657.0   \n",
      "3             2018         3.2    alex.johnson@example.com           NaN   \n",
      "4             2022         3.9     emily.smith@example.com        -659.0   \n",
      "..             ...         ...                         ...           ...   \n",
      "99            2022         3.8   julian.foster@example.com        -751.0   \n",
      "100           2019         3.9    lucy.ramirez@example.com        -752.0   \n",
      "101           2021         3.2      isaiah.kim@example.com        -753.0   \n",
      "102           2020         3.3    amelia.lopez@example.com        -754.0   \n",
      "103           2018         3.2    alex.johnson@example.com           NaN   \n",
      "\n",
      "     home_city HOME COUNTRY  \n",
      "0        Tampa          USA  \n",
      "1       London           UK  \n",
      "2       Mumbai        India  \n",
      "3       Sydney    Australia  \n",
      "4     New York          USA  \n",
      "..         ...          ...  \n",
      "99      Toledo          USA  \n",
      "100  St. Louis          USA  \n",
      "101    Orlando          USA  \n",
      "102    Raleigh          USA  \n",
      "103     Sydney    Australia  \n",
      "\n",
      "[104 rows x 23 columns]\n",
      "       enroll_count  attend_percentage  current gpa  mobile number\n",
      "count    104.000000         104.000000    96.000000      97.000000\n",
      "mean      28.692308          79.730769     3.556250    -688.381443\n",
      "std        7.247466           5.950003     0.232521     150.548334\n",
      "min       25.000000          67.000000     3.100000    -754.000000\n",
      "25%       26.000000          75.000000     3.400000    -727.000000\n",
      "50%       28.000000          80.000000     3.600000    -703.000000\n",
      "75%       30.000000          84.250000     3.725000    -678.000000\n",
      "max       99.000000          90.000000     3.900000     753.000000\n"
     ]
    }
   ],
   "source": [
    "import pandas as pd \n",
    "de=pd.read_json('../../data/enrollments.json')\n",
    "df =pd.read_csv('../../data/students.csv' )\n",
    "merged_df = pd.merge(de, df, left_on='stud_ref_id', right_on='student_id', how='inner')  # 'inner' keeps only matching IDs\n",
    "print(merged_df)\n",
    "print(merged_df.describe())\n"
   ]
  },
  {
   "cell_type": "code",
   "execution_count": 57,
   "id": "ed1d7bcd",
   "metadata": {
    "lines_to_next_cell": 2
   },
   "outputs": [],
   "source": [
    "# your code here"
   ]
  },
  {
   "cell_type": "code",
   "execution_count": 58,
   "id": "8dcfcaa6",
   "metadata": {
    "lines_to_next_cell": 2
   },
   "outputs": [],
   "source": [
    "# your code here"
   ]
  },
  {
   "cell_type": "code",
   "execution_count": 59,
   "id": "e289eda7",
   "metadata": {},
   "outputs": [],
   "source": [
    "# your code here"
   ]
  },
  {
   "cell_type": "markdown",
   "id": "f551624a",
   "metadata": {},
   "source": [
    "## **17. Remove Duplicate Rows**\n",
    "\n",
    "When merging or concatenating multiple files, duplicates can crop up. Identify them and remove if needed. This might be especially important if the same student or enrollment is listed more than once."
   ]
  },
  {
   "cell_type": "code",
   "execution_count": 60,
   "id": "2e45dae4",
   "metadata": {
    "lines_to_next_cell": 2
   },
   "outputs": [],
   "source": [
    "# your code here"
   ]
  },
  {
   "cell_type": "code",
   "execution_count": 61,
   "id": "684d5e9e",
   "metadata": {
    "lines_to_next_cell": 2
   },
   "outputs": [],
   "source": [
    "df_unique = merged_df.drop_duplicates()\n",
    "\n",
    "print(df_unique)"
   ]
  },
  {
   "cell_type": "code",
   "execution_count": 62,
   "id": "a0a4913f",
   "metadata": {
    "lines_to_next_cell": 2
   },
   "outputs": [],
   "source": [
    "# your code here"
   ]
  },
  {
   "cell_type": "code",
   "execution_count": 63,
   "id": "3e440ade",
   "metadata": {},
   "outputs": [],
   "source": [
    "# your code here"
   ]
  },
  {
   "cell_type": "markdown",
   "id": "ab305393",
   "metadata": {},
   "source": [
    "## **18. Additional Data Cleaning**\n",
    "\n",
    "Now that you’ve merged or manipulated your data, do a quick final pass:\n",
    "\n",
    "-   Fix any remaining oddities (e.g., negative phone numbers or impossible dates)\n",
    "-   Normalize columns further (e.g., standardize text formatting)\n",
    "\n",
    "**📝 Tip:** You might revisit previous steps if new issues appear.\n"
   ]
  },
  {
   "cell_type": "code",
   "execution_count": 64,
   "id": "9622883a",
   "metadata": {
    "lines_to_next_cell": 2
   },
   "outputs": [],
   "source": [
    "import pandas as pd \n",
    "de=pd.read_json('../../data/enrollments.json')\n",
    "df =pd.read_csv('../../data/students.csv' )\n"
   ]
  },
  {
   "cell_type": "code",
   "execution_count": 65,
   "id": "1a9e28f4",
   "metadata": {
    "lines_to_next_cell": 2
   },
   "outputs": [],
   "source": [
    "# your code here"
   ]
  },
  {
   "cell_type": "code",
   "execution_count": 66,
   "id": "3237121b",
   "metadata": {
    "lines_to_next_cell": 2
   },
   "outputs": [],
   "source": [
    "# your code here"
   ]
  },
  {
   "cell_type": "code",
   "execution_count": 67,
   "id": "29c0d156",
   "metadata": {},
   "outputs": [],
   "source": [
    "# your code here"
   ]
  },
  {
   "cell_type": "markdown",
   "id": "33c2ac37",
   "metadata": {},
   "source": [
    "## **19. Save the Cleaned and Merged DataFrame to a New CSV File**\n",
    "\n",
    "Finally, when you’re satisfied with your cleaned data, save it. Remember to avoid writing the index as a separate column unless you want it."
   ]
  },
  {
   "cell_type": "code",
   "execution_count": 68,
   "id": "64986045",
   "metadata": {
    "lines_to_next_cell": 2
   },
   "outputs": [],
   "source": [
    "import pandas as pd \n",
    "de=pd.read_json('../../data/enrollments.json')\n",
    "df =pd.read_csv('../../data/students.csv' )"
   ]
  },
  {
   "cell_type": "code",
   "execution_count": 69,
   "id": "afe950ec",
   "metadata": {
    "lines_to_next_cell": 2
   },
   "outputs": [],
   "source": [
    "# your code here"
   ]
  },
  {
   "cell_type": "code",
   "execution_count": 70,
   "id": "c8a656d5",
   "metadata": {
    "lines_to_next_cell": 2
   },
   "outputs": [],
   "source": [
    "# your code here"
   ]
  },
  {
   "cell_type": "code",
   "execution_count": 71,
   "id": "bf520a67",
   "metadata": {},
   "outputs": [],
   "source": [
    "# your code here"
   ]
  },
  {
   "cell_type": "markdown",
   "id": "462cdf88",
   "metadata": {},
   "source": [
    "## **20. Explore Further Analyses (Optional)**\n",
    "\n",
    "Now that your data is in great shape, try some optional challenges:\n",
    "\n",
    "-   Generate charts or visualizations\n",
    "-   Perform advanced filtering or grouping\n",
    "-   Create pivot tables\n",
    "-   Or anything else that interests you!"
   ]
  },
  {
   "cell_type": "code",
   "execution_count": 72,
   "id": "da0f2e54",
   "metadata": {
    "lines_to_next_cell": 2
   },
   "outputs": [],
   "source": [
    "import pandas as pd \n",
    "de=pd.read_json('../../data/enrollments.json')\n",
    "df =pd.read_csv('../../data/students.csv' )"
   ]
  },
  {
   "cell_type": "code",
   "execution_count": 73,
   "id": "5df20082",
   "metadata": {
    "lines_to_next_cell": 2
   },
   "outputs": [],
   "source": [
    "# your code here"
   ]
  },
  {
   "cell_type": "code",
   "execution_count": 74,
   "id": "0c779f95",
   "metadata": {
    "lines_to_next_cell": 2
   },
   "outputs": [],
   "source": [
    "# your code here"
   ]
  },
  {
   "cell_type": "code",
   "execution_count": 75,
   "id": "f8fdd8d4",
   "metadata": {},
   "outputs": [],
   "source": [
    "# your code here"
   ]
  },
  {
   "cell_type": "markdown",
   "id": "c8006fdd",
   "metadata": {},
   "source": [
    "**🎉 Congratulations!** You’ve now tackled **data cleaning** and many essential **Pandas** operations in `students.csv` and `enrollments.json`. Keep experimenting to sharpen your **data manipulation skills** and unlock deeper insights! 💪"
   ]
  },
  {
   "cell_type": "markdown",
   "id": "16cb0e1d-5f48-4da4-99cb-179e58b862ac",
   "metadata": {},
   "source": []
  },
  {
   "cell_type": "code",
   "execution_count": null,
   "id": "66baf0fb-eb2b-46b0-bd90-c0c9ecbf2954",
   "metadata": {},
   "outputs": [],
   "source": []
  },
  {
   "cell_type": "code",
   "execution_count": null,
   "id": "e2b45d89-b6ac-488b-8c21-b42d6264c3c9",
   "metadata": {},
   "outputs": [],
   "source": []
  }
 ],
 "metadata": {
  "jupytext": {
   "cell_metadata_filter": "-all",
   "main_language": "python",
   "notebook_metadata_filter": "-all"
  },
  "kernelspec": {
   "display_name": "Python 3 (ipykernel)",
   "language": "python",
   "name": "python3"
  },
  "language_info": {
   "codemirror_mode": {
    "name": "ipython",
    "version": 3
   },
   "file_extension": ".py",
   "mimetype": "text/x-python",
   "name": "python",
   "nbconvert_exporter": "python",
   "pygments_lexer": "ipython3",
   "version": "3.12.7"
  }
 },
 "nbformat": 4,
 "nbformat_minor": 5
}
