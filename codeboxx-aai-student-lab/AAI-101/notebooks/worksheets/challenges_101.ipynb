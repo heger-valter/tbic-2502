{
 "cells": [
  {
   "cell_type": "markdown",
   "id": "52b85277",
   "metadata": {
    "editable": true,
    "slideshow": {
     "slide_type": ""
    },
    "tags": []
   },
   "source": [
    "# **Exploring Pandas: Common Data Operations**\n",
    "\n",
    "Welcome to this Jupyter Notebook! 🚀 In this notebook, you'll practice some of the most commonly used operations in the **Pandas** library using **two datasets**:\n",
    "1. **../../data/students.csv** (CSV)\n",
    "2. **../../data/enrollments.json** (JSON)\n",
    "\n",
    "These files should be placed in the same folder as this notebook. By the end, you'll have a strong grasp of common data manipulation tasks, and you'll even merge these two datasets on a common key.\n",
    "\n",
    "Before starting, make sure you have **Pandas** installed. (It should come preinstalled in Anaconda!)\n",
    "\n",
    "If pandas is not installed, follow the instructions below.\n",
    "\n",
    "---\n",
    "\n",
    "## **Checking if Pandas is Installed in Your Conda Environment**\n",
    "\n",
    "Before proceeding, check if Pandas is installed in your Conda environment by running the following command in a **Jupyter Notebook** cell:"
   ]
  },
  {
   "cell_type": "code",
   "execution_count": 1,
   "id": "a070d316",
   "metadata": {},
   "outputs": [
    {
     "name": "stdout",
     "output_type": "stream",
     "text": [
      "2.2.3\n"
     ]
    }
   ],
   "source": [
    "import pandas as pd\n",
    "print(pd.__version__)"
   ]
  },
  {
   "cell_type": "markdown",
   "id": "692ffe7d",
   "metadata": {},
   "source": [
    "If this runs without errors and prints a version number, Pandas is installed. If you see an **ImportError**, install Pandas using one of the following methods:\n",
    "\n",
    "### **For Conda Users (Recommended)**\n",
    "Run this in your terminal or Anaconda Prompt:\n",
    "```\n",
    "conda install pandas\n",
    "```\n",
    "\n",
    "### **Using Conda-Forge (If Needed)**\n",
    "If you encounter issues, you can install Pandas from **Conda-Forge**, a community-maintained repository with up-to-date packages:\n",
    "```\n",
    "conda install -c conda-forge pandas\n",
    "```\n",
    "\n",
    "### **For Pip Users**\n",
    "If you're using a virtual environment outside Conda, install Pandas via Pip:\n",
    "```\n",
    "pip install pandas\n",
    "```\n",
    "\n",
    "# Now, let’s dive in! 🏊‍♂️\n",
    "\n",
    "---\n"
   ]
  },
  {
   "cell_type": "markdown",
   "id": "081fc09d",
   "metadata": {},
   "source": [
    "## **1. Load a CSV file into a Pandas DataFrame**\n",
    "\n",
    "First, let's **import Pandas** and load the datasets. Two datasets have been prepared for you:\n",
    "\n",
    "- `students.csv`\n",
    "- `enrollments.json`\n",
    "\n",
    "You will use these two datasets for the following challenges.\n",
    "\n",
    "**💡 Hint:** If the file is in the same directory as your notebook, you can just use the filename. Otherwise, provide the full file path.\n"
   ]
  },
  {
   "cell_type": "code",
   "execution_count": 2,
   "id": "9e28b9e3",
   "metadata": {
    "lines_to_next_cell": 2
   },
   "outputs": [
    {
     "name": "stdout",
     "output_type": "stream",
     "text": [
      "    student_id First_Name last_name  Birthddate gender        majorField  \\\n",
      "0       STU001       John       Doe   4/12/1998      M  Computer Science   \n",
      "1       STU002      Maria  Gonzalez    9/5/1997      F           Biology   \n",
      "2       STU003      Priya     Patel   1/23/1999      F       Engineering   \n",
      "3       STU004       Alex   Johnson  12/15/1996      M       Mathematics   \n",
      "4       STU005      Emily     Smith   7/30/2000      F           Physics   \n",
      "..         ...        ...       ...         ...    ...               ...   \n",
      "98      STU096   Victoria     Ortiz    8/2/1996      F       Mathematics   \n",
      "99      STU097     Julian    Foster    9/3/1998      M           Physics   \n",
      "100     STU098       Lucy   Ramirez   10/4/1997      F         Chemistry   \n",
      "101     STU099     Isaiah       Kim   11/5/1999      M         Economics   \n",
      "102     STU100     Amelia     Lopez   12/6/1996      F           History   \n",
      "\n",
      "    admission_year  current gpa               contact_email  mobile number  \\\n",
      "0             2020          3.5        john.doe@example.com         -655.0   \n",
      "1             2019          3.8  maria.gonzalez@example.com         -656.0   \n",
      "2             2021          3.7     priya.patel@example.com         -657.0   \n",
      "3             2018          3.2    alex.johnson@example.com            NaN   \n",
      "4             2022          3.9     emily.smith@example.com         -659.0   \n",
      "..             ...          ...                         ...            ...   \n",
      "98            2020          3.7  victoria.ortiz@example.com         -750.0   \n",
      "99            2022          3.8   julian.foster@example.com         -751.0   \n",
      "100           2019          3.9    lucy.ramirez@example.com         -752.0   \n",
      "101           2021          3.2      isaiah.kim@example.com         -753.0   \n",
      "102           2020          3.3    amelia.lopez@example.com         -754.0   \n",
      "\n",
      "     home_city HOME COUNTRY  \n",
      "0        Tampa          USA  \n",
      "1       London           UK  \n",
      "2       Mumbai        India  \n",
      "3       Sydney    Australia  \n",
      "4     New York          USA  \n",
      "..         ...          ...  \n",
      "98     Concord          USA  \n",
      "99      Toledo          USA  \n",
      "100  St. Louis          USA  \n",
      "101    Orlando          USA  \n",
      "102    Raleigh          USA  \n",
      "\n",
      "[103 rows x 12 columns]\n"
     ]
    }
   ],
   "source": [
    "import pandas as pd \n",
    "ds =pd.read_csv('../../data/students.csv' )\n",
    "print(ds)"
   ]
  },
  {
   "cell_type": "code",
   "execution_count": 3,
   "id": "2f79dccb-ed26-46d4-bd25-44d60ee1e8c9",
   "metadata": {
    "lines_to_next_cell": 2
   },
   "outputs": [
    {
     "name": "stdout",
     "output_type": "stream",
     "text": [
      "               enrollment_id stud_ref_id subject_code           course_title  \\\n",
      "0    ENR-STU001-MATH101-AB12      STU001      MATH101             Calculus I   \n",
      "1     ENR-STU002-ENG201-CD34      STU002       ENG201     English Literature   \n",
      "2      ENR-STU003-CS301-EF56      STU003        CS301        Programming 101   \n",
      "3    ENR-STU004-HIST105-GH78      STU004      HIST105          World History   \n",
      "4    ENR-STU005-CHEM110-IJ90      STU005      CHEM110      Organic Chemistry   \n",
      "..                       ...         ...          ...                    ...   \n",
      "96   ENR-STU097-MATH101-MN34      STU097      MATH101             Calculus I   \n",
      "97    ENR-STU098-ENG201-OP56      STU098       ENG201     English Literature   \n",
      "98     ENR-STU099-CS301-QR78      STU099        CS301        Programming 101   \n",
      "99   ENR-STU100-HIST105-ST90      STU100      HIST105          World History   \n",
      "100  ENR-STU004-HIST999-DUP1      STU004      HIST999  Ancient Civilizations   \n",
      "\n",
      "    instructor_name  enroll_count term_offered course_fee final_result  \\\n",
      "0         Dr. Smith            25  Spring 2026       1000            A   \n",
      "1       Prof. Brown            26    Fall 2025       1100            B   \n",
      "2        Dr. Taylor            27  Spring 2026       1200           C+   \n",
      "3           Dr. Lee            28    Fall 2025       1300           B+   \n",
      "4         Dr. Kumar            29  Spring 2026       1400           B-   \n",
      "..              ...           ...          ...        ...          ...   \n",
      "96        Dr. Smith            30  Spring 2026       1500            A   \n",
      "97      Prof. Brown            31    Fall 2025       1600            B   \n",
      "98       Dr. Taylor            25  Spring 2026       1000           C+   \n",
      "99          Dr. Lee            26    Fall 2025       1100           B+   \n",
      "100     Prof. Brown            99    Fall 2023        NaN                \n",
      "\n",
      "     attend_percentage date_enrolled  \n",
      "0                   71    2026/01/15  \n",
      "1                   72    2025-09-01  \n",
      "2                   73    2026/01/15  \n",
      "3                   74    2025/09/01  \n",
      "4                   75    2026-01-15  \n",
      "..                 ...           ...  \n",
      "96                  83    2026-01-15  \n",
      "97                  84    2025-09-01  \n",
      "98                  85    2026-01-15  \n",
      "99                  86    2025-09-01  \n",
      "100                 67    2023-09-01  \n",
      "\n",
      "[101 rows x 11 columns]\n",
      "       enroll_count  attend_percentage\n",
      "count    101.000000         101.000000\n",
      "mean      28.653465          79.633663\n",
      "std        7.350423           6.009530\n",
      "min       25.000000          67.000000\n",
      "25%       26.000000          75.000000\n",
      "50%       28.000000          80.000000\n",
      "75%       30.000000          85.000000\n",
      "max       99.000000          90.000000\n"
     ]
    }
   ],
   "source": [
    "import pandas as pd \n",
    "de=pd.read_json('../../data/enrollments.json')\n",
    "print(de)\n",
    "print(de.describe())"
   ]
  },
  {
   "cell_type": "markdown",
   "id": "bb23c619",
   "metadata": {},
   "source": [
    "## **2. View the First and Last Few Rows of Each DataFrame**\n",
    "\n",
    "Check out how your data looks. One method previews the first few records, while another method previews the last few. You can specify the number of rows you want to see by explicitly passing an integer argument.\n",
    "\n",
    "**📝 Tip:** This is a great time to confirm that columns loaded correctly and to spot any obvious data issues (strange values, mismatched columns, etc.)."
   ]
  },
  {
   "cell_type": "code",
   "execution_count": 4,
   "id": "ba59705d",
   "metadata": {
    "lines_to_next_cell": 2
   },
   "outputs": [
    {
     "name": "stdout",
     "output_type": "stream",
     "text": [
      "  student_id First_Name last_name Birthddate gender        majorField  \\\n",
      "0     STU001       John       Doe  4/12/1998      M  Computer Science   \n",
      "\n",
      "  admission_year  current gpa         contact_email  mobile number home_city  \\\n",
      "0           2020          3.5  john.doe@example.com         -655.0     Tampa   \n",
      "\n",
      "  HOME COUNTRY  \n",
      "0          USA  \n"
     ]
    }
   ],
   "source": [
    "print(ds.head(1))"
   ]
  },
  {
   "cell_type": "code",
   "execution_count": 5,
   "id": "7c09cb9c",
   "metadata": {
    "lines_to_next_cell": 2
   },
   "outputs": [
    {
     "name": "stdout",
     "output_type": "stream",
     "text": [
      "student_id                          STU100\n",
      "First_Name                          Amelia\n",
      "last_name                            Lopez\n",
      "Birthddate                       12/6/1996\n",
      "gender                                   F\n",
      "majorField                         History\n",
      "admission_year                        2020\n",
      "current gpa                            3.3\n",
      "contact_email     amelia.lopez@example.com\n",
      "mobile number                       -754.0\n",
      "home_city                          Raleigh\n",
      "HOME COUNTRY                           USA\n",
      "Name: 102, dtype: object\n"
     ]
    }
   ],
   "source": [
    "print(ds.iloc[-1])\n"
   ]
  },
  {
   "cell_type": "code",
   "execution_count": 6,
   "id": "0752625a",
   "metadata": {
    "lines_to_next_cell": 2
   },
   "outputs": [
    {
     "name": "stdout",
     "output_type": "stream",
     "text": [
      "               enrollment_id stud_ref_id subject_code           course_title  \\\n",
      "100  ENR-STU004-HIST999-DUP1      STU004      HIST999  Ancient Civilizations   \n",
      "\n",
      "    instructor_name  enroll_count term_offered course_fee final_result  \\\n",
      "100     Prof. Brown            99    Fall 2023        NaN                \n",
      "\n",
      "     attend_percentage date_enrolled  \n",
      "100                 67    2023-09-01  \n"
     ]
    }
   ],
   "source": [
    "print(de.tail(1))"
   ]
  },
  {
   "cell_type": "code",
   "execution_count": 7,
   "id": "023f34d2",
   "metadata": {},
   "outputs": [
    {
     "name": "stdout",
     "output_type": "stream",
     "text": [
      "enrollment_id        ENR-STU004-HIST999-DUP1\n",
      "stud_ref_id                           STU004\n",
      "subject_code                         HIST999\n",
      "course_title           Ancient Civilizations\n",
      "instructor_name                  Prof. Brown\n",
      "enroll_count                              99\n",
      "term_offered                       Fall 2023\n",
      "course_fee                               NaN\n",
      "final_result                                \n",
      "attend_percentage                         67\n",
      "date_enrolled                     2023-09-01\n",
      "Name: 100, dtype: object\n"
     ]
    }
   ],
   "source": [
    "print(de.iloc[-1])"
   ]
  },
  {
   "cell_type": "markdown",
   "id": "d831b3ca",
   "metadata": {},
   "source": [
    "## **3. Check the Shape of Each DataFrame**\n",
    "\n",
    "To understand the **size** of your dataset(s), use the attribute that returns `(number_of_rows, number_of_columns)`.\n",
    "\n",
    "**📝 Tip:** Note any big differences in row counts that might affect merging later.\n"
   ]
  },
  {
   "cell_type": "code",
   "execution_count": 8,
   "id": "013abc56",
   "metadata": {
    "lines_to_next_cell": 2
   },
   "outputs": [
    {
     "name": "stdout",
     "output_type": "stream",
     "text": [
      "(103, 12)\n",
      "103\n"
     ]
    }
   ],
   "source": [
    "print(ds.shape)\n",
    "num_rows=len(ds)\n",
    "print (num_rows)\n"
   ]
  },
  {
   "cell_type": "code",
   "execution_count": 9,
   "id": "1bb8e075",
   "metadata": {},
   "outputs": [
    {
     "name": "stdout",
     "output_type": "stream",
     "text": [
      "(101, 11)\n",
      "             enrollment_id stud_ref_id subject_code course_title  \\\n",
      "0  ENR-STU001-MATH101-AB12      STU001      MATH101   Calculus I   \n",
      "\n",
      "  instructor_name  enroll_count term_offered course_fee final_result  \\\n",
      "0       Dr. Smith            25  Spring 2026       1000            A   \n",
      "\n",
      "   attend_percentage date_enrolled  \n",
      "0                 71    2026/01/15  \n",
      "1\n"
     ]
    }
   ],
   "source": [
    "print(de.shape)\n",
    "print( de.head(1))\n",
    "print(len(de.head(1)))\n",
    "\n"
   ]
  },
  {
   "cell_type": "markdown",
   "id": "b716bb85",
   "metadata": {},
   "source": [
    "## **4. Get a Summary of Each DataFrame**\n",
    "\n",
    "Explore one or two approaches that provide:\n",
    "\n",
    "-   **Column names**\n",
    "-   **Data types**\n",
    "-   **Basic statistics about numerical columns**\n",
    "-   **Number of non-null values**\n",
    "\n",
    "**📝 Tip:** One approach might give an overview of columns and data types; another might summarize numerical columns. This step helps you detect columns that might need cleaning."
   ]
  },
  {
   "cell_type": "code",
   "execution_count": 10,
   "id": "54e294b7",
   "metadata": {
    "lines_to_next_cell": 2
   },
   "outputs": [
    {
     "name": "stdout",
     "output_type": "stream",
     "text": [
      "Empty DataFrame\n",
      "Columns: [enrollment_id, stud_ref_id, subject_code, course_title, instructor_name, enroll_count, term_offered, course_fee, final_result, attend_percentage, date_enrolled]\n",
      "Index: []\n"
     ]
    }
   ],
   "source": [
    "print( de.head(0))"
   ]
  },
  {
   "cell_type": "code",
   "execution_count": 11,
   "id": "ab9c1939",
   "metadata": {
    "lines_to_next_cell": 2
   },
   "outputs": [
    {
     "name": "stdout",
     "output_type": "stream",
     "text": [
      "enrollment_id        object\n",
      "stud_ref_id          object\n",
      "subject_code         object\n",
      "course_title         object\n",
      "instructor_name      object\n",
      "enroll_count          int64\n",
      "term_offered         object\n",
      "course_fee           object\n",
      "final_result         object\n",
      "attend_percentage     int64\n",
      "date_enrolled        object\n",
      "dtype: object\n",
      "<bound method DataFrame.info of     student_id First_Name last_name  Birthddate gender        majorField  \\\n",
      "0       STU001       John       Doe   4/12/1998      M  Computer Science   \n",
      "1       STU002      Maria  Gonzalez    9/5/1997      F           Biology   \n",
      "2       STU003      Priya     Patel   1/23/1999      F       Engineering   \n",
      "3       STU004       Alex   Johnson  12/15/1996      M       Mathematics   \n",
      "4       STU005      Emily     Smith   7/30/2000      F           Physics   \n",
      "..         ...        ...       ...         ...    ...               ...   \n",
      "98      STU096   Victoria     Ortiz    8/2/1996      F       Mathematics   \n",
      "99      STU097     Julian    Foster    9/3/1998      M           Physics   \n",
      "100     STU098       Lucy   Ramirez   10/4/1997      F         Chemistry   \n",
      "101     STU099     Isaiah       Kim   11/5/1999      M         Economics   \n",
      "102     STU100     Amelia     Lopez   12/6/1996      F           History   \n",
      "\n",
      "    admission_year  current gpa               contact_email  mobile number  \\\n",
      "0             2020          3.5        john.doe@example.com         -655.0   \n",
      "1             2019          3.8  maria.gonzalez@example.com         -656.0   \n",
      "2             2021          3.7     priya.patel@example.com         -657.0   \n",
      "3             2018          3.2    alex.johnson@example.com            NaN   \n",
      "4             2022          3.9     emily.smith@example.com         -659.0   \n",
      "..             ...          ...                         ...            ...   \n",
      "98            2020          3.7  victoria.ortiz@example.com         -750.0   \n",
      "99            2022          3.8   julian.foster@example.com         -751.0   \n",
      "100           2019          3.9    lucy.ramirez@example.com         -752.0   \n",
      "101           2021          3.2      isaiah.kim@example.com         -753.0   \n",
      "102           2020          3.3    amelia.lopez@example.com         -754.0   \n",
      "\n",
      "     home_city HOME COUNTRY  \n",
      "0        Tampa          USA  \n",
      "1       London           UK  \n",
      "2       Mumbai        India  \n",
      "3       Sydney    Australia  \n",
      "4     New York          USA  \n",
      "..         ...          ...  \n",
      "98     Concord          USA  \n",
      "99      Toledo          USA  \n",
      "100  St. Louis          USA  \n",
      "101    Orlando          USA  \n",
      "102    Raleigh          USA  \n",
      "\n",
      "[103 rows x 12 columns]>\n"
     ]
    }
   ],
   "source": [
    "print(de.dtypes)\n",
    "print(ds.info)"
   ]
  },
  {
   "cell_type": "code",
   "execution_count": 13,
   "id": "08f3cba4",
   "metadata": {
    "lines_to_next_cell": 2
   },
   "outputs": [
    {
     "name": "stdout",
     "output_type": "stream",
     "text": [
      "<bound method DataFrame.info of     student_id First_Name last_name  Birthddate gender        majorField  \\\n",
      "0       STU001       John       Doe   4/12/1998      M  Computer Science   \n",
      "1       STU002      Maria  Gonzalez    9/5/1997      F           Biology   \n",
      "2       STU003      Priya     Patel   1/23/1999      F       Engineering   \n",
      "3       STU004       Alex   Johnson  12/15/1996      M       Mathematics   \n",
      "4       STU005      Emily     Smith   7/30/2000      F           Physics   \n",
      "..         ...        ...       ...         ...    ...               ...   \n",
      "98      STU096   Victoria     Ortiz    8/2/1996      F       Mathematics   \n",
      "99      STU097     Julian    Foster    9/3/1998      M           Physics   \n",
      "100     STU098       Lucy   Ramirez   10/4/1997      F         Chemistry   \n",
      "101     STU099     Isaiah       Kim   11/5/1999      M         Economics   \n",
      "102     STU100     Amelia     Lopez   12/6/1996      F           History   \n",
      "\n",
      "    admission_year  current gpa               contact_email  mobile number  \\\n",
      "0             2020          3.5        john.doe@example.com         -655.0   \n",
      "1             2019          3.8  maria.gonzalez@example.com         -656.0   \n",
      "2             2021          3.7     priya.patel@example.com         -657.0   \n",
      "3             2018          3.2    alex.johnson@example.com            NaN   \n",
      "4             2022          3.9     emily.smith@example.com         -659.0   \n",
      "..             ...          ...                         ...            ...   \n",
      "98            2020          3.7  victoria.ortiz@example.com         -750.0   \n",
      "99            2022          3.8   julian.foster@example.com         -751.0   \n",
      "100           2019          3.9    lucy.ramirez@example.com         -752.0   \n",
      "101           2021          3.2      isaiah.kim@example.com         -753.0   \n",
      "102           2020          3.3    amelia.lopez@example.com         -754.0   \n",
      "\n",
      "     home_city HOME COUNTRY  \n",
      "0        Tampa          USA  \n",
      "1       London           UK  \n",
      "2       Mumbai        India  \n",
      "3       Sydney    Australia  \n",
      "4     New York          USA  \n",
      "..         ...          ...  \n",
      "98     Concord          USA  \n",
      "99      Toledo          USA  \n",
      "100  St. Louis          USA  \n",
      "101    Orlando          USA  \n",
      "102    Raleigh          USA  \n",
      "\n",
      "[103 rows x 12 columns]>\n"
     ]
    }
   ],
   "source": [
    "print(ds.info)"
   ]
  },
  {
   "cell_type": "code",
   "execution_count": null,
   "id": "69635b89",
   "metadata": {},
   "outputs": [],
   "source": [
    "print(ds.info)"
   ]
  },
  {
   "cell_type": "markdown",
   "id": "75567b6f",
   "metadata": {},
   "source": [
    "## **5. Check for Missing Values**\n",
    "\n",
    "Determine if your dataset has any missing or null values by **counting** them. Notice which columns have many missing entries and plan how to handle them.\n",
    "\n",
    "**📝 Tip:** Some columns might look present but contain empty strings. Identify them if possible.\n"
   ]
  },
  {
   "cell_type": "code",
   "execution_count": null,
   "id": "8f7e010c",
   "metadata": {
    "lines_to_next_cell": 2
   },
   "outputs": [],
   "source": [
    "print( ds.isnull() != True)"
   ]
  },
  {
   "cell_type": "code",
   "execution_count": null,
   "id": "2760201d",
   "metadata": {
    "lines_to_next_cell": 2
   },
   "outputs": [],
   "source": [
    "print(de.isnull().sum())\n",
    "print(ds.isnull().sum())"
   ]
  },
  {
   "cell_type": "code",
   "execution_count": null,
   "id": "00672862",
   "metadata": {},
   "outputs": [],
   "source": [
    "import pandas as pd \n",
    "ds =pd.read_csv('../../data/students.csv' )\n",
    "print( ds.isna())\n",
    "print( ds.isna().sum())"
   ]
  },
  {
   "cell_type": "markdown",
   "id": "35cf28cb",
   "metadata": {},
   "source": [
    "## **6. Rename Columns for Clarity and Consistency**\n",
    "\n",
    "Some columns may have **spaces** or **capitalization** that complicates your analysis. For example, if you see `\"current gpa\"` or `\"First_Name\"`, consider renaming them (e.g., `\"current_gpa\"`, `\"first_name\"`) for ease of use.\n",
    "\n",
    "**📝 Tip:** Consistent naming conventions help minimize typos and KeyErrors."
   ]
  },
  {
   "cell_type": "code",
   "execution_count": 20,
   "id": "4349baa9",
   "metadata": {
    "lines_to_next_cell": 2
   },
   "outputs": [],
   "source": [
    "import pandas as pd \n",
    "ds =pd.read_csv('../../data/students.csv' )\n",
    "ds.rename(columns={'current gpa': 'current_gpa'}, inplace=True)\n",
    "#ds.columns = ['current_gpa', 'current gpa']"
   ]
  },
  {
   "cell_type": "code",
   "execution_count": 22,
   "id": "dcf1d51a",
   "metadata": {
    "lines_to_next_cell": 2
   },
   "outputs": [],
   "source": [
    "ds.rename(columns={'First_Name': 'first_name'}, inplace=True)\n",
    "#ds.columns = ['First_Name', 'first_name']"
   ]
  },
  {
   "cell_type": "code",
   "execution_count": 23,
   "id": "d2003486",
   "metadata": {
    "lines_to_next_cell": 2
   },
   "outputs": [
    {
     "name": "stdout",
     "output_type": "stream",
     "text": [
      "    student_id first_name last_name  Birthddate gender        majorField  \\\n",
      "0       STU001       John       Doe   4/12/1998      M  Computer Science   \n",
      "1       STU002      Maria  Gonzalez    9/5/1997      F           Biology   \n",
      "2       STU003      Priya     Patel   1/23/1999      F       Engineering   \n",
      "3       STU004       Alex   Johnson  12/15/1996      M       Mathematics   \n",
      "4       STU005      Emily     Smith   7/30/2000      F           Physics   \n",
      "..         ...        ...       ...         ...    ...               ...   \n",
      "98      STU096   Victoria     Ortiz    8/2/1996      F       Mathematics   \n",
      "99      STU097     Julian    Foster    9/3/1998      M           Physics   \n",
      "100     STU098       Lucy   Ramirez   10/4/1997      F         Chemistry   \n",
      "101     STU099     Isaiah       Kim   11/5/1999      M         Economics   \n",
      "102     STU100     Amelia     Lopez   12/6/1996      F           History   \n",
      "\n",
      "    admission_year  current_gpa               contact_email  mobile number  \\\n",
      "0             2020          3.5        john.doe@example.com         -655.0   \n",
      "1             2019          3.8  maria.gonzalez@example.com         -656.0   \n",
      "2             2021          3.7     priya.patel@example.com         -657.0   \n",
      "3             2018          3.2    alex.johnson@example.com            NaN   \n",
      "4             2022          3.9     emily.smith@example.com         -659.0   \n",
      "..             ...          ...                         ...            ...   \n",
      "98            2020          3.7  victoria.ortiz@example.com         -750.0   \n",
      "99            2022          3.8   julian.foster@example.com         -751.0   \n",
      "100           2019          3.9    lucy.ramirez@example.com         -752.0   \n",
      "101           2021          3.2      isaiah.kim@example.com         -753.0   \n",
      "102           2020          3.3    amelia.lopez@example.com         -754.0   \n",
      "\n",
      "     home_city HOME COUNTRY  \n",
      "0        Tampa          USA  \n",
      "1       London           UK  \n",
      "2       Mumbai        India  \n",
      "3       Sydney    Australia  \n",
      "4     New York          USA  \n",
      "..         ...          ...  \n",
      "98     Concord          USA  \n",
      "99      Toledo          USA  \n",
      "100  St. Louis          USA  \n",
      "101    Orlando          USA  \n",
      "102    Raleigh          USA  \n",
      "\n",
      "[103 rows x 12 columns]\n"
     ]
    }
   ],
   "source": [
    "print(ds)"
   ]
  },
  {
   "cell_type": "code",
   "execution_count": null,
   "id": "e7706d1b",
   "metadata": {},
   "outputs": [],
   "source": [
    "# your code here"
   ]
  },
  {
   "cell_type": "markdown",
   "id": "a0d0b232",
   "metadata": {},
   "source": [
    "## **7. Convert Data Types Where Needed**\n",
    "\n",
    "Check which columns should be numeric or datetime. Columns like `admission_year` or `course_fee` might be read as **strings** by default. Convert them to numerical or date formats if necessary.\n",
    "\n",
    "**📝 Tip:** Make sure you handle errors gracefully (e.g., set `errors='coerce'` to turn invalid entries into NaN)."
   ]
  },
  {
   "cell_type": "code",
   "execution_count": 24,
   "id": "5f177231",
   "metadata": {
    "lines_to_next_cell": 2
   },
   "outputs": [
    {
     "ename": "KeyError",
     "evalue": "'course_fee'",
     "output_type": "error",
     "traceback": [
      "\u001b[0;31m---------------------------------------------------------------------------\u001b[0m",
      "\u001b[0;31mKeyError\u001b[0m                                  Traceback (most recent call last)",
      "File \u001b[0;32m~/anaconda3/lib/python3.12/site-packages/pandas/core/indexes/base.py:3805\u001b[0m, in \u001b[0;36mIndex.get_loc\u001b[0;34m(self, key)\u001b[0m\n\u001b[1;32m   3804\u001b[0m \u001b[38;5;28;01mtry\u001b[39;00m:\n\u001b[0;32m-> 3805\u001b[0m     \u001b[38;5;28;01mreturn\u001b[39;00m \u001b[38;5;28mself\u001b[39m\u001b[38;5;241m.\u001b[39m_engine\u001b[38;5;241m.\u001b[39mget_loc(casted_key)\n\u001b[1;32m   3806\u001b[0m \u001b[38;5;28;01mexcept\u001b[39;00m \u001b[38;5;167;01mKeyError\u001b[39;00m \u001b[38;5;28;01mas\u001b[39;00m err:\n",
      "File \u001b[0;32mindex.pyx:167\u001b[0m, in \u001b[0;36mpandas._libs.index.IndexEngine.get_loc\u001b[0;34m()\u001b[0m\n",
      "File \u001b[0;32mindex.pyx:196\u001b[0m, in \u001b[0;36mpandas._libs.index.IndexEngine.get_loc\u001b[0;34m()\u001b[0m\n",
      "File \u001b[0;32mpandas/_libs/hashtable_class_helper.pxi:7081\u001b[0m, in \u001b[0;36mpandas._libs.hashtable.PyObjectHashTable.get_item\u001b[0;34m()\u001b[0m\n",
      "File \u001b[0;32mpandas/_libs/hashtable_class_helper.pxi:7089\u001b[0m, in \u001b[0;36mpandas._libs.hashtable.PyObjectHashTable.get_item\u001b[0;34m()\u001b[0m\n",
      "\u001b[0;31mKeyError\u001b[0m: 'course_fee'",
      "\nThe above exception was the direct cause of the following exception:\n",
      "\u001b[0;31mKeyError\u001b[0m                                  Traceback (most recent call last)",
      "Cell \u001b[0;32mIn[24], line 3\u001b[0m\n\u001b[1;32m      1\u001b[0m \u001b[38;5;28;01mimport\u001b[39;00m \u001b[38;5;21;01mpandas\u001b[39;00m \u001b[38;5;28;01mas\u001b[39;00m \u001b[38;5;21;01mpd\u001b[39;00m \n\u001b[1;32m      2\u001b[0m ds \u001b[38;5;241m=\u001b[39mpd\u001b[38;5;241m.\u001b[39mread_csv(\u001b[38;5;124m'\u001b[39m\u001b[38;5;124m../../data/students.csv\u001b[39m\u001b[38;5;124m'\u001b[39m )\n\u001b[0;32m----> 3\u001b[0m ds[\u001b[38;5;124m'\u001b[39m\u001b[38;5;124mcourse_fee\u001b[39m\u001b[38;5;124m'\u001b[39m] \u001b[38;5;241m=\u001b[39m pd\u001b[38;5;241m.\u001b[39mto_numeric( ds[\u001b[38;5;124m'\u001b[39m\u001b[38;5;124mcourse_fee\u001b[39m\u001b[38;5;124m'\u001b[39m], errors\u001b[38;5;241m=\u001b[39m\u001b[38;5;124m'\u001b[39m\u001b[38;5;124mcoerce\u001b[39m\u001b[38;5;124m'\u001b[39m)\n",
      "File \u001b[0;32m~/anaconda3/lib/python3.12/site-packages/pandas/core/frame.py:4102\u001b[0m, in \u001b[0;36mDataFrame.__getitem__\u001b[0;34m(self, key)\u001b[0m\n\u001b[1;32m   4100\u001b[0m \u001b[38;5;28;01mif\u001b[39;00m \u001b[38;5;28mself\u001b[39m\u001b[38;5;241m.\u001b[39mcolumns\u001b[38;5;241m.\u001b[39mnlevels \u001b[38;5;241m>\u001b[39m \u001b[38;5;241m1\u001b[39m:\n\u001b[1;32m   4101\u001b[0m     \u001b[38;5;28;01mreturn\u001b[39;00m \u001b[38;5;28mself\u001b[39m\u001b[38;5;241m.\u001b[39m_getitem_multilevel(key)\n\u001b[0;32m-> 4102\u001b[0m indexer \u001b[38;5;241m=\u001b[39m \u001b[38;5;28mself\u001b[39m\u001b[38;5;241m.\u001b[39mcolumns\u001b[38;5;241m.\u001b[39mget_loc(key)\n\u001b[1;32m   4103\u001b[0m \u001b[38;5;28;01mif\u001b[39;00m is_integer(indexer):\n\u001b[1;32m   4104\u001b[0m     indexer \u001b[38;5;241m=\u001b[39m [indexer]\n",
      "File \u001b[0;32m~/anaconda3/lib/python3.12/site-packages/pandas/core/indexes/base.py:3812\u001b[0m, in \u001b[0;36mIndex.get_loc\u001b[0;34m(self, key)\u001b[0m\n\u001b[1;32m   3807\u001b[0m     \u001b[38;5;28;01mif\u001b[39;00m \u001b[38;5;28misinstance\u001b[39m(casted_key, \u001b[38;5;28mslice\u001b[39m) \u001b[38;5;129;01mor\u001b[39;00m (\n\u001b[1;32m   3808\u001b[0m         \u001b[38;5;28misinstance\u001b[39m(casted_key, abc\u001b[38;5;241m.\u001b[39mIterable)\n\u001b[1;32m   3809\u001b[0m         \u001b[38;5;129;01mand\u001b[39;00m \u001b[38;5;28many\u001b[39m(\u001b[38;5;28misinstance\u001b[39m(x, \u001b[38;5;28mslice\u001b[39m) \u001b[38;5;28;01mfor\u001b[39;00m x \u001b[38;5;129;01min\u001b[39;00m casted_key)\n\u001b[1;32m   3810\u001b[0m     ):\n\u001b[1;32m   3811\u001b[0m         \u001b[38;5;28;01mraise\u001b[39;00m InvalidIndexError(key)\n\u001b[0;32m-> 3812\u001b[0m     \u001b[38;5;28;01mraise\u001b[39;00m \u001b[38;5;167;01mKeyError\u001b[39;00m(key) \u001b[38;5;28;01mfrom\u001b[39;00m \u001b[38;5;21;01merr\u001b[39;00m\n\u001b[1;32m   3813\u001b[0m \u001b[38;5;28;01mexcept\u001b[39;00m \u001b[38;5;167;01mTypeError\u001b[39;00m:\n\u001b[1;32m   3814\u001b[0m     \u001b[38;5;66;03m# If we have a listlike key, _check_indexing_error will raise\u001b[39;00m\n\u001b[1;32m   3815\u001b[0m     \u001b[38;5;66;03m#  InvalidIndexError. Otherwise we fall through and re-raise\u001b[39;00m\n\u001b[1;32m   3816\u001b[0m     \u001b[38;5;66;03m#  the TypeError.\u001b[39;00m\n\u001b[1;32m   3817\u001b[0m     \u001b[38;5;28mself\u001b[39m\u001b[38;5;241m.\u001b[39m_check_indexing_error(key)\n",
      "\u001b[0;31mKeyError\u001b[0m: 'course_fee'"
     ]
    }
   ],
   "source": [
    "import pandas as pd \n",
    "ds =pd.read_csv('../../data/students.csv' )\n",
    "ds['course_fee'] = pd.to_numeric( ds['course_fee'], errors='coerce')"
   ]
  },
  {
   "cell_type": "code",
   "execution_count": null,
   "id": "6a699f8f",
   "metadata": {
    "lines_to_next_cell": 2
   },
   "outputs": [],
   "source": [
    "ds['admission_year'] = pd.to_datetime(df['admission_year'], errors='coerce')\n",
    "\n",
    "print(ds.dtypes)"
   ]
  },
  {
   "cell_type": "code",
   "execution_count": null,
   "id": "549fa20a",
   "metadata": {},
   "outputs": [],
   "source": [
    "# your code here"
   ]
  },
  {
   "cell_type": "code",
   "execution_count": null,
   "id": "0ebd2f7b",
   "metadata": {
    "lines_to_next_cell": 2
   },
   "outputs": [],
   "source": [
    "import pandas as pd \n",
    "ds =pd.read_csv('../../data/students.csv' )"
   ]
  },
  {
   "cell_type": "markdown",
   "id": "5c9b9c86",
   "metadata": {},
   "source": [
    "## **8. Fill Missing Values with a Specified Value or Method**\n",
    "\n",
    "Instead of **dropping** missing values, consider **replacing** them. For instance:\n",
    "\n",
    "-   A string like `\"Unknown\"` for missing text\n",
    "-   A **mean** or **median** for missing numeric columns\n",
    "-   A **forward** or **backward fill** if appropriate"
   ]
  },
  {
   "cell_type": "code",
   "execution_count": null,
   "id": "78b57f5d",
   "metadata": {
    "lines_to_next_cell": 2
   },
   "outputs": [],
   "source": [
    "# your code here"
   ]
  },
  {
   "cell_type": "code",
   "execution_count": null,
   "id": "ed35e041",
   "metadata": {
    "lines_to_next_cell": 2
   },
   "outputs": [],
   "source": [
    "# your code here"
   ]
  },
  {
   "cell_type": "code",
   "execution_count": null,
   "id": "d2f0b58b",
   "metadata": {},
   "outputs": [],
   "source": [
    "# your code here"
   ]
  },
  {
   "cell_type": "markdown",
   "id": "22ebe829",
   "metadata": {},
   "source": [
    "## **9. Drop Rows or Columns with Missing Values (If Needed)**\n",
    "\n",
    "After considering which values can be filled, you might choose to **remove** rows or columns that are missing too much data or can’t be fixed.\n",
    "\n",
    "**📝 Tip:** Decide carefully and confirm you don’t need the dropped information. Use `inplace=True` or keep a separate DataFrame if you want to preserve the original data."
   ]
  },
  {
   "cell_type": "code",
   "execution_count": null,
   "id": "92e7650f",
   "metadata": {
    "lines_to_next_cell": 2
   },
   "outputs": [],
   "source": [
    "import pandas as pd\n",
    "import numpy as np\n",
    "df =pd.read_csv('../../data/students.csv' )\n",
    "df_cleaned = df.dropna(axis=1)\n",
    "\n",
    "print(df_cleaned)"
   ]
  },
  {
   "cell_type": "code",
   "execution_count": null,
   "id": "08a7923f",
   "metadata": {
    "lines_to_next_cell": 2
   },
   "outputs": [],
   "source": [
    "import pandas as pd\n",
    "import numpy as np\n",
    "\n",
    "de=pd.read_json('../../data/enrollments.json')\n",
    "de_cleaned = de.dropna(axis=1)\n",
    "\n",
    "print(de_cleaned)"
   ]
  },
  {
   "cell_type": "code",
   "execution_count": null,
   "id": "d450d8e8",
   "metadata": {
    "lines_to_next_cell": 2
   },
   "outputs": [],
   "source": [
    "# your code here"
   ]
  },
  {
   "cell_type": "code",
   "execution_count": null,
   "id": "170d366e",
   "metadata": {},
   "outputs": [],
   "source": [
    "# your code here"
   ]
  },
  {
   "cell_type": "markdown",
   "id": "ea28c50f",
   "metadata": {},
   "source": [
    "## **10. Filter Rows Based on a Condition**\n",
    "\n",
    "Now that columns like `admission_year` and `course_fee` (or `current_gpa`) are numeric, experiment with filtering. For example:\n",
    "\n",
    "-   Students whose `admission_year` is after a certain date\n",
    "-   Enrollments for `Spring 2026`"
   ]
  },
  {
   "cell_type": "code",
   "execution_count": null,
   "id": "ba8fe133",
   "metadata": {
    "lines_to_next_cell": 2
   },
   "outputs": [],
   "source": [
    "import pandas as pd \n",
    "ds =pd.read_csv('../../data/students.csv' )\n",
    "ds_filtered = ds['admission_year'].dt.year > 2021"
   ]
  },
  {
   "cell_type": "code",
   "execution_count": null,
   "id": "11bc5b09",
   "metadata": {
    "lines_to_next_cell": 2
   },
   "outputs": [],
   "source": [
    "df_filtered = df['current_gpa'] >= 2.0\n",
    "print(df_filtered.info)"
   ]
  },
  {
   "cell_type": "code",
   "execution_count": null,
   "id": "f7960dd7",
   "metadata": {
    "lines_to_next_cell": 2
   },
   "outputs": [],
   "source": [
    "# your code here"
   ]
  },
  {
   "cell_type": "code",
   "execution_count": null,
   "id": "56f514d4",
   "metadata": {},
   "outputs": [],
   "source": [
    "# your code here"
   ]
  },
  {
   "cell_type": "markdown",
   "id": "4da1819e",
   "metadata": {},
   "source": [
    "## **11. Select Specific Columns from Each DataFrame**\n",
    "\n",
    "Often, you don’t need all columns at once. For instance, you might extract only:\n",
    "\n",
    "-   `\"student_id\"`, `\"First_Name\"`, `\"last_name\"`, and `\"current_gpa\"` from `students.csv`\n",
    "-   `\"stud_ref_id\"`, `\"course_title\"`, `\"instructor_name\"`, `\"course_fee\"` from `enrollments.json`"
   ]
  },
  {
   "cell_type": "code",
   "execution_count": null,
   "id": "872c92ae",
   "metadata": {
    "lines_to_next_cell": 2
   },
   "outputs": [],
   "source": [
    "import pandas as pd \n",
    "df =pd.read_csv('../../data/students.csv' )\n",
    "#print( df [['student_id', 'First_Name' , 'last_name'  ]])\n",
    "print( df [['student_id', 'First_Name', 'last_name' , 'current gpa']])"
   ]
  },
  {
   "cell_type": "code",
   "execution_count": null,
   "id": "d1677b96",
   "metadata": {
    "lines_to_next_cell": 2
   },
   "outputs": [],
   "source": [
    "# your code here"
   ]
  },
  {
   "cell_type": "code",
   "execution_count": null,
   "id": "37cc3834",
   "metadata": {
    "lines_to_next_cell": 2
   },
   "outputs": [],
   "source": [
    "# your code here"
   ]
  },
  {
   "cell_type": "code",
   "execution_count": null,
   "id": "490b379d",
   "metadata": {},
   "outputs": [],
   "source": [
    "# your code here"
   ]
  },
  {
   "cell_type": "markdown",
   "id": "012b0c54",
   "metadata": {},
   "source": [
    "## **12. Sort the DataFrame by One or More Columns**\n",
    "\n",
    "Sorting can help you identify which records have the highest or lowest values. For example:\n",
    "\n",
    "-   Sort the **students** DataFrame by `\"current_gpa\"` in descending order\n",
    "-   Sort the **enrollments** DataFrame by `\"course_fee\"` in ascending order\n",
    "\n",
    "**📝 Tip:** You can sort by multiple columns if needed.\n"
   ]
  },
  {
   "cell_type": "code",
   "execution_count": null,
   "id": "614f00fc",
   "metadata": {
    "lines_to_next_cell": 2
   },
   "outputs": [],
   "source": [
    "ds_sorted = ds.sort_values(by='current_gpa', ascending=False)\n",
    "print( ds_sorted)"
   ]
  },
  {
   "cell_type": "code",
   "execution_count": null,
   "id": "bdb4c756",
   "metadata": {
    "lines_to_next_cell": 2
   },
   "outputs": [],
   "source": [
    "de_sorted = pd.to_numeric(de.sort_values(by='course_fee'))\n",
    "print(de_sorted)"
   ]
  },
  {
   "cell_type": "code",
   "execution_count": null,
   "id": "fa08f341",
   "metadata": {
    "lines_to_next_cell": 2
   },
   "outputs": [],
   "source": [
    "# your code here"
   ]
  },
  {
   "cell_type": "code",
   "execution_count": null,
   "id": "89e0b245",
   "metadata": {},
   "outputs": [],
   "source": [
    "# your code here"
   ]
  },
  {
   "cell_type": "markdown",
   "id": "eb5d1e3f",
   "metadata": {},
   "source": [
    "## **13. Group Data by a Column and Compute Aggregate Functions**\n",
    "\n",
    "Grouping lets you see aggregated info by category. For example, group **students** by `\"majorField\"` and compute the average `\"current_gpa\"`. In **enrollments**, group by `\"instructor_name\"` and compute the average `\"course_fee\"`.\n",
    "\n",
    "**📝 Tip:** Aggregations might include `.mean()`, `.sum()`, `.count()`, etc."
   ]
  },
  {
   "cell_type": "code",
   "execution_count": null,
   "id": "518157a2",
   "metadata": {
    "lines_to_next_cell": 2
   },
   "outputs": [],
   "source": [
    "ds_grouped = ds.groupby('majorField')['current_gpa'].mean().reset_index()\n",
    "\n",
    "print(ds_grouped)"
   ]
  },
  {
   "cell_type": "code",
   "execution_count": null,
   "id": "37cb3a9a",
   "metadata": {
    "lines_to_next_cell": 2
   },
   "outputs": [],
   "source": [
    "ds_grouped = ds.groupby('instructor_name')['course_fee'].mean().reset_index()\n",
    "\n",
    "print(df_grouped)"
   ]
  },
  {
   "cell_type": "code",
   "execution_count": null,
   "id": "f691e36d",
   "metadata": {
    "lines_to_next_cell": 2
   },
   "outputs": [],
   "source": [
    "# your code here"
   ]
  },
  {
   "cell_type": "code",
   "execution_count": null,
   "id": "8cf82529",
   "metadata": {},
   "outputs": [],
   "source": [
    "# your code here"
   ]
  },
  {
   "cell_type": "markdown",
   "id": "523849b9",
   "metadata": {},
   "source": [
    "## **14. Apply a Custom Function**\n",
    "\n",
    "Define a normal Python function to transform data in a column. For example, title-case a name or uppercase a field. Apply that function to each element in the column.\n",
    "\n",
    "**📝 Tip:** If your function references another library call or has complex logic, define it above and then use `.apply(...)` with your function name. Once you've done this, see if you do this using lamda notation. "
   ]
  },
  {
   "cell_type": "code",
   "execution_count": null,
   "id": "b9714884",
   "metadata": {
    "lines_to_next_cell": 2
   },
   "outputs": [],
   "source": [
    "import pandas as pd\n",
    "\n",
    "de=pd.read_json('../../data/enrollments.json')\n",
    "de_title = de.title()\n",
    "\n",
    "print(de_title)"
   ]
  },
  {
   "cell_type": "code",
   "execution_count": null,
   "id": "aaf82dd3",
   "metadata": {
    "lines_to_next_cell": 2
   },
   "outputs": [],
   "source": [
    "# your code here"
   ]
  },
  {
   "cell_type": "code",
   "execution_count": null,
   "id": "77041ef8",
   "metadata": {
    "lines_to_next_cell": 2
   },
   "outputs": [],
   "source": [
    "# your code here"
   ]
  },
  {
   "cell_type": "code",
   "execution_count": null,
   "id": "65d5741a",
   "metadata": {},
   "outputs": [],
   "source": [
    "# your code here"
   ]
  },
  {
   "cell_type": "markdown",
   "id": "0c240863",
   "metadata": {},
   "source": [
    "## **15. Create a New Column Based on Existing Ones**\n",
    "\n",
    "Use existing columns to generate new ones. For instance, combine `\"First_Name\"` and `\"last_name\"` into `\"full_name\"`, or compute `\"fees_after_tax\"` in enrollments if you assume a tax rate."
   ]
  },
  {
   "cell_type": "code",
   "execution_count": null,
   "id": "9d7d945d",
   "metadata": {
    "lines_to_next_cell": 2
   },
   "outputs": [],
   "source": [
    "import pandas as pd \n",
    "ds =pd.read_csv('../../data/students.csv' )\n",
    "ds['Full_name']= ds['First_Name'] + ' ' + ds['last_name']\n",
    "print( ds)"
   ]
  },
  {
   "cell_type": "code",
   "execution_count": null,
   "id": "c0a7ed4a",
   "metadata": {
    "lines_to_next_cell": 2
   },
   "outputs": [],
   "source": [
    "# your code here"
   ]
  },
  {
   "cell_type": "raw",
   "id": "3a129d82-a547-473a-8516-e4c258d62582",
   "metadata": {
    "lines_to_next_cell": 2
   },
   "source": [
    "import pandas as pd \n",
    "de=pd.read_json('../../data/enrollments.json')\n",
    "print (de)\n",
    "\n",
    "def mul_value(s, value):\n",
    "    return s * value\n",
    "\n",
    "de['fees_after_tax']  = apply_to_columns(de, 'course_fee', mul_value, 1.1)\n",
    "print (de)\n",
    "print(de.info)\n"
   ]
  },
  {
   "cell_type": "code",
   "execution_count": null,
   "id": "ecc75bf3",
   "metadata": {},
   "outputs": [],
   "source": [
    "# your code here"
   ]
  },
  {
   "cell_type": "markdown",
   "id": "b6cceef0",
   "metadata": {},
   "source": [
    "## **16. Merge Two DataFrames on a Common Column**\n",
    "\n",
    "Combine `students.csv` and `enrollments.json` by matching:\n",
    "\n",
    "-   `stu[\"student_id\"]`\n",
    "-   `enr[\"stud_ref_id\"]` (or rename it first)\n",
    "\n",
    "Check the shape of the merged DataFrame afterward to ensure it merged as expected.\n"
   ]
  },
  {
   "cell_type": "code",
   "execution_count": null,
   "id": "c5564cfe",
   "metadata": {
    "lines_to_next_cell": 2
   },
   "outputs": [],
   "source": [
    "import pandas as pd \n",
    "de=pd.read_json('../../data/enrollments.json')\n",
    "ds =pd.read_csv('../../data/students.csv' )\n",
    "merged_ds = pd.merge(de, ds, left_on='stud_ref_id', right_on='student_id', how='inner')  # 'inner' keeps only matching IDs\n",
    "print(merged_ds)\n",
    "print(merged_ds.describe())\n"
   ]
  },
  {
   "cell_type": "code",
   "execution_count": null,
   "id": "ed1d7bcd",
   "metadata": {
    "lines_to_next_cell": 2
   },
   "outputs": [],
   "source": [
    "# your code here"
   ]
  },
  {
   "cell_type": "code",
   "execution_count": null,
   "id": "8dcfcaa6",
   "metadata": {
    "lines_to_next_cell": 2
   },
   "outputs": [],
   "source": [
    "# your code here"
   ]
  },
  {
   "cell_type": "code",
   "execution_count": null,
   "id": "e289eda7",
   "metadata": {},
   "outputs": [],
   "source": [
    "# your code here"
   ]
  },
  {
   "cell_type": "markdown",
   "id": "f551624a",
   "metadata": {},
   "source": [
    "## **17. Remove Duplicate Rows**\n",
    "\n",
    "When merging or concatenating multiple files, duplicates can crop up. Identify them and remove if needed. This might be especially important if the same student or enrollment is listed more than once."
   ]
  },
  {
   "cell_type": "code",
   "execution_count": null,
   "id": "2e45dae4",
   "metadata": {
    "lines_to_next_cell": 2
   },
   "outputs": [],
   "source": [
    "# your code here"
   ]
  },
  {
   "cell_type": "code",
   "execution_count": null,
   "id": "684d5e9e",
   "metadata": {
    "lines_to_next_cell": 2
   },
   "outputs": [],
   "source": [
    "ds_unique = merged_ds.drop_duplicates()\n",
    "\n",
    "print( ds_unique)"
   ]
  },
  {
   "cell_type": "code",
   "execution_count": null,
   "id": "a0a4913f",
   "metadata": {
    "lines_to_next_cell": 2
   },
   "outputs": [],
   "source": [
    "# your code here"
   ]
  },
  {
   "cell_type": "code",
   "execution_count": null,
   "id": "3e440ade",
   "metadata": {},
   "outputs": [],
   "source": [
    "# your code here"
   ]
  },
  {
   "cell_type": "markdown",
   "id": "ab305393",
   "metadata": {},
   "source": [
    "## **18. Additional Data Cleaning**\n",
    "\n",
    "Now that you’ve merged or manipulated your data, do a quick final pass:\n",
    "\n",
    "-   Fix any remaining oddities (e.g., negative phone numbers or impossible dates)\n",
    "-   Normalize columns further (e.g., standardize text formatting)\n",
    "\n",
    "**📝 Tip:** You might revisit previous steps if new issues appear.\n"
   ]
  },
  {
   "cell_type": "code",
   "execution_count": 18,
   "id": "9622883a",
   "metadata": {
    "lines_to_next_cell": 2
   },
   "outputs": [
    {
     "ename": "ValueError",
     "evalue": "Columns must be same length as key",
     "output_type": "error",
     "traceback": [
      "\u001b[0;31m---------------------------------------------------------------------------\u001b[0m",
      "\u001b[0;31mValueError\u001b[0m                                Traceback (most recent call last)",
      "\u001b[0;32m/tmp/ipykernel_8424/322096954.py\u001b[0m in \u001b[0;36m?\u001b[0;34m()\u001b[0m\n\u001b[1;32m     22\u001b[0m \u001b[0;34m\u001b[0m\u001b[0m\n\u001b[1;32m     23\u001b[0m \u001b[0;32mdef\u001b[0m \u001b[0mpos_value\u001b[0m\u001b[0;34m(\u001b[0m\u001b[0mvalue\u001b[0m\u001b[0;34m)\u001b[0m\u001b[0;34m:\u001b[0m\u001b[0;34m\u001b[0m\u001b[0;34m\u001b[0m\u001b[0m\n\u001b[1;32m     24\u001b[0m     \u001b[0;32mreturn\u001b[0m \u001b[0mvalue\u001b[0m \u001b[0;32mif\u001b[0m \u001b[0mvalue\u001b[0m \u001b[0;34m>\u001b[0m \u001b[0;36m0\u001b[0m \u001b[0;32melse\u001b[0m \u001b[0;34m-\u001b[0m\u001b[0mvalue\u001b[0m\u001b[0;34m\u001b[0m\u001b[0;34m\u001b[0m\u001b[0m\n\u001b[1;32m     25\u001b[0m \u001b[0;34m\u001b[0m\u001b[0m\n\u001b[0;32m---> 26\u001b[0;31m \u001b[0mds\u001b[0m\u001b[0;34m[\u001b[0m\u001b[0;34m'mobile number'\u001b[0m\u001b[0;34m]\u001b[0m \u001b[0;34m=\u001b[0m \u001b[0mapply_to_columns\u001b[0m\u001b[0;34m(\u001b[0m \u001b[0mds\u001b[0m\u001b[0;34m,\u001b[0m \u001b[0;34m'mobile number'\u001b[0m\u001b[0;34m,\u001b[0m \u001b[0mpos_value\u001b[0m \u001b[0;34m)\u001b[0m\u001b[0;34m\u001b[0m\u001b[0;34m\u001b[0m\u001b[0m\n\u001b[0m",
      "\u001b[0;32m~/anaconda3/lib/python3.12/site-packages/pandas/core/frame.py\u001b[0m in \u001b[0;36m?\u001b[0;34m(self, key, value)\u001b[0m\n\u001b[1;32m   4297\u001b[0m             \u001b[0mself\u001b[0m\u001b[0;34m.\u001b[0m\u001b[0m_setitem_frame\u001b[0m\u001b[0;34m(\u001b[0m\u001b[0mkey\u001b[0m\u001b[0;34m,\u001b[0m \u001b[0mvalue\u001b[0m\u001b[0;34m)\u001b[0m\u001b[0;34m\u001b[0m\u001b[0;34m\u001b[0m\u001b[0m\n\u001b[1;32m   4298\u001b[0m         \u001b[0;32melif\u001b[0m \u001b[0misinstance\u001b[0m\u001b[0;34m(\u001b[0m\u001b[0mkey\u001b[0m\u001b[0;34m,\u001b[0m \u001b[0;34m(\u001b[0m\u001b[0mSeries\u001b[0m\u001b[0;34m,\u001b[0m \u001b[0mnp\u001b[0m\u001b[0;34m.\u001b[0m\u001b[0mndarray\u001b[0m\u001b[0;34m,\u001b[0m \u001b[0mlist\u001b[0m\u001b[0;34m,\u001b[0m \u001b[0mIndex\u001b[0m\u001b[0;34m)\u001b[0m\u001b[0;34m)\u001b[0m\u001b[0;34m:\u001b[0m\u001b[0;34m\u001b[0m\u001b[0;34m\u001b[0m\u001b[0m\n\u001b[1;32m   4299\u001b[0m             \u001b[0mself\u001b[0m\u001b[0;34m.\u001b[0m\u001b[0m_setitem_array\u001b[0m\u001b[0;34m(\u001b[0m\u001b[0mkey\u001b[0m\u001b[0;34m,\u001b[0m \u001b[0mvalue\u001b[0m\u001b[0;34m)\u001b[0m\u001b[0;34m\u001b[0m\u001b[0;34m\u001b[0m\u001b[0m\n\u001b[1;32m   4300\u001b[0m         \u001b[0;32melif\u001b[0m \u001b[0misinstance\u001b[0m\u001b[0;34m(\u001b[0m\u001b[0mvalue\u001b[0m\u001b[0;34m,\u001b[0m \u001b[0mDataFrame\u001b[0m\u001b[0;34m)\u001b[0m\u001b[0;34m:\u001b[0m\u001b[0;34m\u001b[0m\u001b[0;34m\u001b[0m\u001b[0m\n\u001b[0;32m-> 4301\u001b[0;31m             \u001b[0mself\u001b[0m\u001b[0;34m.\u001b[0m\u001b[0m_set_item_frame_value\u001b[0m\u001b[0;34m(\u001b[0m\u001b[0mkey\u001b[0m\u001b[0;34m,\u001b[0m \u001b[0mvalue\u001b[0m\u001b[0;34m)\u001b[0m\u001b[0;34m\u001b[0m\u001b[0;34m\u001b[0m\u001b[0m\n\u001b[0m\u001b[1;32m   4302\u001b[0m         elif (\n\u001b[1;32m   4303\u001b[0m             \u001b[0mis_list_like\u001b[0m\u001b[0;34m(\u001b[0m\u001b[0mvalue\u001b[0m\u001b[0;34m)\u001b[0m\u001b[0;34m\u001b[0m\u001b[0;34m\u001b[0m\u001b[0m\n\u001b[1;32m   4304\u001b[0m             \u001b[0;32mand\u001b[0m \u001b[0;32mnot\u001b[0m \u001b[0mself\u001b[0m\u001b[0;34m.\u001b[0m\u001b[0mcolumns\u001b[0m\u001b[0;34m.\u001b[0m\u001b[0mis_unique\u001b[0m\u001b[0;34m\u001b[0m\u001b[0;34m\u001b[0m\u001b[0m\n",
      "\u001b[0;32m~/anaconda3/lib/python3.12/site-packages/pandas/core/frame.py\u001b[0m in \u001b[0;36m?\u001b[0;34m(self, key, value)\u001b[0m\n\u001b[1;32m   4425\u001b[0m             \u001b[0mloc\u001b[0m \u001b[0;34m=\u001b[0m \u001b[0mself\u001b[0m\u001b[0;34m.\u001b[0m\u001b[0mcolumns\u001b[0m\u001b[0;34m.\u001b[0m\u001b[0mget_loc\u001b[0m\u001b[0;34m(\u001b[0m\u001b[0mkey\u001b[0m\u001b[0;34m)\u001b[0m\u001b[0;34m\u001b[0m\u001b[0;34m\u001b[0m\u001b[0m\n\u001b[1;32m   4426\u001b[0m             \u001b[0mcols\u001b[0m \u001b[0;34m=\u001b[0m \u001b[0mself\u001b[0m\u001b[0;34m.\u001b[0m\u001b[0mcolumns\u001b[0m\u001b[0;34m[\u001b[0m\u001b[0mloc\u001b[0m\u001b[0;34m]\u001b[0m\u001b[0;34m\u001b[0m\u001b[0;34m\u001b[0m\u001b[0m\n\u001b[1;32m   4427\u001b[0m             \u001b[0mlen_cols\u001b[0m \u001b[0;34m=\u001b[0m \u001b[0;36m1\u001b[0m \u001b[0;32mif\u001b[0m \u001b[0mis_scalar\u001b[0m\u001b[0;34m(\u001b[0m\u001b[0mcols\u001b[0m\u001b[0;34m)\u001b[0m \u001b[0;32mor\u001b[0m \u001b[0misinstance\u001b[0m\u001b[0;34m(\u001b[0m\u001b[0mcols\u001b[0m\u001b[0;34m,\u001b[0m \u001b[0mtuple\u001b[0m\u001b[0;34m)\u001b[0m \u001b[0;32melse\u001b[0m \u001b[0mlen\u001b[0m\u001b[0;34m(\u001b[0m\u001b[0mcols\u001b[0m\u001b[0;34m)\u001b[0m\u001b[0;34m\u001b[0m\u001b[0;34m\u001b[0m\u001b[0m\n\u001b[1;32m   4428\u001b[0m             \u001b[0;32mif\u001b[0m \u001b[0mlen_cols\u001b[0m \u001b[0;34m!=\u001b[0m \u001b[0mlen\u001b[0m\u001b[0;34m(\u001b[0m\u001b[0mvalue\u001b[0m\u001b[0;34m.\u001b[0m\u001b[0mcolumns\u001b[0m\u001b[0;34m)\u001b[0m\u001b[0;34m:\u001b[0m\u001b[0;34m\u001b[0m\u001b[0;34m\u001b[0m\u001b[0m\n\u001b[0;32m-> 4429\u001b[0;31m                 \u001b[0;32mraise\u001b[0m \u001b[0mValueError\u001b[0m\u001b[0;34m(\u001b[0m\u001b[0;34m\"Columns must be same length as key\"\u001b[0m\u001b[0;34m)\u001b[0m\u001b[0;34m\u001b[0m\u001b[0;34m\u001b[0m\u001b[0m\n\u001b[0m\u001b[1;32m   4430\u001b[0m \u001b[0;34m\u001b[0m\u001b[0m\n\u001b[1;32m   4431\u001b[0m             \u001b[0;31m# align right-hand-side columns if self.columns\u001b[0m\u001b[0;34m\u001b[0m\u001b[0;34m\u001b[0m\u001b[0m\n\u001b[1;32m   4432\u001b[0m             \u001b[0;31m# is multi-index and self[key] is a sub-frame\u001b[0m\u001b[0;34m\u001b[0m\u001b[0;34m\u001b[0m\u001b[0m\n",
      "\u001b[0;31mValueError\u001b[0m: Columns must be same length as key"
     ]
    }
   ],
   "source": [
    "import pandas as pd \n",
    "de=pd.read_json('../../data/enrollments.json')\n",
    "ds =pd.read_csv('../../data/students.csv' )\n",
    "def apply_to_columns(df, columns, func, *args, **kwargs):\n",
    "    \"\"\"\n",
    "    Applies a function to specified columns of a DataFrame.\n",
    "\n",
    "    Parameters:\n",
    "    - df: pandas.DataFrame - Input DataFrame.\n",
    "    - columns: list - List of column names to apply the function to.\n",
    "    - func: callable - Function to apply to each column (takes a Series and returns a Series).\n",
    "    - *args, **kwargs: Additional arguments and keyword arguments for 'func'.\n",
    "\n",
    "    Returns:\n",
    "    - pandas.DataFrame: A new DataFrame with transformed columns.\n",
    "    \"\"\"\n",
    "    df_copy = df.copy()\n",
    "    for col in columns:\n",
    "        if col in df_copy.columns:\n",
    "            df_copy[col] = func(df_copy[col], *args, **kwargs)\n",
    "    return df_copy\n",
    "    \n",
    "def pos_value(value):\n",
    "    return value if value > 0 else -value \n",
    "    \n",
    "ds['mobile number'] = apply_to_columns( ds, 'mobile number', pos_value, )\n"
   ]
  },
  {
   "cell_type": "code",
   "execution_count": null,
   "id": "1a9e28f4",
   "metadata": {
    "lines_to_next_cell": 2
   },
   "outputs": [],
   "source": [
    "# your code here"
   ]
  },
  {
   "cell_type": "code",
   "execution_count": null,
   "id": "3237121b",
   "metadata": {
    "lines_to_next_cell": 2
   },
   "outputs": [],
   "source": [
    "# your code here"
   ]
  },
  {
   "cell_type": "code",
   "execution_count": null,
   "id": "29c0d156",
   "metadata": {},
   "outputs": [],
   "source": [
    "# your code here"
   ]
  },
  {
   "cell_type": "markdown",
   "id": "33c2ac37",
   "metadata": {},
   "source": [
    "## **19. Save the Cleaned and Merged DataFrame to a New CSV File**\n",
    "\n",
    "Finally, when you’re satisfied with your cleaned data, save it. Remember to avoid writing the index as a separate column unless you want it."
   ]
  },
  {
   "cell_type": "code",
   "execution_count": null,
   "id": "64986045",
   "metadata": {
    "lines_to_next_cell": 2
   },
   "outputs": [],
   "source": [
    "import pandas as pd \n",
    "de=pd.read_json('../../data/enrollments.json')\n",
    "df =pd.read_csv('../../data/students.csv' )"
   ]
  },
  {
   "cell_type": "code",
   "execution_count": null,
   "id": "afe950ec",
   "metadata": {
    "lines_to_next_cell": 2
   },
   "outputs": [],
   "source": [
    "# your code here"
   ]
  },
  {
   "cell_type": "code",
   "execution_count": null,
   "id": "c8a656d5",
   "metadata": {
    "lines_to_next_cell": 2
   },
   "outputs": [],
   "source": [
    "# your code here"
   ]
  },
  {
   "cell_type": "code",
   "execution_count": null,
   "id": "bf520a67",
   "metadata": {},
   "outputs": [],
   "source": [
    "# your code here"
   ]
  },
  {
   "cell_type": "markdown",
   "id": "462cdf88",
   "metadata": {},
   "source": [
    "## **20. Explore Further Analyses (Optional)**\n",
    "\n",
    "Now that your data is in great shape, try some optional challenges:\n",
    "\n",
    "-   Generate charts or visualizations\n",
    "-   Perform advanced filtering or grouping\n",
    "-   Create pivot tables\n",
    "-   Or anything else that interests you!"
   ]
  },
  {
   "cell_type": "code",
   "execution_count": 15,
   "id": "da0f2e54",
   "metadata": {
    "lines_to_next_cell": 2
   },
   "outputs": [],
   "source": [
    "import pandas as pd \n",
    "de = pd.read_json('../../data/enrollments.json')\n",
    "ds = pd.read_csv('../../data/students.csv' )"
   ]
  },
  {
   "cell_type": "code",
   "execution_count": null,
   "id": "5df20082",
   "metadata": {
    "lines_to_next_cell": 2
   },
   "outputs": [],
   "source": [
    "# your code here"
   ]
  },
  {
   "cell_type": "code",
   "execution_count": null,
   "id": "0c779f95",
   "metadata": {
    "lines_to_next_cell": 2
   },
   "outputs": [],
   "source": [
    "# your code here"
   ]
  },
  {
   "cell_type": "code",
   "execution_count": null,
   "id": "f8fdd8d4",
   "metadata": {},
   "outputs": [],
   "source": [
    "# your code here"
   ]
  },
  {
   "cell_type": "markdown",
   "id": "c8006fdd",
   "metadata": {},
   "source": [
    "**🎉 Congratulations!** You’ve now tackled **data cleaning** and many essential **Pandas** operations in `students.csv` and `enrollments.json`. Keep experimenting to sharpen your **data manipulation skills** and unlock deeper insights! 💪"
   ]
  },
  {
   "cell_type": "markdown",
   "id": "16cb0e1d-5f48-4da4-99cb-179e58b862ac",
   "metadata": {},
   "source": []
  },
  {
   "cell_type": "code",
   "execution_count": null,
   "id": "66baf0fb-eb2b-46b0-bd90-c0c9ecbf2954",
   "metadata": {},
   "outputs": [],
   "source": []
  },
  {
   "cell_type": "code",
   "execution_count": null,
   "id": "e2b45d89-b6ac-488b-8c21-b42d6264c3c9",
   "metadata": {},
   "outputs": [],
   "source": []
  }
 ],
 "metadata": {
  "jupytext": {
   "cell_metadata_filter": "-all",
   "main_language": "python",
   "notebook_metadata_filter": "-all"
  },
  "kernelspec": {
   "display_name": "Python 3 (ipykernel)",
   "language": "python",
   "name": "python3"
  },
  "language_info": {
   "codemirror_mode": {
    "name": "ipython",
    "version": 3
   },
   "file_extension": ".py",
   "mimetype": "text/x-python",
   "name": "python",
   "nbconvert_exporter": "python",
   "pygments_lexer": "ipython3",
   "version": "3.12.7"
  }
 },
 "nbformat": 4,
 "nbformat_minor": 5
}
